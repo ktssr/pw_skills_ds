{
  "nbformat": 4,
  "nbformat_minor": 0,
  "metadata": {
    "colab": {
      "provenance": []
    },
    "kernelspec": {
      "name": "python3",
      "display_name": "Python 3"
    },
    "language_info": {
      "name": "python"
    }
  },
  "cells": [
    {
      "cell_type": "markdown",
      "source": [
        "#Python Basics"
      ],
      "metadata": {
        "id": "Gf3qacreZNAo"
      }
    },
    {
      "cell_type": "markdown",
      "source": [
        "1. What is Object-Oriented Programming (OOP)?\n",
        "  - Object oriented program is a programming paradimn. OOP makes it easier to write and maintain the code. Following are the concepts in OOP.\n",
        "    - Object: Simulation of real world entities which contains attributes(data) and methods to work with these attributes:\n",
        "    - Class: Template which defines the structure of object. i.e it defines what attributes and methods the object should contain.\n",
        "    - Inheritence: Ability to create child classes. If there are two classes say A and B, and B has the same attributes/methods as A along with other attributes/methods. Inheritance allows B to specify A as its parent so that it gets all the data from A which avoids code redundency.\n",
        "    - Abstraction: By using OOP we can hide the unnecessary things like(implementation details) and expose only what is needed for the consuming user.\n",
        "    - Encapsulation: Wrapping of data and methods in a single unit.\n",
        "    - Polymorphism: It is a way in which object take different form depending on the data it works with. For Ex, \"+\" operator acts as additon for numeric data and concatatenation for string data.\n",
        "\n",
        "\n",
        "2. What is a class in OOP?\n",
        "  - Class is a template that defines the structure of object. i.e it defines what attributes and methods the object should contain. Many objects can be created using the class and each object will have it's own data in the format specified by the class.\n",
        "\n",
        "3. What is an object in OOP?\n",
        "  -  Object is simulation of realion world entities. Objects  contains attributes(data) and methods to work with these attributes. The structure of the object is defined using a class\n",
        "\n",
        "4. What is the difference between abstraction and encapsulation?\n",
        "  - Abstraction makes the complex information simple by hiding the unnecessary details where as encapsulation grouping the attributes and methods togeather in a object to protect the data and control its access/modification.\n",
        "\n",
        "5. What are dunder methods in Python+\n",
        "  - dunder(double underscore) methods are special methods provided by python. Every dunder method has it's own purpose. Below are the few dunder methods.\n",
        "    - __init__(): Called when the object is created\n",
        "    - __str__(): When the object is printed, it will print whatever this method returns. By defaulit it will print the memory address of an object in hexadecimal format\n",
        "    - __call__(): This magic method will be called when the object is called like a function using paranthesis\n",
        "\n",
        "6. Explain the concept of inheritance in OOP?\n",
        "  - Inheritance is the concept in which one class can extend other class. The extending class is called child class and the class being extended is called parent class. The child class will have acces to all the public and protected data(attributes/methods) of the parent class. Child classes have the abililty to override the data of the parent classes.\n",
        "\n",
        "7. What is polymorphism in OOP?\n",
        "  - Polymorphism means many forms. It allows an object to behave in different ways based on the data. For Ex, \"+\" operator acts as additon for numeric data and concatatenation for string data.\n",
        "    - Compile time polymorphism: Method or operator overriding. During the compile time itself the implementation will be decided based on the data the method or operator is working with.\n",
        "    - Run time Polymorphism: Method overloading. During run time python will know which method to call based on the object on which the method is called.\n",
        "\n",
        "8. How is encapsulation achieved in Python?\n",
        "  - Encapsulation in Python is achieved by defining classes that group related data and methods. Access modifiers like private (`__var`) and protected (`_var`) are used to control the access of data. This protects the internal state of the object and provides methods to safely modify or retrieve the data.\n",
        "\n",
        "9. What is a constructor in Python?\n",
        "  - Constructor is a special method called `__init__()` in Python. It is automatically called when an object is created from a class. It is used to initialize the data members of the class.\n",
        "\n",
        "10. What are class and static methods in Python?\n",
        "  - Class methods are defined using `@classmethod` and take `cls` as the first parameter. They can access and modify class-level data. Static methods are defined using `@staticmethod` and do not take `self` or `cls` as parameter. They are like regular functions inside the class which do not modify object or class level data.\n",
        "\n",
        "11. What is method overloading in Python?\n",
        "  - Method overloading means creating multiple methods with the same name but different parameters. Python does not support method overloading by default. We can achieve it using default arguments or `*args` and `**kwargs` to handle different inputs.\n",
        "\n",
        "12. What is method overriding in OOP?\n",
        "  - Method overriding is when a child class defines a method with the same name as the method in the parent class. This allows the child class to provide its own implementation and override the parent class method.\n",
        "\n",
        "13. What is a property decorator in Python?\n",
        "  - Property decorator `@property` is used to define a method that can be accessed like an attribute. It is mainly used to control access to instance data by adding getter, setter, and deleter methods using `@property`, `@<property_name>.setter`, and `@<property_name>.deleter`.\n",
        "\n",
        "14. Why is polymorphism important in OOP?\n",
        "  - Polymorphism helps objects to take different forms. It allows functions and methods to use objects of different types with a common interface. It improves flexibility and code reusability.\n",
        "\n",
        "15. What is an abstract class in Python?\n",
        "  - Abstract class is a class that cannot be instantiated. It is used as a blueprint for other classes. It is defined using `abc` module and has at least one abstract method using `@abstractmethod` decorator.\n",
        "\n",
        "16. What are the advantages of OOP?\n",
        "  - Advantages of OOP:\n",
        "    - Code reusability using inheritance\n",
        "    - Data hiding and access control using encapsulation\n",
        "    - Better organization using classes and objects\n",
        "    - Flexibility using polymorphism\n",
        "    - Easy to maintain and debug the code\n",
        "\n",
        "17. What is the difference between a class variable and an instance variable?\n",
        "  - Class variable is shared among all objects of the class. It is defined outside any method. Instance variable is specific to the object and defined inside `__init__()` using `self`.\n",
        "\n",
        "18. What is multiple inheritance in Python?\n",
        "  - Multiple inheritance is when a class inherits from more than one parent class. This allows the child class to access attributes and methods from all the parent classes. If method with same name exists in multiple parents then it is called diamond problem. Python uses method resolution order(MRO) algorithm called C3 linearization(method from the class inherited first will be called) to resolve diamond problem.\n",
        "\n",
        "19. Explain the purpose of `__str__` and `__repr__` methods in Python?\n",
        "  - `__str__()` is used to return a user-friendly string representation of the object. It is called by `print()`.  \n",
        "  - `__repr__()` is used to return an unambiguous string representation of the object useful for debugging. It is called by `repr()` or in interactive mode. This is\n",
        "\n",
        "20. What is the significance of the `super()` function in Python?\n",
        "  - `super()` is used to call methods from the parent class. It is useful in method overriding to call the parent method from the child class and avoid hardcoding the parent class name.\n",
        "\n",
        "21. What is the significance of the `__del__` method in Python?\n",
        "  - `__del__()` is a destructor method that is called when the object is about to be destroyed. It is used to clean up resources or perform cleanup tasks when the object is deleted.\n",
        "\n",
        "22. What is the difference between `@staticmethod` and `@classmethod` in Python?\n",
        "  - `@staticmethod` does not access or modify class or instance data. It behaves like a regular function inside the class.\n",
        "  - `@classmethod` takes `cls` as a parameter and can access and modify class-level data.\n",
        "\n",
        "23. How does polymorphism work in Python with inheritance?\n",
        "  - In inheritance, polymorphism allows a child class to provide its own version of a method defined in the parent class. At runtime, the method that gets executed depends on the type of the object. It helps in writing code that works with objects of multiple classes.\n",
        "\n",
        "24. What is method chaining in Python OOP?\n",
        "  - Method chaining is a technique where multiple methods are called on the same object in a single line. Each method returns the object itself using `return self`, so the next method can be called on it.\n",
        "\n",
        "25. What is the purpose of the `__call__` method in Python?\n",
        "  - `__call__()` is a dunder method that allows an object to be called like a function using parentheses. This is useful to make objects behave like functions.\n"
      ],
      "metadata": {
        "id": "DsQD068RZM-z"
      }
    },
    {
      "cell_type": "markdown",
      "source": [
        "## 1. Create a parent class Animal with a method speak() that prints a generic message. Create a child class Dog that overrides the speak() method to print \"Bark!\"."
      ],
      "metadata": {
        "id": "Wdop_s-mnfcH"
      }
    },
    {
      "cell_type": "code",
      "execution_count": 1,
      "metadata": {
        "id": "Y8J2Y727ZGzq",
        "colab": {
          "base_uri": "https://localhost:8080/"
        },
        "outputId": "1a1ef85a-e331-4af5-e8bd-63e75d77efc5"
      },
      "outputs": [
        {
          "output_type": "stream",
          "name": "stdout",
          "text": [
            "Generic animal sound\n",
            "Bark!\n"
          ]
        }
      ],
      "source": [
        "class Animal:\n",
        "  def speak(self):\n",
        "    print(\"Generic animal sound\")\n",
        "\n",
        "class Dog(Animal):\n",
        "  def speak(self):\n",
        "    print(\"Bark!\")\n",
        "\n",
        "animal = Animal()\n",
        "animal.speak()\n",
        "\n",
        "dog = Dog()\n",
        "dog.speak()\n"
      ]
    },
    {
      "cell_type": "markdown",
      "source": [
        "## 2. Write a program to create an abstract class Shape with a method area(). Derive classes Circle and Rectangle from it and implement the area() method in both."
      ],
      "metadata": {
        "id": "jZs19t45oXSU"
      }
    },
    {
      "cell_type": "code",
      "source": [
        "from abc import ABC, abstractmethod\n",
        "\n",
        "class Shape(ABC):\n",
        "    @abstractmethod\n",
        "    def area(self):\n",
        "        pass\n",
        "\n",
        "class Circle(Shape):\n",
        "    def __init__(self, radius):\n",
        "        self.radius = radius\n",
        "\n",
        "    def area(self):\n",
        "        return 3.141 * (self.radius ** 2)\n",
        "\n",
        "class Rectangle(Shape):\n",
        "    def __init__(self, width, height):\n",
        "        self.width = width\n",
        "        self.height = height\n",
        "\n",
        "    def area(self):\n",
        "        return self.width * self.height\n",
        "\n",
        "circle = Circle(5)\n",
        "print(\"Circle area:\", circle.area())\n",
        "\n",
        "rectangle = Rectangle(4, 6)\n",
        "print(\"Rectangle area:\", rectangle.area())"
      ],
      "metadata": {
        "colab": {
          "base_uri": "https://localhost:8080/"
        },
        "id": "AlyntujHokIp",
        "outputId": "bb4a48dd-14c5-4512-f2a0-78ed6189d038"
      },
      "execution_count": 2,
      "outputs": [
        {
          "output_type": "stream",
          "name": "stdout",
          "text": [
            "Circle area: 78.525\n",
            "Rectangle area: 24\n"
          ]
        }
      ]
    },
    {
      "cell_type": "markdown",
      "source": [
        "## 3. Implement a multi-level inheritance scenario where a class Vehicle has an attribute type. Derive a class Car and further derive a class ElectricCar that adds a battery attribute."
      ],
      "metadata": {
        "id": "Cnh9HA18oylb"
      }
    },
    {
      "cell_type": "code",
      "source": [
        "class Vehicle:\n",
        "  def __init__(self, type):\n",
        "    self.type = type\n",
        "  def get_type(self):\n",
        "    return self.type\n",
        "\n",
        "class Car(Vehicle):\n",
        "  def __init__(self, type, model):\n",
        "    super().__init__(type)\n",
        "    self.model = model\n",
        "  def get_model(self):\n",
        "    return self.model\n",
        "\n",
        "class ElectricCar(Car):\n",
        "  def __init__(self, type, model, battery):\n",
        "    super().__init__(type, model)\n",
        "    self.battery = battery\n",
        "  def get_battery(self):\n",
        "    return self.battery\n",
        "\n",
        "car = Car(\"Car\", \"Sedan\")\n",
        "print(\"Car type:\", car.get_type())\n",
        "print(\"Car model:\", car.get_model())\n",
        "\n",
        "electric_car = ElectricCar(\"Electric Car\", \"SUV\", \"Li-ion\")\n",
        "print(\"Electric car type:\", electric_car.get_type())\n",
        "print(\"Electric car model:\", electric_car.get_model())\n",
        "\n"
      ],
      "metadata": {
        "colab": {
          "base_uri": "https://localhost:8080/"
        },
        "id": "WZ2vRd4Yo3Bm",
        "outputId": "b1b50f31-1948-44b3-fcf5-1939d4d64e26"
      },
      "execution_count": 7,
      "outputs": [
        {
          "output_type": "stream",
          "name": "stdout",
          "text": [
            "Car type: Car\n",
            "Car model: Sedan\n",
            "Electric car type: Electric Car\n",
            "Electric car model: SUV\n"
          ]
        }
      ]
    },
    {
      "cell_type": "markdown",
      "source": [
        "\n",
        "## 4. Demonstrate polymorphism by creating a base class Bird with a method fly(). Create two derived classes Sparrow and Penguin that override the fly() method."
      ],
      "metadata": {
        "id": "vtJLWYUUpEI6"
      }
    },
    {
      "cell_type": "code",
      "source": [
        "class Bird:\n",
        "    def fly(self):\n",
        "        print(\"Generic bird flying\")\n",
        "\n",
        "class Sparrow(Bird):\n",
        "    def fly(self):\n",
        "        print(\"Sparrow is flying high\")\n",
        "\n",
        "class Penguin(Bird):\n",
        "    def fly(self):\n",
        "        print(\"Penguin cannot fly\")\n",
        "\n",
        "sparrow = Sparrow()\n",
        "sparrow.fly()\n",
        "\n",
        "penguin = Penguin()\n",
        "penguin.fly()\n"
      ],
      "metadata": {
        "colab": {
          "base_uri": "https://localhost:8080/"
        },
        "id": "v5sYUTdspIkd",
        "outputId": "ba5162f5-7616-47a1-af18-753066713fcb"
      },
      "execution_count": 4,
      "outputs": [
        {
          "output_type": "stream",
          "name": "stdout",
          "text": [
            "Sparrow is flying high\n",
            "Penguin cannot fly\n"
          ]
        }
      ]
    },
    {
      "cell_type": "markdown",
      "source": [
        "## 5. Write a program to demonstrate encapsulation by creating a class BankAccount with private attributes balance and methods to deposit, withdraw, and check balance."
      ],
      "metadata": {
        "id": "Jg2lMRwhpVQC"
      }
    },
    {
      "cell_type": "code",
      "source": [
        "class BankAccount:\n",
        "    def __init__(self, initial_balance=0):\n",
        "        self.__balance = initial_balance\n",
        "    def deposit(self, amount):\n",
        "        if amount > 0:\n",
        "            self.__balance += amount\n",
        "            print(f\"Deposited {amount}. New balance: {self.__balance}\")\n",
        "        else:\n",
        "            print(\"Invalid deposit amount.\")\n",
        "\n",
        "    def withdraw(self, amount):\n",
        "        if 0 < amount <= self.__balance:\n",
        "            self.__balance -= amount\n",
        "            print(f\"Withdrew {amount}. New balance: {self.__balance}\")\n",
        "        else:\n",
        "            print(\"Insufficient funds or invalid withdrawal amount.\")\n",
        "\n",
        "    def check_balance(self):\n",
        "        print(f\"Current balance: {self.__balance}\")\n",
        "\n",
        "account = BankAccount(1000)\n",
        "account.deposit(500)\n",
        "account.withdraw(200)\n",
        "account.check_balance()\n",
        "account.withdraw(1500)\n",
        "account.deposit(-100)"
      ],
      "metadata": {
        "colab": {
          "base_uri": "https://localhost:8080/"
        },
        "id": "7aj7ETzbpgKd",
        "outputId": "b3c4a0a7-d70d-47ed-e7e4-7a4f1b24d963"
      },
      "execution_count": 5,
      "outputs": [
        {
          "output_type": "stream",
          "name": "stdout",
          "text": [
            "Deposited 500. New balance: 1500\n",
            "Withdrew 200. New balance: 1300\n",
            "Current balance: 1300\n",
            "Insufficient funds or invalid withdrawal amount.\n",
            "Invalid deposit amount.\n"
          ]
        }
      ]
    },
    {
      "cell_type": "markdown",
      "source": [
        "\n",
        "## 6. Demonstrate runtime polymorphism using a method play() in a base class Instrument. Derive classes Guitar and Piano that implement their own version of play()."
      ],
      "metadata": {
        "id": "Q5ac4jcBppK9"
      }
    },
    {
      "cell_type": "code",
      "source": [
        "from abc import ABC, abstractmethod\n",
        "\n",
        "class Instrument(ABC):\n",
        "    @abstractmethod\n",
        "    def play(self):\n",
        "        pass\n",
        "\n",
        "class Guitar(Instrument):\n",
        "    def play(self):\n",
        "        print(\"Playing the guitar\")\n",
        "\n",
        "class Piano(Instrument):\n",
        "    def play(self):\n",
        "        print(\"Playing the piano\")\n",
        "\n",
        "guitar = Guitar()\n",
        "guitar.play()\n",
        "\n",
        "piano = Piano()\n",
        "piano.play()\n"
      ],
      "metadata": {
        "colab": {
          "base_uri": "https://localhost:8080/"
        },
        "id": "DbJcc2IhpzpH",
        "outputId": "5c8a1969-24f5-4a6d-8846-2b03c5949da4"
      },
      "execution_count": 6,
      "outputs": [
        {
          "output_type": "stream",
          "name": "stdout",
          "text": [
            "Playing the guitar\n",
            "Playing the piano\n"
          ]
        }
      ]
    },
    {
      "cell_type": "markdown",
      "source": [
        "\n",
        "## 7. Create a class MathOperations with a class method add_numbers() to add two numbers and a static method subtract_numbers() to subtract two numbers."
      ],
      "metadata": {
        "id": "fxRabFnjp5E_"
      }
    },
    {
      "cell_type": "code",
      "source": [
        "class MathOperations:\n",
        "    @classmethod\n",
        "    def add_numbers(cls, x, y):\n",
        "        return x + y\n",
        "\n",
        "    @staticmethod\n",
        "    def subtract_numbers(x, y):\n",
        "        return x - y\n",
        "\n",
        "print(MathOperations.add_numbers(5, 3))\n",
        "print(MathOperations.subtract_numbers(10, 4))\n"
      ],
      "metadata": {
        "colab": {
          "base_uri": "https://localhost:8080/"
        },
        "id": "Zh_FHPS3p-Wy",
        "outputId": "46ead74d-2b26-4b45-8587-4fd126066f3d"
      },
      "execution_count": 8,
      "outputs": [
        {
          "output_type": "stream",
          "name": "stdout",
          "text": [
            "8\n",
            "6\n"
          ]
        }
      ]
    },
    {
      "cell_type": "markdown",
      "source": [
        "\n",
        "## 8. Implement a class Person with a class method to count the total number of persons created."
      ],
      "metadata": {
        "id": "qqGxy-Jmqtky"
      }
    },
    {
      "cell_type": "code",
      "source": [
        "class Person:\n",
        "    count = 0\n",
        "    def __init__(self, name):\n",
        "        self.name = name\n",
        "        Person.count += 1\n",
        "\n",
        "    @classmethod\n",
        "    def get_person_count(cls):\n",
        "        return cls.count\n",
        "\n",
        "\n",
        "person1 = Person(\"Alice\")\n",
        "person2 = Person(\"Bob\")\n",
        "person3 = Person(\"Charlie\")\n",
        "\n",
        "\n",
        "total_persons = Person.get_person_count()\n",
        "print(f\"Total number of persons created: {total_persons}\")\n"
      ],
      "metadata": {
        "colab": {
          "base_uri": "https://localhost:8080/"
        },
        "id": "_RDwnttnqwiU",
        "outputId": "6f408df1-8123-4a36-96cd-2af5ad5b4cc5"
      },
      "execution_count": 9,
      "outputs": [
        {
          "output_type": "stream",
          "name": "stdout",
          "text": [
            "Total number of persons created: 3\n"
          ]
        }
      ]
    },
    {
      "cell_type": "markdown",
      "source": [
        "\n",
        "## 9. Write a class Fraction with attributes numerator and denominator. Override the str method to display the fraction as \"numerator/denominator\"."
      ],
      "metadata": {
        "id": "RFvRlNsRq7bP"
      }
    },
    {
      "cell_type": "code",
      "source": [
        "class Fraction:\n",
        "    def __init__(self, numerator, denominator):\n",
        "        self.numerator = numerator\n",
        "        self.denominator = denominator\n",
        "\n",
        "    def __str__(self):\n",
        "        return f\"{self.numerator}/{self.denominator}\"\n",
        "\n",
        "\n",
        "fraction = Fraction(3, 4)\n",
        "print(fraction)"
      ],
      "metadata": {
        "colab": {
          "base_uri": "https://localhost:8080/"
        },
        "id": "4tVpc5vMrM9Q",
        "outputId": "7da814cc-1114-4842-f87c-d6740389d0d6"
      },
      "execution_count": 10,
      "outputs": [
        {
          "output_type": "stream",
          "name": "stdout",
          "text": [
            "3/4\n"
          ]
        }
      ]
    },
    {
      "cell_type": "markdown",
      "source": [
        "\n",
        "## 10. Demonstrate operator overloading by creating a class Vector and overriding the add method to add two vectors."
      ],
      "metadata": {
        "id": "u09BriEHrTZs"
      }
    },
    {
      "cell_type": "code",
      "source": [
        "class Vector:\n",
        "    def __init__(self, x, y):\n",
        "        self.x = x\n",
        "        self.y = y\n",
        "\n",
        "    def __add__(self, other):\n",
        "        return Vector(self.x + other.x, self.y + other.y)\n",
        "\n",
        "    def __str__(self):\n",
        "        return f\"({self.x}, {self.y})\"\n",
        "\n",
        "v1 = Vector(2, 3)\n",
        "v2 = Vector(4, 5)\n",
        "v3 = v1 + v2\n",
        "print(v3)"
      ],
      "metadata": {
        "colab": {
          "base_uri": "https://localhost:8080/"
        },
        "id": "yFeYWSO5reA0",
        "outputId": "8f9b3c9e-6a02-4a5e-c767-5c1fe7783711"
      },
      "execution_count": 11,
      "outputs": [
        {
          "output_type": "stream",
          "name": "stdout",
          "text": [
            "(6, 8)\n"
          ]
        }
      ]
    },
    {
      "cell_type": "markdown",
      "source": [
        "\n",
        "## 11. Create a class Person with attributes name and age. Add a method greet() that prints \"Hello, my name is {name} and I am {age} years old.\""
      ],
      "metadata": {
        "id": "c62ZJL56rowW"
      }
    },
    {
      "cell_type": "code",
      "source": [
        "class Person:\n",
        "    def __init__(self, name, age):\n",
        "        self.name = name\n",
        "        self.age = age\n",
        "\n",
        "    def greet(self):\n",
        "        print(f\"Hello, my name is {self.name} and I am {self.age} years old.\")\n",
        "\n",
        "per = Person(\"Sandeep\", 100)\n",
        "per.greet()"
      ],
      "metadata": {
        "colab": {
          "base_uri": "https://localhost:8080/"
        },
        "id": "Tgj7brXNr_iI",
        "outputId": "83eb04f3-92f4-4f80-8306-5def275a77e7"
      },
      "execution_count": 15,
      "outputs": [
        {
          "output_type": "stream",
          "name": "stdout",
          "text": [
            "Hello, my name is Sandeep and I am 100 years old.\n"
          ]
        }
      ]
    },
    {
      "cell_type": "markdown",
      "source": [
        "\n",
        "## 12. Implement a class Student with attributes name and grades. Create a method average_grade() to compute the average of the grades."
      ],
      "metadata": {
        "id": "V1tIUGFKsIK8"
      }
    },
    {
      "cell_type": "code",
      "source": [
        "class Student:\n",
        "    def __init__(self, name, grades):\n",
        "        self.name = name\n",
        "        self.grades = grades\n",
        "\n",
        "    def average_grade(self):\n",
        "        return sum(self.grades) / len(self.grades)\n",
        "\n",
        "student = Student(\"Alice\", [85, 90, 78, 92])\n",
        "print(student.average_grade())\n"
      ],
      "metadata": {
        "colab": {
          "base_uri": "https://localhost:8080/"
        },
        "id": "4zbU3PT8sMmj",
        "outputId": "8efd61a5-1dcd-4dde-8790-469974c6a5a5"
      },
      "execution_count": 16,
      "outputs": [
        {
          "output_type": "stream",
          "name": "stdout",
          "text": [
            "86.25\n"
          ]
        }
      ]
    },
    {
      "cell_type": "markdown",
      "source": [
        "\n",
        "## 13. Create a class Rectangle with methods set_dimensions() to set the dimensions and area() to calculate the area.\n"
      ],
      "metadata": {
        "id": "vmIIFdgBseBg"
      }
    },
    {
      "cell_type": "code",
      "source": [
        "class Rectangle:\n",
        "    def __init__(self):\n",
        "        self.width = 0\n",
        "        self.height = 0\n",
        "\n",
        "    def set_dimensions(self, width, height):\n",
        "        self.width = width\n",
        "        self.height = height\n",
        "\n",
        "    def area(self):\n",
        "        return self.width * self.height\n",
        "\n",
        "rectangle = Rectangle()\n",
        "rectangle.set_dimensions(5, 3)\n",
        "print(rectangle.area())"
      ],
      "metadata": {
        "colab": {
          "base_uri": "https://localhost:8080/"
        },
        "id": "7lR6PTG7spDg",
        "outputId": "837ceaa4-c0f5-4d8c-80ec-33df215376fc"
      },
      "execution_count": 17,
      "outputs": [
        {
          "output_type": "stream",
          "name": "stdout",
          "text": [
            "15\n"
          ]
        }
      ]
    },
    {
      "cell_type": "markdown",
      "source": [
        "## 14. Create a class Employee with a method calculate_salary() that computes the salary based on hours worked and hourly rate. Create a derived class Manager that adds a bonus to the salary."
      ],
      "metadata": {
        "id": "D6XgW8SBsiFp"
      }
    },
    {
      "cell_type": "code",
      "source": [
        "class Employee:\n",
        "    def __init__(self, hours_worked, hourly_rate):\n",
        "        self.hours_worked = hours_worked\n",
        "        self.hourly_rate = hourly_rate\n",
        "\n",
        "    def calculate_salary(self):\n",
        "        return self.hours_worked * self.hourly_rate\n",
        "\n",
        "class Manager(Employee):\n",
        "    def __init__(self, hours_worked, hourly_rate, bonus):\n",
        "        super().__init__(hours_worked, hourly_rate)\n",
        "        self.bonus = bonus\n",
        "\n",
        "    def calculate_salary(self):\n",
        "        return super().calculate_salary() + self.bonus\n",
        "\n",
        "employee = Employee(40, 15)\n",
        "print(employee.calculate_salary())\n",
        "\n",
        "manager = Manager(40, 15, 1000)\n",
        "print(manager.calculate_salary())"
      ],
      "metadata": {
        "colab": {
          "base_uri": "https://localhost:8080/"
        },
        "id": "lt-h2fbes2Qm",
        "outputId": "3752ea88-b7d7-44d8-f6ef-f54201ea12b4"
      },
      "execution_count": 18,
      "outputs": [
        {
          "output_type": "stream",
          "name": "stdout",
          "text": [
            "600\n",
            "1600\n"
          ]
        }
      ]
    },
    {
      "cell_type": "markdown",
      "source": [
        "## 15. Create a class Product with attributes name, price, and quantity. Implement a method total_price() that calculates the total price of the product."
      ],
      "metadata": {
        "id": "1DdXjjpts9bO"
      }
    },
    {
      "cell_type": "code",
      "source": [
        "class Product:\n",
        "    def __init__(self, name, price, quantity):\n",
        "        self.name = name\n",
        "        self.price = price\n",
        "        self.quantity = quantity\n",
        "\n",
        "    def total_price(self):\n",
        "        return self.price * self.quantity\n",
        "\n",
        "product = Product(\"Apple\", 10, 5)\n",
        "print(product.total_price())"
      ],
      "metadata": {
        "colab": {
          "base_uri": "https://localhost:8080/"
        },
        "id": "T8YhqNTatHSl",
        "outputId": "c5881509-ce92-42ff-93af-4fcde4e31a9b"
      },
      "execution_count": 19,
      "outputs": [
        {
          "output_type": "stream",
          "name": "stdout",
          "text": [
            "50\n"
          ]
        }
      ]
    },
    {
      "cell_type": "markdown",
      "source": [
        "\n",
        "## 16. Create a class Animal with an abstract method sound(). Create two derived classes Cow and Sheep that implement the sound() method."
      ],
      "metadata": {
        "id": "0IDNOkHhtSdS"
      }
    },
    {
      "cell_type": "code",
      "source": [
        "from abc import ABC, abstractmethod\n",
        "\n",
        "class Animal(ABC):\n",
        "    @abstractmethod\n",
        "    def sound(self):\n",
        "        pass\n",
        "\n",
        "class Cow(Animal):\n",
        "    def sound(self):\n",
        "        return \"Moo\"\n",
        "\n",
        "class Sheep(Animal):\n",
        "    def sound(self):\n",
        "        return \"Baa\"\n",
        "\n",
        "cow = Cow()\n",
        "print(cow.sound())\n",
        "\n",
        "sheep = Sheep()\n",
        "print(sheep.sound())"
      ],
      "metadata": {
        "colab": {
          "base_uri": "https://localhost:8080/"
        },
        "id": "6vpQa_SMtXfK",
        "outputId": "10323415-8fd5-4beb-8199-a416bf55b7b5"
      },
      "execution_count": 20,
      "outputs": [
        {
          "output_type": "stream",
          "name": "stdout",
          "text": [
            "Moo\n",
            "Baa\n"
          ]
        }
      ]
    },
    {
      "cell_type": "markdown",
      "source": [
        "## 17. Create a class Book with attributes title, author, and year_published. Add a method get_book_info() that returns a formatted string with the book's details."
      ],
      "metadata": {
        "id": "K1Q67YkAtjZ1"
      }
    },
    {
      "cell_type": "code",
      "source": [
        "class Book:\n",
        "    def __init__(self, title, author, year_published):\n",
        "        self.title = title\n",
        "        self.author = author\n",
        "        self.year_published = year_published\n",
        "\n",
        "    def get_book_info(self):\n",
        "        return f\"Title: {self.title}, Author: {self.author}, Year Published: {self.year_published}\"\n",
        "\n",
        "book = Book(\"The Great Gatsby\", \"F. Scott Fitzgerald\", 1925)\n",
        "print(book.get_book_info())"
      ],
      "metadata": {
        "colab": {
          "base_uri": "https://localhost:8080/"
        },
        "id": "ZgVM6jNMtuUQ",
        "outputId": "28388e78-d9fd-432b-d4cd-ea0ddbd3fa29"
      },
      "execution_count": 21,
      "outputs": [
        {
          "output_type": "stream",
          "name": "stdout",
          "text": [
            "Title: The Great Gatsby, Author: F. Scott Fitzgerald, Year Published: 1925\n"
          ]
        }
      ]
    },
    {
      "cell_type": "markdown",
      "source": [
        "## 18. Create a class House with attributes address and price. Create a derived class Mansion that adds an attribute number_of_rooms."
      ],
      "metadata": {
        "id": "G6SnnY5-t1k-"
      }
    },
    {
      "cell_type": "code",
      "source": [
        "class House:\n",
        "    def __init__(self, address, price):\n",
        "        self.address = address\n",
        "        self.price = price\n",
        "\n",
        "class Mansion(House):\n",
        "    def __init__(self, address, price, number_of_rooms):\n",
        "        super().__init__(address, price)\n",
        "        self.number_of_rooms = number_of_rooms\n",
        "\n",
        "mansion = Mansion(\"123 Main St\", 250000, 8)\n",
        "print(mansion.address)\n",
        "print(mansion.price)\n",
        "print(mansion.number_of_rooms)"
      ],
      "metadata": {
        "colab": {
          "base_uri": "https://localhost:8080/"
        },
        "id": "uzI02jJbt3jz",
        "outputId": "21346487-f6a8-4769-d219-d347e38a6864"
      },
      "execution_count": 22,
      "outputs": [
        {
          "output_type": "stream",
          "name": "stdout",
          "text": [
            "123 Main St\n",
            "250000\n",
            "8\n"
          ]
        }
      ]
    }
  ]
}