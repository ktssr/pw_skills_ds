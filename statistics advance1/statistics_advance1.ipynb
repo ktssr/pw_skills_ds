{
  "nbformat": 4,
  "nbformat_minor": 0,
  "metadata": {
    "colab": {
      "provenance": []
    },
    "kernelspec": {
      "name": "python3",
      "display_name": "Python 3"
    },
    "language_info": {
      "name": "python"
    }
  },
  "cells": [
    {
      "cell_type": "markdown",
      "source": [
        "# Statistics Advance 1"
      ],
      "metadata": {
        "id": "G__c9zZOib6W"
      }
    },
    {
      "cell_type": "markdown",
      "source": [
        "# 1. What is a random variable in probability theory?\n",
        "  - A random variable is a variable that represents the outcome of a random experiment. It assigns numerical values to the outcomes of that experiment. For example, in tossing a coin, assigning 1 for heads and 0 for tails makes the outcome a random variable.\n",
        "\n",
        "# 2. What are the types of random variables?\n",
        "  - There are two types of random variables. Discrete random variables take countable values like 0, 1, 2 etc. Continuous random variables take uncountably infinite values like 1.5, 2.45 etc. depending on the range.\n",
        "\n",
        "# 3. What is the difference between discrete and continuous distributions?\n",
        "  - Discrete distributions are associated with discrete random variables which take specific values. Ex: Number of students in a class. Continuous distributions are associated with continuous random variables which can take any value in a range. Ex: Height of students.\n",
        "\n",
        "# 4. What are probability distribution functions (PDF)?\n",
        "  - Probability Distribution Function tells the probability of a random variable taking specific values. For discrete variables it gives probability mass function. For continuous variables, it gives a curve and the area under curve between two values gives the probability.\n",
        "\n",
        "# 5. How do cumulative distribution functions (CDF) differ from probability distribution functions (PDF)?\n",
        "  - CDF gives the probability that a random variable is less than or equal to a certain value. PDF gives probability for an exact value (discrete) or a density function (continuous). CDF is cumulative sum of probabilities up to that point.\n",
        "\n",
        "# 6. What is a discrete uniform distribution?\n",
        "  - A discrete uniform distribution is a distribution where all outcomes have equal probability. Example: Rolling a fair die has equal probability 1/6 for each face.\n",
        "\n",
        "# 7. What are the key properties of a Bernoulli distribution?\n",
        "  - Bernoulli distribution has only two outcomes 1 (success) and 0 (failure). The probability of success is denoted by `p` and failure is `1-p`. It is used in experiments with binary outcomes like flipping a coin.\n",
        "\n",
        "# 8. What is the binomial distribution, and how is it used in probability?\n",
        "  - Binomial distribution represents the number of successes in a fixed number of independent Bernoulli trials. It is used when an experiment is repeated multiple times and the outcome is success or failure.\n",
        "\n",
        "# 9. What is the Poisson distribution and where is it applied?\n",
        "  - Poisson distribution gives the probability of a number of events occurring in a fixed interval of time or space. It is used for rare events like number of accidents per day or number of emails received in an hour.\n",
        "\n",
        "# 10. What is a continuous uniform distribution?\n",
        "  - Continuous uniform distribution is a distribution where all values in a given range are equally likely. For example, choosing a random number between 0 and 1 where every value has equal chance.\n",
        "\n",
        "# 11. What are the characteristics of a normal distribution?\n",
        "  - Normal distribution is symmetric and bell-shaped. Mean, median, and mode are all equal. Most values lie close to the mean and the probability decreases as we move away from the mean.\n",
        "\n",
        "# 12. What is the standard normal distribution, and why is it important?\n",
        "  - Standard normal distribution is a normal distribution with mean 0 and standard deviation 1. It is important because other normal distributions can be converted to standard normal using Z-scores for easier calculations.\n",
        "\n",
        "# 13. What is the Central Limit Theorem (CLT), and why is it critical in statistics?\n",
        "  - Central Limit Theorem states that the sampling distribution of the sample mean approaches normal distribution as the sample size becomes large, regardless of the population distribution. It is important for performing statistical inference using normal distribution.\n",
        "\n",
        "# 14. How does the Central Limit Theorem relate to the normal distribution?\n",
        "  - CLT connects any population distribution with normal distribution by stating that the distribution of sample means becomes approximately normal as sample size increases, even if the original population is not normal.\n",
        "\n",
        "# 15. What is the application of Z statistics in hypothesis testing?\n",
        "  - Z-statistics is used in hypothesis testing when the population standard deviation is known. It helps to determine how far the sample mean is from the population mean in terms of standard deviations.\n",
        "\n",
        "# 16. How do you calculate a Z-score, and what does it represent?\n",
        "  - Z-score = (X - μ) / σ, where X is the value, μ is the mean and σ is the standard deviation. Z-score tells how many standard deviations a value is away from the mean.\n",
        "\n",
        "# 17. What are point estimates and interval estimates in statistics?\n",
        "  - Point estimate gives a single value as estimate of population parameter like sample mean. Interval estimate gives a range of values (like confidence interval) within which the parameter is expected to lie.\n",
        "\n",
        "# 18. What is the significance of confidence intervals in statistical analysis?\n",
        "  - Confidence intervals give a range of likely values for a population parameter. It shows the reliability of an estimate. For example, 95% confidence interval means we are 95% confident that the true value lies within the range.\n",
        "\n",
        "# 19. What is the relationship between a Z-score and a confidence interval?\n",
        "  - Z-score is used to calculate the margin of error in confidence intervals. For example, for 95% confidence interval the Z-score is 1.96 and the interval is calculated using this Z value.\n",
        "\n",
        "# 20. How are Z-scores used to compare different distributions?\n",
        "  - Z-scores convert different distributions to standard normal distribution. This allows comparison of values from different distributions on the same scale.\n",
        "\n",
        "# 21. What are the assumptions for applying the Central Limit Theorem?\n",
        "  - Assumptions for CLT are: samples should be independent, sample size should be sufficiently large (usually n > 30), and data should be drawn from the same distribution.\n",
        "\n",
        "# 22. What is the concept of expected value in a probability distribution?\n",
        "  - Expected value is the average value a random variable would take over many repetitions of the experiment. It is calculated by summing each possible value times its probability.\n",
        "\n",
        "# 23. How does a probability distribution relate to the expected outcome of a random variable?\n",
        "  - The expected outcome of a random variable is calculated using the probability distribution. The distribution gives the probabilities of outcomes which are used to find the weighted average (expected value).\n"
      ],
      "metadata": {
        "id": "NSbMgVx5ibbY"
      }
    }
  ]
}