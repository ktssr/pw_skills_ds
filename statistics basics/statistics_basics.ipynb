{
  "nbformat": 4,
  "nbformat_minor": 0,
  "metadata": {
    "colab": {
      "provenance": []
    },
    "kernelspec": {
      "name": "python3",
      "display_name": "Python 3"
    },
    "language_info": {
      "name": "python"
    }
  },
  "cells": [
    {
      "cell_type": "markdown",
      "source": [
        "# Statistics Basics"
      ],
      "metadata": {
        "id": "WjaYldcQEyqT"
      }
    },
    {
      "cell_type": "markdown",
      "source": [
        "1. What is statistics, and why is it important?  \n",
        "   - Statistics is a branch of mathematics which deals with collecting, analyzing and interpreting data. It is important because it helps in understanding patterns and making decisions using data.\n",
        "\n",
        "2. What are the two main types of statistics?  \n",
        "   - The two main types of statistics are Descriptive statistics and Inferential statistics.\n",
        "\n",
        "3. What are descriptive statistics?  \n",
        "   - Descriptive statistics are used to summarize and describe the features of a dataset using values like mean, median, mode and standard deviation.\n",
        "\n",
        "4. What is inferential statistics?  \n",
        "   - Inferential statistics is used to make predictions or conclusions about a population by using data from a sample.\n",
        "\n",
        "5. What is sampling in statistics?  \n",
        "   - Sampling is the process of selecting a small part of data from a large population for analysis. It helps to study large datasets with less effort.\n",
        "\n",
        "6. What are the different types of sampling methods?  \n",
        "   - The different sampling methods are: Random sampling, Stratified sampling, Systematic sampling, Cluster sampling, Convenience sampling and Judgmental sampling.\n",
        "\n",
        "7. What is the difference between random and non-random sampling?  \n",
        "   - In random sampling, every member has equal chance to get selected. In non-random sampling, the sample is selected based on convenience or judgment.\n",
        "\n",
        "8. Define and give examples of qualitative and quantitative data  \n",
        "   - Qualitative data is descriptive like colors or names. Example: red, blue, male, female.  \n",
        "   - Quantitative data is numerical like age or height. Example: 25 years, 170 cm.\n",
        "\n",
        "9. What are the different types of data in statistics?  \n",
        "   - Data types are Qualitative data and Quantitative data. Quantitative data is further divided into Discrete and Continuous data.\n",
        "\n",
        "10. Explain nominal, ordinal, interval, and ratio levels of measurement  \n",
        "    - Nominal: Categories without order. Example: colors.  \n",
        "    - Ordinal: Categories with order. Example: ranks.  \n",
        "    - Interval: Numbers with equal spacing, no true zero. Example: temperature in Celsius.  \n",
        "    - Ratio: Numbers with true zero. Example: height, weight.\n",
        "\n",
        "11. What is the measure of central tendency?  \n",
        "    - It is a value that represents the center of a dataset. Common measures are mean, median and mode.\n",
        "\n",
        "12. Define mean, median, and mode  \n",
        "    - Mean is the average value.  \n",
        "    - Median is the middle value.  \n",
        "    - Mode is the most repeated value.\n",
        "\n",
        "13. What is the significance of the measure of central tendency?  \n",
        "    - It helps to understand the average or most common behavior of data.\n",
        "\n",
        "14. What is variance, and how is it calculated?  \n",
        "    - Variance is the average of the squared differences from the mean. It shows how data is spread around the mean.\n",
        "\n",
        "15. What is standard deviation, and why is it important?  \n",
        "    - Standard deviation is the square root of variance. It shows how much the data deviates from the mean.\n",
        "\n",
        "16. Define and explain the term range in statistics  \n",
        "    - Range is the difference between the highest and lowest values in a dataset.  \n",
        "      Range = Max value - Min value\n",
        "\n",
        "17. What is the difference between variance and standard deviation?  \n",
        "    - Variance is in squared units, while standard deviation is in the same unit as the data. Both show how spread the data is.\n",
        "\n",
        "18. What is skewness in a dataset?  \n",
        "    - Skewness shows if the data is symmetrical or not. It tells whether data is more spread on one side of the mean.\n",
        "\n",
        "19. What does it mean if a dataset is positively or negatively skewed?  \n",
        "    - Positive skew means tail is on the right.  \n",
        "    - Negative skew means tail is on the left.\n",
        "\n",
        "20. Define and explain kurtosis  \n",
        "    - Kurtosis shows the shape of the peak of the data. High kurtosis means sharp peak. Low kurtosis means flat peak.\n",
        "\n",
        "21. What is the purpose of covariance?  \n",
        "    - Covariance shows how two variables change together. If both increase or decrease together, covariance is positive.\n",
        "\n",
        "22. What does correlation measure in statistics?  \n",
        "    - Correlation measures the strength and direction of the relationship between two variables.\n",
        "\n",
        "23. What is the difference between covariance and correlation?  \n",
        "    - Covariance shows direction of relation. Correlation shows both direction and strength and is always between -1 and +1.\n",
        "\n",
        "24. What are some real-world applications of statistics?  \n",
        "    - Statistics is used in business, healthcare, government, sports, education and research for decision making and analysis."
      ],
      "metadata": {
        "id": "SWV3GXYaFP7r"
      }
    },
    {
      "cell_type": "markdown",
      "source": [
        "## How do you calculate the mean, median, and mode of a dataset."
      ],
      "metadata": {
        "id": "Tt0Nc2c7GJP-"
      }
    },
    {
      "cell_type": "code",
      "source": [
        "import statistics\n",
        "\n",
        "data = [10, 20, 20, 30, 40, 50, 60]\n",
        "\n",
        "mean = statistics.mean(data)\n",
        "median = statistics.median(data)\n",
        "mode = statistics.mode(data)\n",
        "\n",
        "print(\"Mean:\", mean)\n",
        "print(\"Median:\", median)\n",
        "print(\"Mode:\", mode)"
      ],
      "metadata": {
        "colab": {
          "base_uri": "https://localhost:8080/"
        },
        "id": "KfbHuAfPGKgN",
        "outputId": "85ae68b9-a68e-42a0-de93-3cdc14b50830"
      },
      "execution_count": 2,
      "outputs": [
        {
          "output_type": "stream",
          "name": "stdout",
          "text": [
            "Mean: 32.857142857142854\n",
            "Median: 30\n",
            "Mode: 20\n"
          ]
        }
      ]
    },
    {
      "cell_type": "markdown",
      "source": [
        "## Write a Python program to compute the variance and standard deviation of a dataset."
      ],
      "metadata": {
        "id": "7qqd4WpdICWw"
      }
    },
    {
      "cell_type": "code",
      "source": [
        "import statistics\n",
        "\n",
        "data = [10, 20, 30, 40, 50]\n",
        "\n",
        "variance = statistics.variance(data)\n",
        "std_dev = statistics.stdev(data)\n",
        "\n",
        "print(\"Variance:\", variance)\n",
        "print(\"Standard Deviation:\", std_dev)\n"
      ],
      "metadata": {
        "colab": {
          "base_uri": "https://localhost:8080/"
        },
        "id": "mHZbD0ScGYn-",
        "outputId": "f17dcb6d-c42d-4cba-a0b4-92b070cd5ccd"
      },
      "execution_count": 3,
      "outputs": [
        {
          "output_type": "stream",
          "name": "stdout",
          "text": [
            "Variance: 250\n",
            "Standard Deviation: 15.811388300841896\n"
          ]
        }
      ]
    },
    {
      "cell_type": "markdown",
      "source": [
        "## Create a dataset and classify it into nominal, ordinal, interval, and ratio types."
      ],
      "metadata": {
        "id": "pxuZj7m8IAdL"
      }
    },
    {
      "cell_type": "code",
      "source": [
        "dataset = {\n",
        "    \"Nominal\": [\"Red\", \"Blue\", \"Green\"],\n",
        "    \"Ordinal\": [\"Low\", \"Medium\", \"High\"],\n",
        "    \"Interval\": [10, 20, 30],  # Temperature in Celsius\n",
        "    \"Ratio\": [150, 170, 180]   # Heights in cm\n",
        "}\n",
        "\n",
        "print(dataset)"
      ],
      "metadata": {
        "colab": {
          "base_uri": "https://localhost:8080/"
        },
        "id": "tdNfT-8XGiZZ",
        "outputId": "d7dde633-246b-4351-b1bf-e9f2fc556a3f"
      },
      "execution_count": 4,
      "outputs": [
        {
          "output_type": "stream",
          "name": "stdout",
          "text": [
            "{'Nominal': ['Red', 'Blue', 'Green'], 'Ordinal': ['Low', 'Medium', 'High'], 'Interval': [10, 20, 30], 'Ratio': [150, 170, 180]}\n"
          ]
        }
      ]
    },
    {
      "cell_type": "markdown",
      "source": [
        "## Implement sampling techniques like random sampling and stratified sampling."
      ],
      "metadata": {
        "id": "vQ2ga4kKIJO5"
      }
    },
    {
      "cell_type": "code",
      "source": [
        "import pandas as pd\n",
        "from sklearn.model_selection import train_test_split\n",
        "\n",
        "# Sample dataset\n",
        "data = pd.DataFrame({\n",
        "    'Gender': ['M', 'F', 'M', 'F', 'M', 'F', 'M', 'F'],\n",
        "    'Score': [80, 70, 90, 60, 85, 75, 88, 78]\n",
        "})\n",
        "\n",
        "# Random sampling\n",
        "random_sample = data.sample(n=4)\n",
        "\n",
        "# Stratified sampling based on 'Gender'\n",
        "stratified_sample, _ = train_test_split(data, stratify=data['Gender'], train_size=0.5)\n",
        "\n",
        "print(\"Random Sample:\\n\", random_sample)\n",
        "print(\"\\nStratified Sample:\\n\", stratified_sample)\n"
      ],
      "metadata": {
        "colab": {
          "base_uri": "https://localhost:8080/"
        },
        "id": "u15Zi-5fGmw7",
        "outputId": "8faca9bd-f4e8-445e-f7ea-f269f5d61172"
      },
      "execution_count": 5,
      "outputs": [
        {
          "output_type": "stream",
          "name": "stdout",
          "text": [
            "Random Sample:\n",
            "   Gender  Score\n",
            "6      M     88\n",
            "3      F     60\n",
            "7      F     78\n",
            "0      M     80\n",
            "\n",
            "Stratified Sample:\n",
            "   Gender  Score\n",
            "0      M     80\n",
            "7      F     78\n",
            "6      M     88\n",
            "3      F     60\n"
          ]
        }
      ]
    },
    {
      "cell_type": "markdown",
      "source": [
        "## Write a Python function to calculate the range of a dataset."
      ],
      "metadata": {
        "id": "53-rkr_wIMus"
      }
    },
    {
      "cell_type": "code",
      "source": [
        "def calculate_range(data):\n",
        "    return max(data) - min(data)\n",
        "\n",
        "dataset = [5, 10, 15, 20, 25]\n",
        "print(\"Range:\", calculate_range(dataset))\n"
      ],
      "metadata": {
        "colab": {
          "base_uri": "https://localhost:8080/"
        },
        "id": "TStL3-nYGqJY",
        "outputId": "75918f90-4019-42c0-b8ab-0aa01ba25633"
      },
      "execution_count": 6,
      "outputs": [
        {
          "output_type": "stream",
          "name": "stdout",
          "text": [
            "Range: 20\n"
          ]
        }
      ]
    },
    {
      "cell_type": "markdown",
      "source": [
        "## Create a dataset and plot its histogram to visualize skewness."
      ],
      "metadata": {
        "id": "wyHda9YgIPIO"
      }
    },
    {
      "cell_type": "code",
      "source": [
        "import matplotlib.pyplot as plt\n",
        "\n",
        "data = [10, 20, 20, 30, 40, 50, 60, 70, 100]\n",
        "\n",
        "plt.hist(data, bins=10)\n",
        "plt.title(\"Histogram\")\n",
        "plt.xlabel(\"Values\")\n",
        "plt.ylabel(\"Frequency\")\n",
        "plt.show()\n"
      ],
      "metadata": {
        "colab": {
          "base_uri": "https://localhost:8080/",
          "height": 472
        },
        "id": "nbCMak1CGr-y",
        "outputId": "722f7591-d5a7-47a1-b45e-a96559709de0"
      },
      "execution_count": 7,
      "outputs": [
        {
          "output_type": "display_data",
          "data": {
            "text/plain": [
              "<Figure size 640x480 with 1 Axes>"
            ],
            "image/png": "[encoded data removed]"
          },
          "metadata": {}
        }
      ]
    },
    {
      "cell_type": "markdown",
      "source": [
        "## 5 Calculate skewness and kurtosis of a dataset using Python libraries."
      ],
      "metadata": {
        "id": "R_p7c_OqIVpg"
      }
    },
    {
      "cell_type": "code",
      "source": [
        "from scipy.stats import skew, kurtosis\n",
        "\n",
        "data = [10, 20, 20, 30, 40, 50, 60, 100]\n",
        "\n",
        "print(\"Skewness:\", skew(data))\n",
        "print(\"Kurtosis:\", kurtosis(data))\n"
      ],
      "metadata": {
        "colab": {
          "base_uri": "https://localhost:8080/"
        },
        "id": "3RgRUvbaGt8a",
        "outputId": "d320d5fb-751a-4542-d9b1-34fd358bbb98"
      },
      "execution_count": 8,
      "outputs": [
        {
          "output_type": "stream",
          "name": "stdout",
          "text": [
            "Skewness: 0.9949232783503629\n",
            "Kurtosis: 0.09733998674726507\n"
          ]
        }
      ]
    },
    {
      "cell_type": "markdown",
      "source": [
        "\n",
        "## Generate a dataset and demonstrate positive and negative skewness."
      ],
      "metadata": {
        "id": "bcq63R9kIZCN"
      }
    },
    {
      "cell_type": "code",
      "source": [
        "import numpy as np\n",
        "from scipy.stats import skew\n",
        "\n",
        "# Positively skewed data\n",
        "pos_skew = np.random.exponential(scale=2, size=1000)\n",
        "# Negatively skewed data\n",
        "neg_skew = -np.random.exponential(scale=2, size=1000)\n",
        "\n",
        "print(\"Positive Skewness:\", skew(pos_skew))\n",
        "print(\"Negative Skewness:\", skew(neg_skew))\n"
      ],
      "metadata": {
        "colab": {
          "base_uri": "https://localhost:8080/"
        },
        "id": "okVrnzjAGvtn",
        "outputId": "123e13c7-19a9-4f91-890a-86ddfafe90f3"
      },
      "execution_count": 9,
      "outputs": [
        {
          "output_type": "stream",
          "name": "stdout",
          "text": [
            "Positive Skewness: 2.0484163875038575\n",
            "Negative Skewness: -1.608837115417427\n"
          ]
        }
      ]
    },
    {
      "cell_type": "markdown",
      "source": [
        "## Write a Python script to calculate covariance between two datasets."
      ],
      "metadata": {
        "id": "khaqYV0XIcga"
      }
    },
    {
      "cell_type": "code",
      "source": [
        "import numpy as np\n",
        "\n",
        "x = [2, 4, 6, 8, 10]\n",
        "y = [1, 3, 5, 7, 9]\n",
        "\n",
        "cov_matrix = np.cov(x, y)\n",
        "print(\"Covariance Matrix:\\n\", cov_matrix)\n"
      ],
      "metadata": {
        "colab": {
          "base_uri": "https://localhost:8080/"
        },
        "id": "fKnRcGlzGxa8",
        "outputId": "577a55d6-cfb9-4f19-c289-0b9e7fd80118"
      },
      "execution_count": 10,
      "outputs": [
        {
          "output_type": "stream",
          "name": "stdout",
          "text": [
            "Covariance Matrix:\n",
            " [[10. 10.]\n",
            " [10. 10.]]\n"
          ]
        }
      ]
    },
    {
      "cell_type": "markdown",
      "source": [
        "## Write a Python script to calculate the correlation coefficient between two datasets."
      ],
      "metadata": {
        "id": "xICZbA8fIfG7"
      }
    },
    {
      "cell_type": "code",
      "source": [
        "import numpy as np\n",
        "\n",
        "x = [10, 20, 30, 40, 50]\n",
        "y = [15, 25, 35, 45, 55]\n",
        "\n",
        "correlation = np.corrcoef(x, y)\n",
        "print(\"Correlation Coefficient Matrix:\\n\", correlation)\n"
      ],
      "metadata": {
        "colab": {
          "base_uri": "https://localhost:8080/"
        },
        "id": "smfjmarUG0Ch",
        "outputId": "62b7a029-79ca-4644-c78c-417e9e640a7c"
      },
      "execution_count": 11,
      "outputs": [
        {
          "output_type": "stream",
          "name": "stdout",
          "text": [
            "Correlation Coefficient Matrix:\n",
            " [[1. 1.]\n",
            " [1. 1.]]\n"
          ]
        }
      ]
    },
    {
      "cell_type": "markdown",
      "source": [
        "## Create a scatter plot to visualize the relationship between two variables."
      ],
      "metadata": {
        "id": "YMtY4UZoIheN"
      }
    },
    {
      "cell_type": "code",
      "source": [
        "import matplotlib.pyplot as plt\n",
        "\n",
        "x = [10, 20, 30, 40, 50]\n",
        "y = [15, 25, 35, 45, 55]\n",
        "\n",
        "plt.scatter(x, y)\n",
        "plt.title(\"Scatter Plot\")\n",
        "plt.xlabel(\"X\")\n",
        "plt.ylabel(\"Y\")\n",
        "plt.grid(True)\n",
        "plt.show()\n"
      ],
      "metadata": {
        "colab": {
          "base_uri": "https://localhost:8080/",
          "height": 472
        },
        "id": "Q7xj5h70G2zY",
        "outputId": "6a750510-baed-4627-8313-c7dd36433fe4"
      },
      "execution_count": 12,
      "outputs": [
        {
          "output_type": "display_data",
          "data": {
            "text/plain": [
              "<Figure size 640x480 with 1 Axes>"
            ],
            "image/png": "[encoded data removed]"
          },
          "metadata": {}
        }
      ]
    },
    {
      "cell_type": "markdown",
      "source": [
        "## Implement and compare simple random sampling and systematic sampling."
      ],
      "metadata": {
        "id": "qvgJDkT1IkLS"
      }
    },
    {
      "cell_type": "code",
      "source": [
        "import numpy as np\n",
        "\n",
        "data = np.arange(1, 101)\n",
        "\n",
        "# Simple random sampling\n",
        "random_sample = np.random.choice(data, 10, replace=False)\n",
        "\n",
        "# Systematic sampling\n",
        "step = len(data) // 10\n",
        "systematic_sample = data[::step]\n",
        "\n",
        "print(\"Random Sample:\", random_sample)\n",
        "print(\"Systematic Sample:\", systematic_sample)\n"
      ],
      "metadata": {
        "colab": {
          "base_uri": "https://localhost:8080/"
        },
        "id": "2N3qCtbHG5C3",
        "outputId": "35827a6b-df34-4a18-d20f-f4386d553791"
      },
      "execution_count": 13,
      "outputs": [
        {
          "output_type": "stream",
          "name": "stdout",
          "text": [
            "Random Sample: [30 46 19 56 26 80 76 55 22 67]\n",
            "Systematic Sample: [ 1 11 21 31 41 51 61 71 81 91]\n"
          ]
        }
      ]
    },
    {
      "cell_type": "markdown",
      "source": [
        "## Calculate the mean, median, and mode of grouped data."
      ],
      "metadata": {
        "id": "mMFiY7OxImFD"
      }
    },
    {
      "cell_type": "code",
      "source": [
        "import pandas as pd\n",
        "import statistics\n",
        "\n",
        "# Grouped data using class intervals\n",
        "grouped_data = pd.Series([10, 20, 20, 30, 30, 30, 40, 40, 50, 60])\n",
        "\n",
        "mean = grouped_data.mean()\n",
        "median = grouped_data.median()\n",
        "mode = grouped_data.mode()[0]\n",
        "\n",
        "print(\"Mean:\", mean)\n",
        "print(\"Median:\", median)\n",
        "print(\"Mode:\", mode)\n"
      ],
      "metadata": {
        "colab": {
          "base_uri": "https://localhost:8080/"
        },
        "id": "ElAtVjCjG60q",
        "outputId": "5c03fb07-e2b1-4236-9a66-3082fbfe9e10"
      },
      "execution_count": 14,
      "outputs": [
        {
          "output_type": "stream",
          "name": "stdout",
          "text": [
            "Mean: 33.0\n",
            "Median: 30.0\n",
            "Mode: 30\n"
          ]
        }
      ]
    },
    {
      "cell_type": "markdown",
      "source": [
        "## Simulate data using Python and calculate its central tendency and dispersion."
      ],
      "metadata": {
        "id": "Cxue3n7NIoCx"
      }
    },
    {
      "cell_type": "code",
      "source": [
        "import numpy as np\n",
        "import statistics\n",
        "\n",
        "data = np.random.normal(loc=50, scale=10, size=100)\n",
        "\n",
        "mean = statistics.mean(data)\n",
        "median = statistics.median(data)\n",
        "mode = statistics.mode(np.round(data))  # round to get most frequent value\n",
        "variance = statistics.variance(data)\n",
        "std_dev = statistics.stdev(data)\n",
        "\n",
        "print(\"Mean:\", mean)\n",
        "print(\"Median:\", median)\n",
        "print(\"Mode:\", mode)\n",
        "print(\"Variance:\", variance)\n",
        "print(\"Standard Deviation:\", std_dev)\n"
      ],
      "metadata": {
        "colab": {
          "base_uri": "https://localhost:8080/"
        },
        "id": "MoxjQOboG93n",
        "outputId": "dd776387-fec2-4a54-f11c-5511ef62ff44"
      },
      "execution_count": 15,
      "outputs": [
        {
          "output_type": "stream",
          "name": "stdout",
          "text": [
            "Mean: 49.72432623075962\n",
            "Median: 50.41524803005156\n",
            "Mode: 52.0\n",
            "Variance: 93.55179997503855\n",
            "Standard Deviation: 9.672217944972008\n"
          ]
        }
      ]
    },
    {
      "cell_type": "markdown",
      "source": [
        "## Use NumPy or pandas to summarize a dataset’s descriptive statistics."
      ],
      "metadata": {
        "id": "e2Y_OuG8I-eC"
      }
    },
    {
      "cell_type": "code",
      "source": [
        "import pandas as pd\n",
        "\n",
        "data = pd.Series([10, 20, 30, 40, 50, 60, 70])\n",
        "\n",
        "summary = data.describe()\n",
        "print(\"Descriptive Statistics:\\n\", summary)"
      ],
      "metadata": {
        "colab": {
          "base_uri": "https://localhost:8080/"
        },
        "id": "iV02_hWQHWtj",
        "outputId": "02d8ddf5-b8ca-41bc-c73b-ee8ec2e4e56c"
      },
      "execution_count": 16,
      "outputs": [
        {
          "output_type": "stream",
          "name": "stdout",
          "text": [
            "Descriptive Statistics:\n",
            " count     7.000000\n",
            "mean     40.000000\n",
            "std      21.602469\n",
            "min      10.000000\n",
            "25%      25.000000\n",
            "50%      40.000000\n",
            "75%      55.000000\n",
            "max      70.000000\n",
            "dtype: float64\n"
          ]
        }
      ]
    },
    {
      "cell_type": "markdown",
      "source": [
        "## Plot a boxplot to understand the spread and identify outliers."
      ],
      "metadata": {
        "id": "U-dJuMv7JLyI"
      }
    },
    {
      "cell_type": "code",
      "source": [
        "import matplotlib.pyplot as plt\n",
        "\n",
        "data = [10, 20, 30, 40, 50, 60, 70, 100]\n",
        "\n",
        "plt.boxplot(data)\n",
        "plt.title(\"Boxplot\")\n",
        "plt.ylabel(\"Values\")\n",
        "plt.show()\n"
      ],
      "metadata": {
        "colab": {
          "base_uri": "https://localhost:8080/",
          "height": 452
        },
        "id": "aZGdNOb1Ha8I",
        "outputId": "0633e47c-3117-4b72-d04d-91441da170ac"
      },
      "execution_count": 17,
      "outputs": [
        {
          "output_type": "display_data",
          "data": {
            "text/plain": [
              "<Figure size 640x480 with 1 Axes>"
            ],
            "image/png": "[encoded data removed]"
          },
          "metadata": {}
        }
      ]
    },
    {
      "cell_type": "markdown",
      "source": [
        "## Calculate the interquartile range (IQR) of a dataset."
      ],
      "metadata": {
        "id": "PGRXVixqJOdP"
      }
    },
    {
      "cell_type": "code",
      "source": [
        "import numpy as np\n",
        "\n",
        "data = np.array([10, 20, 30, 40, 50, 60, 70])\n",
        "\n",
        "Q1 = np.percentile(data, 25)\n",
        "Q3 = np.percentile(data, 75)\n",
        "IQR = Q3 - Q1\n",
        "\n",
        "print(\"IQR:\", IQR)\n"
      ],
      "metadata": {
        "colab": {
          "base_uri": "https://localhost:8080/"
        },
        "id": "h2RdCkJmHdz3",
        "outputId": "6e8e2165-ccf2-4170-8b71-09332f105ddb"
      },
      "execution_count": 18,
      "outputs": [
        {
          "output_type": "stream",
          "name": "stdout",
          "text": [
            "IQR: 30.0\n"
          ]
        }
      ]
    },
    {
      "cell_type": "markdown",
      "source": [
        "## Implement Z-score normalization and explain its significance."
      ],
      "metadata": {
        "id": "iQTTu3U1JRWj"
      }
    },
    {
      "cell_type": "code",
      "source": [
        "import numpy as np\n",
        "\n",
        "data = np.array([10, 20, 30, 40, 50])\n",
        "mean = np.mean(data)\n",
        "std_dev = np.std(data)\n",
        "\n",
        "z_scores = (data - mean) / std_dev\n",
        "print(\"Z-scores:\", z_scores)\n"
      ],
      "metadata": {
        "colab": {
          "base_uri": "https://localhost:8080/"
        },
        "id": "3ii5qJ1VHifY",
        "outputId": "27473c45-476e-4403-831e-d7c867b2a9d5"
      },
      "execution_count": 19,
      "outputs": [
        {
          "output_type": "stream",
          "name": "stdout",
          "text": [
            "Z-scores: [-1.41421356 -0.70710678  0.          0.70710678  1.41421356]\n"
          ]
        }
      ]
    },
    {
      "cell_type": "markdown",
      "source": [
        "## Compare two datasets using their standard deviations."
      ],
      "metadata": {
        "id": "06lZ4jnTJTfX"
      }
    },
    {
      "cell_type": "code",
      "source": [
        "import statistics\n",
        "\n",
        "data1 = [10, 20, 30, 40, 50]\n",
        "data2 = [5, 15, 25, 35, 80]\n",
        "\n",
        "std_dev1 = statistics.stdev(data1)\n",
        "std_dev2 = statistics.stdev(data2)\n",
        "\n",
        "print(\"Standard Deviation of Dataset 1:\", std_dev1)\n",
        "print(\"Standard Deviation of Dataset 2:\", std_dev2)\n"
      ],
      "metadata": {
        "colab": {
          "base_uri": "https://localhost:8080/"
        },
        "id": "o9r_IRnAHlK2",
        "outputId": "cfa1c4e1-9ba6-4a2d-a761-da57ea383c2a"
      },
      "execution_count": 20,
      "outputs": [
        {
          "output_type": "stream",
          "name": "stdout",
          "text": [
            "Standard Deviation of Dataset 1: 15.811388300841896\n",
            "Standard Deviation of Dataset 2: 29.068883707497267\n"
          ]
        }
      ]
    },
    {
      "cell_type": "markdown",
      "source": [
        "## Write a Python program to visualize covariance using a heatmap."
      ],
      "metadata": {
        "id": "10d8cmdlJW8S"
      }
    },
    {
      "cell_type": "code",
      "source": [
        "import seaborn as sns\n",
        "import pandas as pd\n",
        "import matplotlib.pyplot as plt\n",
        "\n",
        "df = pd.DataFrame({\n",
        "    'A': [10, 20, 30, 40, 50],\n",
        "    'B': [5, 15, 25, 35, 45]\n",
        "})\n",
        "\n",
        "cov_matrix = df.cov()\n",
        "sns.heatmap(cov_matrix, annot=True, cmap='coolwarm')\n",
        "plt.title(\"Covariance Heatmap\")\n",
        "plt.show()\n"
      ],
      "metadata": {
        "colab": {
          "base_uri": "https://localhost:8080/",
          "height": 452
        },
        "id": "67FfQc1HHodB",
        "outputId": "db35db64-a86c-4b54-f678-33db5bc07c50"
      },
      "execution_count": 21,
      "outputs": [
        {
          "output_type": "display_data",
          "data": {
            "text/plain": [
              "<Figure size 640x480 with 2 Axes>"
            ],
            "image/png": "[encoded data removed]"
          },
          "metadata": {}
        }
      ]
    },
    {
      "cell_type": "markdown",
      "source": [
        "## Use seaborn to create a correlation matrix for a dataset."
      ],
      "metadata": {
        "id": "F6si7FMoJZQ5"
      }
    },
    {
      "cell_type": "code",
      "source": [
        "import seaborn as sns\n",
        "import pandas as pd\n",
        "import matplotlib.pyplot as plt\n",
        "\n",
        "df = pd.DataFrame({\n",
        "    'X': [10, 20, 30, 40, 50],\n",
        "    'Y': [12, 24, 33, 47, 59],\n",
        "    'Z': [1, 2, 1, 2, 1]\n",
        "})\n",
        "\n",
        "corr_matrix = df.corr()\n",
        "sns.heatmap(corr_matrix, annot=True, cmap='Blues')\n",
        "plt.title(\"Correlation Matrix\")\n",
        "plt.show()\n"
      ],
      "metadata": {
        "colab": {
          "base_uri": "https://localhost:8080/",
          "height": 452
        },
        "id": "2GrJz_rEHsYs",
        "outputId": "3a219fae-26d8-4a83-aaab-1e5ad861f5bc"
      },
      "execution_count": 22,
      "outputs": [
        {
          "output_type": "display_data",
          "data": {
            "text/plain": [
              "<Figure size 640x480 with 2 Axes>"
            ],
            "image/png": "[encoded data removed]"
          },
          "metadata": {}
        }
      ]
    },
    {
      "cell_type": "markdown",
      "source": [
        "## Generate a dataset and implement both variance and standard deviation computations."
      ],
      "metadata": {
        "id": "oWfWnmgAJb_Y"
      }
    },
    {
      "cell_type": "code",
      "source": [
        "import numpy as np\n",
        "\n",
        "data = np.random.randint(10, 100, size=20)\n",
        "\n",
        "variance = np.var(data)\n",
        "std_dev = np.std(data)\n",
        "\n",
        "print(\"Dataset:\", data)\n",
        "print(\"Variance:\", variance)\n",
        "print(\"Standard Deviation:\", std_dev)\n"
      ],
      "metadata": {
        "colab": {
          "base_uri": "https://localhost:8080/"
        },
        "id": "F10cTyzsHvdW",
        "outputId": "dfe2a1bf-ef88-42b4-cdfa-ad926d963263"
      },
      "execution_count": 23,
      "outputs": [
        {
          "output_type": "stream",
          "name": "stdout",
          "text": [
            "Dataset: [30 27 20 15 23 32 34 26 96 98 77 17 83 92 90 69 71 17 15 90]\n",
            "Variance: 1016.0899999999999\n",
            "Standard Deviation: 31.876166645316683\n"
          ]
        }
      ]
    },
    {
      "cell_type": "markdown",
      "source": [
        "## Visualize skewness and kurtosis using Python libraries like matplotlib or seaborn."
      ],
      "metadata": {
        "id": "nEmL_VeFJeyQ"
      }
    },
    {
      "cell_type": "code",
      "source": [
        "import seaborn as sns\n",
        "import matplotlib.pyplot as plt\n",
        "from scipy.stats import skew, kurtosis\n",
        "\n",
        "data = sns.load_dataset(\"tips\")['total_bill']\n",
        "\n",
        "sns.histplot(data, kde=True)\n",
        "plt.title(\"Distribution of Total Bill\")\n",
        "plt.xlabel(\"Total Bill\")\n",
        "plt.ylabel(\"Frequency\")\n",
        "plt.show()\n",
        "\n",
        "print(\"Skewness:\", skew(data))\n",
        "print(\"Kurtosis:\", kurtosis(data))\n"
      ],
      "metadata": {
        "colab": {
          "base_uri": "https://localhost:8080/",
          "height": 508
        },
        "id": "Fu5TGZLkHyWU",
        "outputId": "76c8e857-715d-44f7-cc57-58ca460385ff"
      },
      "execution_count": 24,
      "outputs": [
        {
          "output_type": "display_data",
          "data": {
            "text/plain": [
              "<Figure size 640x480 with 1 Axes>"
            ],
            "image/png": "[encoded data removed]"
          },
          "metadata": {}
        },
        {
          "output_type": "stream",
          "name": "stdout",
          "text": [
            "Skewness: 1.1262346334818638\n",
            "Kurtosis: 1.1691681323851366\n"
          ]
        }
      ]
    },
    {
      "cell_type": "markdown",
      "source": [
        "## Implement the Pearson and Spearman correlation coefficients for a dataset."
      ],
      "metadata": {
        "id": "p0cLLmWiJhXA"
      }
    },
    {
      "cell_type": "code",
      "source": [
        "from scipy.stats import pearsonr, spearmanr\n",
        "\n",
        "x = [10, 20, 30, 40, 50]\n",
        "y = [15, 25, 35, 45, 60]\n",
        "\n",
        "pearson_corr, _ = pearsonr(x, y)\n",
        "spearman_corr, _ = spearmanr(x, y)\n",
        "\n",
        "print(\"Pearson Correlation:\", pearson_corr)\n",
        "print(\"Spearman Correlation:\", spearman_corr)\n"
      ],
      "metadata": {
        "colab": {
          "base_uri": "https://localhost:8080/"
        },
        "id": "R-bl4GoyH1TY",
        "outputId": "eff9a8fc-12ab-47d1-9d82-46814c18d944"
      },
      "execution_count": 25,
      "outputs": [
        {
          "output_type": "stream",
          "name": "stdout",
          "text": [
            "Pearson Correlation: 0.9958932064677037\n",
            "Spearman Correlation: 0.9999999999999999\n"
          ]
        }
      ]
    }
  ]
}