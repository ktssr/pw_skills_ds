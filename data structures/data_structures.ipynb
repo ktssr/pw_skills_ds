{
  "nbformat": 4,
  "nbformat_minor": 0,
  "metadata": {
    "colab": {
      "provenance": []
    },
    "kernelspec": {
      "name": "python3",
      "display_name": "Python 3"
    },
    "language_info": {
      "name": "python"
    }
  },
  "cells": [
    {
      "cell_type": "markdown",
      "source": [
        "# Data Structures\n",
        "\n"
      ],
      "metadata": {
        "id": "WCNVO7_7gQjY"
      }
    },
    {
      "cell_type": "markdown",
      "source": [
        "1.  What are data structures, and why are they important?\n",
        "  - Data structures are inbuit mechanisim to store and access collection of data. Different data types can be used for different purposes. For example list can be used for the scenarios where order and duplication of data are allowed where as, set can be used for the data where order doesn't matter and duplication is allowed. We have following data types in python.\n",
        "      - String: collection of characters used for creating text\n",
        "      - List: Mutable and ordered collection of elements where duplicates are allowed\n",
        "      - Tuple: Immutable and ordered collection of elements where duplicates are allowed\n",
        "      - Set: Unordered collection ofe elements where duplicates are not allowed\n",
        "      - Dictionary: Collection of key value pairs and allows to store and access the values using keys.\n",
        "\n",
        "2. Explain the difference between mutable and immutable data types with examples?\n",
        "  - Mutable objects can be modified for example list is mutable and we can modify the list like adding or removing items or change the postion of itesm.\n",
        "  - Immutable objects cannot be modified once created, for example tuples. Once tuple is created we cannot add/remove or change the position of items in tuple. Strings are also immutable once a string is created, the sequence of characters stays same and we can not modify it. The methods like \"upper\" and slicing operator returns the new string but do not modify the original one.\n",
        "\n",
        "3. What are the main differences between lists and tuples in Python?\n",
        "  - List are mutable and ordered collection of elements where duplicates are allowed and used for the scenarios where the items in the collection need to be modified for example sorting the items. Where as, tuples are immutable and cannot be modified once created. Tuples are well suited for scenarios like representing orderd pair of points (x,y) in co-ordinate axis.\n",
        "\n",
        "4. Describe how dictionaries store data.\n",
        "  - Dictionaries store the data in key value pairs. Keys are used as unique identifiers to access or modify the corresponding values. Any immutable type can be used as key and value can be of any type. Duplication of keys is not valid. From python 3.7 the key value pairs are store in order of insertion.\n",
        "\n",
        "5. Why might you use a set instead of a list in Python?\n",
        "  - Unlike list, set does not allow duplicates. We can use them for the collection of items where each item is unique like roll numbers of a student in particular class or primary keys of a data base column. Even though same data is added multiple times to the set, set ensures that the data is present only once.\n",
        "\n",
        "6. What is a string in Python, and how is it different from a list?\n",
        "  - String is ordered sequence of characters used to represent text. Both list and string contains oredered elements. But the items in the list are heterogeneous where string items are always characters. List are mutable and allows modifications like adding, removing or changing order of the items. Where as strings are immutable and none of this modifications are allowed.\n",
        "\n",
        "\n",
        "7. How do tuples ensure data integrity in Python?\n",
        "  - Tupples are immutable and always contains the same elements in same order. When any piece of code is accessing the items in a tuple there is no chance of these items being modified by other piece of code.\n",
        "\n",
        "8. What is a hash table, and how does it relate to dictionaries in Python?\n",
        "  - Hash table is an Abstract data structure used for working with key values pairs and supports operation like look up, insert and remove key-value pairs. Implementation of Hash table in python is dictionary and serves the same purpose.\n",
        "\n",
        "9. Can lists contain different data types in Python?\n",
        "  - Yes, lists supports heterogenous data and can contain items of different data types.\n",
        "\n",
        "10. Explain why strings are immutable in Python?\n",
        "  - Sring are immutable the hash of the string always same and this helps in memory optimazion as new memory need not be alocated to same string again and again. And being immutable makes the strings eligible to be used as keys in the dictionary which is a very common scenario.\n",
        "\n",
        "11. What advantages do dictionaries offer over lists for certain tasks?\n",
        "  - When we have data in the form of key-value pair it's easy to work with dictionaries. Fo example if we have the data like where name is the key and mobile number is value. We can easily get the mobile number using the name as key. Where as, If we use lists for this purpose we need to iterate over entire list and match the name and then get the mobile number.\n",
        "\n",
        "12. Describe a scenario where using a tuple would be preferable over a list?\n",
        "  - When are dealing with geographichal locations we can use tuples for storing latitude and longitue of a particular place instead of list. This ensures that latitude and longitude will be always in the same order and there is no possiblity to add additonal values to these tuples.\n",
        "\n",
        "13. How do sets handle duplicate values in Python?\n",
        "  - Set stores the data by using the hash of the item being added. The hash values are unique and helps in quick retrieval of items. Sets doesn't allow duplicate values and even if we add existing value to a set it will not accept it as a new value and discards it.\n",
        "\n",
        "14. How does the “in” keyword work differently for lists and dictionaries?\n",
        "  - The in keyword in lists checks if the item is present in list or not. Where as the in keyword in dictionary checks if the item is present in the dictionary as a key or not.\n",
        "\n",
        "15. Can you modify the elements of a tuple? Explain why or why not?\n",
        "  - Tuples are immutable and elements of tuple cannot be modified once the tuple is created. If we want to modify the elements after creation we need to use lists instead.\n",
        "\n",
        "16. What is a nested dictionary, and give an example of its use case?\n",
        "  - Nested dictionary is a dictionary in which any of the key is associated with another dictionary as a value. For example, if we are using dictionary to store list of users. where user is the id and value is another dictionary with keys like name, mobile number etc.\n",
        "\n",
        "17. Describe the time complexity of accessing elements in a dictionary.\n",
        "  - The time complexity of accessing the elements in dictionary is O(1)i.e constant time complexity. Dictionary uses hashing for this. Each key will be having unique hash value and it will always represent the same memory location. when we try to retrieve the element the dictionay will create the hash for the key we are looking for and fetches the element directly from the memory location. There are also techniques to avaoid the hash colissions like probibing and chaining.\n",
        "\n",
        "18. In what situations are lists preferred over dictionaries?\n",
        "  - Lists are preferred over dictionaries when the insertion order is required and there is no need of storing the data as key value pairs. Also the list allows duplicate items where as keys of dictionaries can not be duplicate. One such example is adding barcodes of the products to shopping cart in supermarket.\n",
        "\n",
        "19. Why are dictionaries considered unordered, and how does that affect data retrieval?\n",
        "  Dictionaries are unordered before python 3.7 as they use hashtable to store the key value pairs. This makes the dictinaries faster to retreive the value using the key as each hash value is assigned with particular memory location, while retrieving the hash of the key is caliculated and the value will be retrieved from that paricular memory directly.\n",
        "\n",
        "20. Explain the difference between a list and a dictionary in terms of data retrieval.\n",
        "  Dictionary uses hashtable to store and retrieve the data this makes dictinaries faster to retreive the value using the key as each hash value is assigned with particular memory location, while retrieving the hash of the key is caliculated and the value will be retrieved from that paricular memory directly. Where as lists store the values one after another incase if we need to access any item lists will iterate over all the items until it finds the item being looked for and then returns that item.\n"
      ],
      "metadata": {
        "id": "eybL4Qc_fmJs"
      }
    },
    {
      "cell_type": "markdown",
      "source": [
        "## Write a code to create a string with your name and print it."
      ],
      "metadata": {
        "id": "9SebDgz4YAkV"
      }
    },
    {
      "cell_type": "code",
      "source": [
        "name = \"Sandeep\"\n",
        "print(name)"
      ],
      "metadata": {
        "colab": {
          "base_uri": "https://localhost:8080/"
        },
        "id": "B91exheaYJ7V",
        "outputId": "eb1041f9-fd3f-4387-e0e1-75d857d570fe"
      },
      "execution_count": 1,
      "outputs": [
        {
          "output_type": "stream",
          "name": "stdout",
          "text": [
            "Sandeep\n"
          ]
        }
      ]
    },
    {
      "cell_type": "markdown",
      "source": [
        "## Write a code to find the length of the string \"Hello World\"."
      ],
      "metadata": {
        "id": "6cqbEM8yYVXz"
      }
    },
    {
      "cell_type": "code",
      "execution_count": 2,
      "metadata": {
        "id": "yuUG03PPfiSK",
        "colab": {
          "base_uri": "https://localhost:8080/"
        },
        "outputId": "0a5948d2-c9f9-451b-96e4-3a1f456ca183"
      },
      "outputs": [
        {
          "output_type": "stream",
          "name": "stdout",
          "text": [
            "11\n"
          ]
        }
      ],
      "source": [
        "print(len(\"Hello World\"))"
      ]
    },
    {
      "cell_type": "markdown",
      "source": [
        "## Write a code to slice the first 3 characters from the string \"Python Programming\""
      ],
      "metadata": {
        "id": "iYg_czX4YqVY"
      }
    },
    {
      "cell_type": "code",
      "source": [
        "print(\"Python Programming\"[:3])"
      ],
      "metadata": {
        "colab": {
          "base_uri": "https://localhost:8080/"
        },
        "id": "pe5F5QIDY8eX",
        "outputId": "5265772f-2217-4d37-a7fc-9467d0750877"
      },
      "execution_count": 3,
      "outputs": [
        {
          "output_type": "stream",
          "name": "stdout",
          "text": [
            "Pyt\n"
          ]
        }
      ]
    },
    {
      "cell_type": "markdown",
      "source": [
        "## Write a code to convert the string \"hello\" to uppercase"
      ],
      "metadata": {
        "id": "abw_FCvTgH4f"
      }
    },
    {
      "cell_type": "code",
      "source": [
        "val = \"hello\"\n",
        "val = val.upper()\n",
        "print(val)"
      ],
      "metadata": {
        "colab": {
          "base_uri": "https://localhost:8080/"
        },
        "id": "ykPhZvCOgK7S",
        "outputId": "e8886180-0124-4748-d766-3559fbedd784"
      },
      "execution_count": 4,
      "outputs": [
        {
          "output_type": "stream",
          "name": "stdout",
          "text": [
            "HELLO\n"
          ]
        }
      ]
    },
    {
      "cell_type": "markdown",
      "source": [
        "## Write a code to replace the word \"apple\" with \"orange\" in the string \"I like apple\""
      ],
      "metadata": {
        "id": "6mp5PJ1IgYfu"
      }
    },
    {
      "cell_type": "code",
      "source": [
        "val = \"I like apple\"\n",
        "val = val.replace(\"apple\", \"orange\")\n",
        "print(val)"
      ],
      "metadata": {
        "colab": {
          "base_uri": "https://localhost:8080/"
        },
        "id": "nktchhw2ghGU",
        "outputId": "b611610b-6388-4462-ef3d-db10707e70dd"
      },
      "execution_count": 5,
      "outputs": [
        {
          "output_type": "stream",
          "name": "stdout",
          "text": [
            "I like orange\n"
          ]
        }
      ]
    },
    {
      "cell_type": "markdown",
      "source": [
        "## Write a code to create a list with numbers 1 to 5 and print *it*"
      ],
      "metadata": {
        "id": "J1N_lXsZgnsg"
      }
    },
    {
      "cell_type": "code",
      "source": [
        "my_list = list(range(1, 6))\n",
        "print(my_list)\n"
      ],
      "metadata": {
        "colab": {
          "base_uri": "https://localhost:8080/"
        },
        "id": "1cAcSmbCgviC",
        "outputId": "357ed9be-357c-495b-edc4-68c464717037"
      },
      "execution_count": 7,
      "outputs": [
        {
          "output_type": "stream",
          "name": "stdout",
          "text": [
            "[1, 2, 3, 4, 5]\n"
          ]
        }
      ]
    },
    {
      "cell_type": "markdown",
      "source": [
        "## Write a code to append the number 10 to the list [1, 2, 3, 4]"
      ],
      "metadata": {
        "id": "OvaTxFP5hC-S"
      }
    },
    {
      "cell_type": "code",
      "source": [
        "my_list = [1, 2, 3, 4]\n",
        "my_list.append(10)\n",
        "print(my_list)\n"
      ],
      "metadata": {
        "colab": {
          "base_uri": "https://localhost:8080/"
        },
        "id": "Z_X441uZhEUt",
        "outputId": "9b719edd-44f7-47ed-aaa5-3bae9bfc7ef6"
      },
      "execution_count": 8,
      "outputs": [
        {
          "output_type": "stream",
          "name": "stdout",
          "text": [
            "[1, 2, 3, 4, 10]\n"
          ]
        }
      ]
    },
    {
      "cell_type": "markdown",
      "source": [
        "## Write a code to remove the number 3 from the list [1, 2, 3, 4, 5]"
      ],
      "metadata": {
        "id": "CpG1KUUbg0hw"
      }
    },
    {
      "cell_type": "code",
      "source": [
        "my_list = [1, 2, 3, 4, 5]\n",
        "my_list.remove(3)\n",
        "print(my_list)\n"
      ],
      "metadata": {
        "colab": {
          "base_uri": "https://localhost:8080/"
        },
        "id": "oQKXXDekhQtV",
        "outputId": "6cbbb185-e2fb-4ed6-a7b6-2bd694c0b6fa"
      },
      "execution_count": 9,
      "outputs": [
        {
          "output_type": "stream",
          "name": "stdout",
          "text": [
            "[1, 2, 4, 5]\n"
          ]
        }
      ]
    },
    {
      "cell_type": "markdown",
      "source": [
        "## Write a code to access the second element in the list ['a', 'b', 'c', 'd']"
      ],
      "metadata": {
        "id": "R-QJsF5_ggPZ"
      }
    },
    {
      "cell_type": "code",
      "source": [
        "my_list = ['a', 'b', 'c', 'd']\n",
        "print(my_list[1])\n"
      ],
      "metadata": {
        "colab": {
          "base_uri": "https://localhost:8080/"
        },
        "id": "Vu14NOrshycq",
        "outputId": "373c2730-0231-4372-c6d7-e21b64882d62"
      },
      "execution_count": 10,
      "outputs": [
        {
          "output_type": "stream",
          "name": "stdout",
          "text": [
            "b\n"
          ]
        }
      ]
    },
    {
      "cell_type": "markdown",
      "source": [
        "## Write a code to reverse the list [10, 20, 30, 40, 50]."
      ],
      "metadata": {
        "id": "BxjvnH8Kh8aR"
      }
    },
    {
      "cell_type": "code",
      "source": [
        "my_list = [10, 20, 30, 40, 50]\n",
        "my_list.reverse()\n",
        "print(my_list)\n"
      ],
      "metadata": {
        "colab": {
          "base_uri": "https://localhost:8080/"
        },
        "id": "aLsJCObPh6O5",
        "outputId": "e5217569-bc57-4f81-f4a0-800e6219cad9"
      },
      "execution_count": 11,
      "outputs": [
        {
          "output_type": "stream",
          "name": "stdout",
          "text": [
            "[50, 40, 30, 20, 10]\n"
          ]
        }
      ]
    },
    {
      "cell_type": "markdown",
      "source": [
        "##  Write a code to create a tuple with the elements 100, 200, 300 and print it."
      ],
      "metadata": {
        "id": "GEjMxhAei4Ma"
      }
    },
    {
      "cell_type": "code",
      "source": [
        "my_tuple = (100, 200, 300)\n",
        "print(my_tuple)\n"
      ],
      "metadata": {
        "colab": {
          "base_uri": "https://localhost:8080/"
        },
        "id": "AwhGzwf4i6iX",
        "outputId": "f93b07be-a07b-403d-a4ed-9a40f049e5c0"
      },
      "execution_count": 12,
      "outputs": [
        {
          "output_type": "stream",
          "name": "stdout",
          "text": [
            "(100, 200, 300)\n"
          ]
        }
      ]
    },
    {
      "cell_type": "markdown",
      "source": [
        "## Write a code to access the second-to-last element of the tuple ('red', 'green', 'blue', 'yellow')."
      ],
      "metadata": {
        "id": "_d8gO00ajCUV"
      }
    },
    {
      "cell_type": "code",
      "source": [
        "my_tuple = ('red', 'green', 'blue', 'yellow')\n",
        "print(my_tuple[-2])\n"
      ],
      "metadata": {
        "colab": {
          "base_uri": "https://localhost:8080/"
        },
        "id": "OF3lQPmOjD7J",
        "outputId": "37887557-dd0d-4b95-f8ea-48aa5eccb349"
      },
      "execution_count": 13,
      "outputs": [
        {
          "output_type": "stream",
          "name": "stdout",
          "text": [
            "blue\n"
          ]
        }
      ]
    },
    {
      "cell_type": "markdown",
      "source": [
        "## Write a code to find the minimum number in the tuple (10, 20, 5, 15)."
      ],
      "metadata": {
        "id": "KUPtSXl0jQVb"
      }
    },
    {
      "cell_type": "code",
      "source": [
        "my_tuple = (10, 20, 5, 15)\n",
        "min_value = min(my_tuple)\n",
        "print(min_value)\n"
      ],
      "metadata": {
        "colab": {
          "base_uri": "https://localhost:8080/"
        },
        "id": "_deKFKzRjP9s",
        "outputId": "63b4e299-44e4-44a9-a46e-289da2303851"
      },
      "execution_count": 14,
      "outputs": [
        {
          "output_type": "stream",
          "name": "stdout",
          "text": [
            "5\n"
          ]
        }
      ]
    },
    {
      "cell_type": "markdown",
      "source": [
        "## Write a code to find the index of the element \"cat\" in the tuple ('dog', 'cat', 'rabbit')."
      ],
      "metadata": {
        "id": "-5GsByKljb2p"
      }
    },
    {
      "cell_type": "code",
      "source": [
        "my_tuple = ('dog', 'cat', 'rabbit')\n",
        "index = my_tuple.index('cat')\n",
        "print(index)\n"
      ],
      "metadata": {
        "colab": {
          "base_uri": "https://localhost:8080/"
        },
        "id": "ClQnCY0EjdVQ",
        "outputId": "cda43835-510d-44b1-8a7c-e17c6e2e19fd"
      },
      "execution_count": 15,
      "outputs": [
        {
          "output_type": "stream",
          "name": "stdout",
          "text": [
            "1\n"
          ]
        }
      ]
    },
    {
      "cell_type": "markdown",
      "source": [
        " ## Write a code to create a tuple containing three different fruits and check if \"kiwi\" is in it."
      ],
      "metadata": {
        "id": "owzkKdqsjkDO"
      }
    },
    {
      "cell_type": "code",
      "source": [
        "fruits = (\"apple\", \"banana\", \"orange\")\n",
        "if \"kiwi\" in fruits:\n",
        "  print(\"kiwi is in the tuple\")\n",
        "else:\n",
        "  print(\"kiwi is not in the tuple\")\n"
      ],
      "metadata": {
        "colab": {
          "base_uri": "https://localhost:8080/"
        },
        "id": "MDIO9oUajouF",
        "outputId": "7d39eda6-fe67-430d-dd5a-a91bd287f11b"
      },
      "execution_count": 16,
      "outputs": [
        {
          "output_type": "stream",
          "name": "stdout",
          "text": [
            "kiwi is not in the tuple\n"
          ]
        }
      ]
    },
    {
      "cell_type": "markdown",
      "source": [
        "##  Write a code to create a set with the elements 'a', 'b', 'c' and print it."
      ],
      "metadata": {
        "id": "fQ-77zqAj874"
      }
    },
    {
      "cell_type": "code",
      "source": [
        "my_set = {'a', 'b', 'c'}\n",
        "print(my_set)\n"
      ],
      "metadata": {
        "colab": {
          "base_uri": "https://localhost:8080/"
        },
        "id": "LOOgTi29j-Gh",
        "outputId": "c1e172f8-7178-44f7-f572-c4080213e074"
      },
      "execution_count": 17,
      "outputs": [
        {
          "output_type": "stream",
          "name": "stdout",
          "text": [
            "{'b', 'a', 'c'}\n"
          ]
        }
      ]
    },
    {
      "cell_type": "markdown",
      "source": [
        " ## Write a code to clear all elements from the set {1, 2, 3, 4, 5}."
      ],
      "metadata": {
        "id": "HbbLraXvkF7M"
      }
    },
    {
      "cell_type": "code",
      "source": [
        "my_set = {1, 2, 3, 4, 5}\n",
        "my_set.clear()\n",
        "print(my_set)\n"
      ],
      "metadata": {
        "colab": {
          "base_uri": "https://localhost:8080/"
        },
        "id": "ueTiYuyZkHcL",
        "outputId": "32ac838e-9be0-4f13-963c-001b68eccbe3"
      },
      "execution_count": 18,
      "outputs": [
        {
          "output_type": "stream",
          "name": "stdout",
          "text": [
            "set()\n"
          ]
        }
      ]
    },
    {
      "cell_type": "markdown",
      "source": [
        "## Write a code to remove the element 4 from the set {1, 2, 3, 4}."
      ],
      "metadata": {
        "id": "Hmzu6G6SkYGj"
      }
    },
    {
      "cell_type": "code",
      "source": [
        "my_set = {1, 2, 3, 4}\n",
        "my_set.remove(4)\n",
        "print(my_set)\n"
      ],
      "metadata": {
        "colab": {
          "base_uri": "https://localhost:8080/"
        },
        "id": "1m6BqzFokX30",
        "outputId": "4d1df5c3-186e-42b6-81d3-fb48f1e20b87"
      },
      "execution_count": 19,
      "outputs": [
        {
          "output_type": "stream",
          "name": "stdout",
          "text": [
            "{1, 2, 3}\n"
          ]
        }
      ]
    },
    {
      "cell_type": "markdown",
      "source": [
        " ## Write a code to find the union of two sets {1, 2, 3} and {3, 4, 5}."
      ],
      "metadata": {
        "id": "9F4li795kjmZ"
      }
    },
    {
      "cell_type": "code",
      "source": [
        "set1 = {1, 2, 3}\n",
        "set2 = {3, 4, 5}\n",
        "union_set = set1.union(set2)\n",
        "print(union_set)\n"
      ],
      "metadata": {
        "colab": {
          "base_uri": "https://localhost:8080/"
        },
        "id": "B2MuYWLKklKM",
        "outputId": "4c345e1c-0905-4fe9-837f-323b13f09b2c"
      },
      "execution_count": 20,
      "outputs": [
        {
          "output_type": "stream",
          "name": "stdout",
          "text": [
            "{1, 2, 3, 4, 5}\n"
          ]
        }
      ]
    },
    {
      "cell_type": "markdown",
      "source": [
        " ## Write a code to find the intersection of two sets {1, 2, 3} and {2, 3, 4}."
      ],
      "metadata": {
        "id": "pnACi8zejNIy"
      }
    },
    {
      "cell_type": "code",
      "source": [
        "set1 = {1, 2, 3}\n",
        "set2 = {2, 3, 4}\n",
        "intersection_set = set1.intersection(set2)\n",
        "print(intersection_set)\n"
      ],
      "metadata": {
        "colab": {
          "base_uri": "https://localhost:8080/"
        },
        "id": "hKwID21IksgH",
        "outputId": "1cce7c67-9135-40b3-bb04-68c733db43f7"
      },
      "execution_count": 21,
      "outputs": [
        {
          "output_type": "stream",
          "name": "stdout",
          "text": [
            "{2, 3}\n"
          ]
        }
      ]
    },
    {
      "cell_type": "markdown",
      "source": [
        "## Write a code to create a dictionary with the keys \"name\", \"age\", and \"city\", and print it."
      ],
      "metadata": {
        "id": "aJLlBjhek-JA"
      }
    },
    {
      "cell_type": "code",
      "source": [
        "my_dict = {\"name\": \"Sandeep\", \"age\": 34, \"city\": \"Kaikalur\"}\n",
        "print(my_dict)\n"
      ],
      "metadata": {
        "colab": {
          "base_uri": "https://localhost:8080/"
        },
        "id": "CTvDCe-UlDn6",
        "outputId": "73bc7e31-6f9c-421b-e627-b9697b9f0ab3"
      },
      "execution_count": 22,
      "outputs": [
        {
          "output_type": "stream",
          "name": "stdout",
          "text": [
            "{'name': 'Sandeep', 'age': 34, 'city': 'Kaikalur'}\n"
          ]
        }
      ]
    },
    {
      "cell_type": "markdown",
      "source": [
        "## Write a code to add a new key-value pair \"country\": \"USA\" to the dictionary {'name': 'John', 'age': 25}."
      ],
      "metadata": {
        "id": "C8zlSJMImqeD"
      }
    },
    {
      "cell_type": "code",
      "source": [
        "my_dict = {'name': 'John', 'age': 25}\n",
        "my_dict[\"country\"] = \"USA\"\n",
        "print(my_dict)\n"
      ],
      "metadata": {
        "colab": {
          "base_uri": "https://localhost:8080/"
        },
        "id": "kNjsCkcEmtvN",
        "outputId": "17fcad79-6a76-4ec9-98dc-4a5022cb5fb4"
      },
      "execution_count": 23,
      "outputs": [
        {
          "output_type": "stream",
          "name": "stdout",
          "text": [
            "{'name': 'John', 'age': 25, 'country': 'USA'}\n"
          ]
        }
      ]
    },
    {
      "cell_type": "markdown",
      "source": [
        "## Write a code to access the value associated with the key \"name\" in the dictionary {'name': 'Alice', 'age': 30}."
      ],
      "metadata": {
        "id": "tJ6GIyYDm2Nd"
      }
    },
    {
      "cell_type": "code",
      "source": [
        "my_dict = {'name': 'Alice', 'age': 30}\n",
        "print(my_dict[\"name\"])\n"
      ],
      "metadata": {
        "colab": {
          "base_uri": "https://localhost:8080/"
        },
        "id": "vcy9lIWMm4Jj",
        "outputId": "3bcaceef-13ff-438a-83a7-c974011afbdf"
      },
      "execution_count": 25,
      "outputs": [
        {
          "output_type": "stream",
          "name": "stdout",
          "text": [
            "Alice\n"
          ]
        }
      ]
    },
    {
      "cell_type": "markdown",
      "source": [
        " ## Write a code to remove the key \"age\" from the dictionary {'name': 'Bob', 'age': 22, 'city': 'New York'}."
      ],
      "metadata": {
        "id": "vA7QthhOnEfU"
      }
    },
    {
      "cell_type": "code",
      "source": [
        "my_dict = {'name': 'Bob', 'age': 22, 'city': 'New York'}\n",
        "del my_dict['age']\n",
        "print(my_dict)\n"
      ],
      "metadata": {
        "colab": {
          "base_uri": "https://localhost:8080/"
        },
        "id": "WpSwl_Ccm_lx",
        "outputId": "b053523b-60a2-4e9f-ba9e-ecb61feeb104"
      },
      "execution_count": 26,
      "outputs": [
        {
          "output_type": "stream",
          "name": "stdout",
          "text": [
            "{'name': 'Bob', 'city': 'New York'}\n"
          ]
        }
      ]
    },
    {
      "cell_type": "markdown",
      "source": [
        "##  Write a code to check if the key \"city\" exists in the dictionary {'name': 'Alice', 'city': 'Paris'}."
      ],
      "metadata": {
        "id": "IhviyZOrntir"
      }
    },
    {
      "cell_type": "code",
      "source": [
        "my_dict = {'name': 'Alice', 'city': 'Paris'}\n",
        "if \"city\" in my_dict:\n",
        "  print(\"The key 'city' exists in the dictionary.\")\n",
        "else:\n",
        "  print(\"The key 'city' does not exist in the dictionary.\")\n"
      ],
      "metadata": {
        "colab": {
          "base_uri": "https://localhost:8080/"
        },
        "id": "aB9UAgEBnCkL",
        "outputId": "fe628afb-8c02-4e2d-fd83-42fd3bb7761c"
      },
      "execution_count": 27,
      "outputs": [
        {
          "output_type": "stream",
          "name": "stdout",
          "text": [
            "The key 'city' exists in the dictionary.\n"
          ]
        }
      ]
    },
    {
      "cell_type": "markdown",
      "source": [
        " ## Write a code to create a list, a tuple, and a dictionary, and print them all."
      ],
      "metadata": {
        "id": "KSgT3JlYohFf"
      }
    },
    {
      "cell_type": "code",
      "source": [
        "my_list = [1, 2, 3, 4, 5]\n",
        "my_tuple = (6, 7, 8, 9, 10)\n",
        "my_dict = {\"name\": \"Alice\", \"age\": 30, \"city\": \"New York\"}\n",
        "\n",
        "\n",
        "print(\"List:\", my_list)\n",
        "print(\"Tuple:\", my_tuple)\n",
        "print(\"Dictionary:\", my_dict)\n"
      ],
      "metadata": {
        "colab": {
          "base_uri": "https://localhost:8080/"
        },
        "id": "P5xA4VEEoilU",
        "outputId": "4bfa1351-864a-4f0d-b368-ecadb837063f"
      },
      "execution_count": 28,
      "outputs": [
        {
          "output_type": "stream",
          "name": "stdout",
          "text": [
            "List: [1, 2, 3, 4, 5]\n",
            "Tuple: (6, 7, 8, 9, 10)\n",
            "Dictionary: {'name': 'Alice', 'age': 30, 'city': 'New York'}\n"
          ]
        }
      ]
    },
    {
      "cell_type": "markdown",
      "source": [
        "##  Write a code to create a list of 5 random numbers between 1 and 100, sort it in ascending order, and print the result.(replaced)"
      ],
      "metadata": {
        "id": "KSAsIMEvosFI"
      }
    },
    {
      "cell_type": "code",
      "source": [
        "import random\n",
        "\n",
        "random_numbers = []\n",
        "for _ in range(5):\n",
        "  random_numbers.append(random.randint(1, 100))\n",
        "random_numbers.sort()\n",
        "\n",
        "print(random_numbers)\n"
      ],
      "metadata": {
        "colab": {
          "base_uri": "https://localhost:8080/"
        },
        "id": "1D4jwoOaovX2",
        "outputId": "b95da1e6-cbb3-4486-a96c-505aae9cabfd"
      },
      "execution_count": 29,
      "outputs": [
        {
          "output_type": "stream",
          "name": "stdout",
          "text": [
            "[4, 5, 31, 37, 43]\n"
          ]
        }
      ]
    },
    {
      "cell_type": "markdown",
      "source": [
        "## Write a code to create a list with strings and print the element at the third index."
      ],
      "metadata": {
        "id": "jfxdA5Sko6U5"
      }
    },
    {
      "cell_type": "code",
      "source": [
        "my_list = [\"Teja\", \"Sai\", \"Sandeep\", \"Reddy\", \"Konala\"]\n",
        "print(my_list[3])\n"
      ],
      "metadata": {
        "colab": {
          "base_uri": "https://localhost:8080/"
        },
        "id": "Elr_ws8fo5_z",
        "outputId": "d76e0a12-14a8-4466-e58e-c64f83132c12"
      },
      "execution_count": 30,
      "outputs": [
        {
          "output_type": "stream",
          "name": "stdout",
          "text": [
            "Reddy\n"
          ]
        }
      ]
    },
    {
      "cell_type": "markdown",
      "source": [
        "## Write a code to combine two dictionaries into one and print the result."
      ],
      "metadata": {
        "id": "ywdkhSUUpNxN"
      }
    },
    {
      "cell_type": "code",
      "source": [
        "dict1 = {'a': 1, 'b': 2}\n",
        "dict2 = {'c': 3, 'd': 4}\n",
        "\n",
        "dict1.update(dict2)\n",
        "print(dict1)\n"
      ],
      "metadata": {
        "colab": {
          "base_uri": "https://localhost:8080/"
        },
        "id": "ZoxRarWYo5-F",
        "outputId": "54496de8-dece-4974-a01d-eb10004a7af9"
      },
      "execution_count": 31,
      "outputs": [
        {
          "output_type": "stream",
          "name": "stdout",
          "text": [
            "{'a': 1, 'b': 2, 'c': 3, 'd': 4}\n"
          ]
        }
      ]
    },
    {
      "cell_type": "markdown",
      "source": [
        "## Write a code to convert a list of strings into a set."
      ],
      "metadata": {
        "id": "93Nxih0Xpkxc"
      }
    },
    {
      "cell_type": "code",
      "source": [
        "string_list = [\"apple\", \"banana\", \"orange\", \"apple\", \"grape\"]\n",
        "string_set = set(string_list)\n",
        "print(string_set)\n"
      ],
      "metadata": {
        "colab": {
          "base_uri": "https://localhost:8080/"
        },
        "id": "Igk4np2BpjNa",
        "outputId": "cd2733d8-9ecd-4d30-92d6-76edb8eba319"
      },
      "execution_count": 32,
      "outputs": [
        {
          "output_type": "stream",
          "name": "stdout",
          "text": [
            "{'orange', 'grape', 'banana', 'apple'}\n"
          ]
        }
      ]
    }
  ]
}