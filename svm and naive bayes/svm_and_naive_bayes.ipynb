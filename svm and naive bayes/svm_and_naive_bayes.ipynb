{
  "cells": [
    {
      "cell_type": "markdown",
      "metadata": {
        "id": "1XIcjJ7CpwiF"
      },
      "source": [
        "# SVM and Naive Bayes\n",
        "\n",
        "### 1. What is a Support Vector Machine (SVM)?\n",
        "- Support Vector Machine (SVM) is a supervised machine learning algorithm used for classification and regression tasks. SVM works by finding a hyperplane that best separates the data points of different classes. It aims to maximize the margin between different classes to improve generalization and prevent overfitting. It can be used for both linear and non-linear classification problems with the help of kernel functions.\n",
        "\n",
        "### 2. What is the difference between Hard Margin and Soft Margin SVM?\n",
        "- **Hard Margin SVM**: It assumes that the data is linearly separable, meaning there is no overlap between classes. The margin between the classes is maximized, and no data points are allowed to be misclassified.\n",
        "- **Soft Margin SVM**: It allows some data points to be misclassified to achieve a better separation when the data is not perfectly linearly separable. The soft margin introduces a penalty for misclassification to balance between the margin size and the number of misclassified points.\n",
        "\n",
        "### 3. What is the mathematical intuition behind SVM?\n",
        "- The mathematical intuition behind SVM is to find a hyperplane that separates the data points into two classes while maximizing the margin (the distance between the nearest points of each class). The margin is defined as the distance between the hyperplane and the closest data points, called support vectors. SVM solves an optimization problem using convex optimization techniques to maximize this margin.\n",
        "\n",
        "### 4. What is the role of Lagrange Multipliers in SVM?\n",
        "- Lagrange Multipliers are used in SVM to convert the constrained optimization problem into an unconstrained one. They help in finding the optimal values for the support vectors and the hyperplane. The Lagrange multipliers introduce a penalty term for violating the constraints, allowing the SVM to handle situations like soft margin classification.\n",
        "\n",
        "### 5. What are Support Vectors in SVM?\n",
        "- Support vectors are the data points that lie closest to the hyperplane. These points are crucial because they define the margin and determine the position of the hyperplane. The support vectors are the key elements that influence the final model, and removing them would affect the model's performance.\n",
        "\n",
        "### 6. What is a Support Vector Classifier (SVC)?\n",
        "- A Support Vector Classifier (SVC) is an SVM model that is specifically used for classification tasks. It works by finding the optimal hyperplane that best separates the data into different classes. The goal of SVC is to maximize the margin between the classes while minimizing classification errors.\n",
        "\n",
        "### 7. What is a Support Vector Regressor (SVR)?\n",
        "- A Support Vector Regressor (SVR) is an SVM model used for regression tasks. Unlike classification, SVR tries to find a hyperplane that best fits the data, allowing for some margin of error. SVR aims to minimize the error while maintaining a margin, so it is more robust to outliers.\n",
        "\n",
        "### 8. What is the Kernel Trick in SVM?\n",
        "- The Kernel Trick is a technique used in SVM to transform non-linearly separable data into a higher-dimensional space where it becomes linearly separable. This is done using a kernel function, which computes the inner product between data points in this higher-dimensional space without explicitly computing the coordinates of the data points in that space.\n",
        "\n",
        "### 9. Compare Linear Kernel, Polynomial Kernel, and RBF Kernel:\n",
        "- **Linear Kernel**: A linear kernel is used when the data is linearly separable. It computes the inner product of the data points in their original space.\n",
        "- **Polynomial Kernel**: A polynomial kernel is used when the data has a non-linear relationship. It transforms the data into a higher-dimensional space and computes the inner product.\n",
        "- **RBF Kernel (Radial Basis Function)**: RBF kernel is used for highly non-linear data. It computes the similarity between data points based on their distance in the feature space, mapping the data to an infinite-dimensional space.\n",
        "\n",
        "### 10. What is the effect of the C parameter in SVM?\n",
        "- The **C parameter** in SVM controls the trade-off between maximizing the margin and minimizing classification errors. A large value of C makes the model more sensitive to misclassification, leading to a smaller margin but fewer errors. A small value of C allows for a larger margin, but the model might tolerate more misclassifications.\n",
        "\n",
        "### 11. What is the role of the Gamma parameter in RBF Kernel SVM?\n",
        "- The **Gamma parameter** controls the influence of individual data points in the RBF kernel. A high value of Gamma means that the model will consider only the nearest points, resulting in a more complex decision boundary. A low value of Gamma means the model will have a smoother decision boundary and be more general.\n",
        "\n",
        "### 12. What is the Naïve Bayes classifier, and why is it called \"Naïve\"?\n",
        "- The Naïve Bayes classifier is a probabilistic classifier based on Bayes' Theorem. It assumes that the features are conditionally independent given the class label, which is why it is called \"Naïve.\" Despite this strong assumption, Naïve Bayes performs well in many real-world applications, especially in text classification.\n",
        "\n",
        "### 13. What is Bayes’ Theorem?\n",
        "- Bayes' Theorem is a mathematical formula used to update the probability of a hypothesis based on new evidence. It is given by:\n",
        "  $$\n",
        "  P(A|B) = \\frac{P(B|A)P(A)}{P(B)}\n",
        "  $$\n",
        "  where:\n",
        "  - \\(P(A|B)\\) is the probability of hypothesis \\(A\\) given evidence \\(B\\),\n",
        "  - \\(P(B|A)\\) is the probability of evidence \\(B\\) given hypothesis \\(A\\),\n",
        "  - \\(P(A)\\) is the prior probability of \\(A\\),\n",
        "  - \\(P(B)\\) is the probability of evidence \\(B\\).\n",
        "\n",
        "### 14. Explain the differences between Gaussian Naïve Bayes, Multinomial Naïve Bayes, and Bernoulli Naïve Bayes:\n",
        "- **Gaussian Naïve Bayes**: Assumes that the features follow a normal (Gaussian) distribution and is used when the features are continuous.\n",
        "- **Multinomial Naïve Bayes**: Assumes that the features are discrete counts and is commonly used in text classification, where the features are word counts or frequencies.\n",
        "- **Bernoulli Naïve Bayes**: Assumes binary features (0 or 1) and is used when features are binary in nature, like the presence or absence of a word in a document.\n",
        "\n",
        "### 15. When should you use Gaussian Naïve Bayes over other variants?\n",
        "- You should use **Gaussian Naïve Bayes** when the features are continuous and are assumed to follow a Gaussian (normal) distribution. It is effective when the data has a relatively normal distribution.\n",
        "\n",
        "### 16. What are the key assumptions made by Naïve Bayes?\n",
        "- The key assumptions made by Naïve Bayes are:\n",
        "  1. **Conditional independence**: All features are conditionally independent given the class label.\n",
        "  2. **Feature distribution**: Depending on the variant, features follow a specific distribution (e.g., Gaussian for Gaussian Naïve Bayes, multinomial for Multinomial Naïve Bayes, etc.).\n",
        "\n",
        "### 17. What are the advantages and disadvantages of Naïve Bayes?\n",
        "- **Advantages**:\n",
        "  - Simple and easy to implement.\n",
        "  - Works well with high-dimensional data (e.g., text data).\n",
        "  - Efficient for large datasets.\n",
        "  - Performs well with small datasets when features are conditionally independent.\n",
        "- **Disadvantages**:\n",
        "  - The \"Naïve\" assumption of feature independence may not hold in real-world problems, which could limit its performance.\n",
        "  - Struggles with highly correlated features.\n",
        "\n",
        "### 18. Why is Naïve Bayes a good choice for text classification?\n",
        "- Naïve Bayes is a good choice for text classification because:\n",
        "  - Text data is often sparse and high-dimensional, which suits the simplicity of Naïve Bayes.\n",
        "  - It performs well with large datasets and when features (like words) are conditionally independent, which is a reasonable assumption in many text classification tasks.\n",
        "\n",
        "### 19. Compare SVM and Naïve Bayes for classification tasks:\n",
        "- **SVM**:\n",
        "  - Suitable for both linear and non-linear classification.\n",
        "  - Requires more computational resources.\n",
        "  - Generally performs better on smaller datasets with high-dimensional features.\n",
        "- **Naïve Bayes**:\n",
        "  - Performs well with large datasets, especially for text classification.\n",
        "  - Assumes conditional independence, which can be a limitation in certain cases.\n",
        "  - Simple to implement and computationally efficient.\n",
        "\n",
        "### 20. How does Laplace Smoothing help in Naïve Bayes?\n",
        "- **Laplace Smoothing** (also called additive smoothing) helps prevent the problem of zero probability in Naïve Bayes when a feature value doesn't appear in the training data. It adds a small constant (usually 1) to the counts, ensuring that no probability is ever zero, especially in cases where a certain feature value is absent from the training data.\n"
      ]
    },
    {
      "cell_type": "markdown",
      "metadata": {
        "id": "IeFEn440vrT0"
      },
      "source": [
        "## Write a Python program to train an SVM Classifier on the Iris dataset and evaluate accuracy"
      ]
    },
    {
      "cell_type": "code",
      "execution_count": 4,
      "metadata": {
        "colab": {
          "base_uri": "https://localhost:8080/"
        },
        "id": "_uDlj98Kpv32",
        "outputId": "a2b971d5-9175-4700-e319-510b6e882866"
      },
      "outputs": [
        {
          "name": "stdout",
          "output_type": "stream",
          "text": [
            "Accuracy: 1.0000\n"
          ]
        }
      ],
      "source": [
        "from sklearn import datasets\n",
        "from sklearn.model_selection import train_test_split\n",
        "from sklearn.svm import SVC\n",
        "from sklearn.metrics import accuracy_score\n",
        "\n",
        "# Load Iris dataset\n",
        "iris = datasets.load_iris()\n",
        "X = iris.data\n",
        "y = iris.target\n",
        "\n",
        "# Split into train and test sets\n",
        "X_train, X_test, y_train, y_test = train_test_split(X, y, test_size=0.3, random_state=42)\n",
        "\n",
        "# Train an SVM classifier\n",
        "svm = SVC(kernel='linear')\n",
        "svm.fit(X_train, y_train)\n",
        "\n",
        "# Make predictions\n",
        "y_pred = svm.predict(X_test)\n",
        "\n",
        "# Evaluate accuracy\n",
        "accuracy = accuracy_score(y_test, y_pred)\n",
        "print(f\"Accuracy: {accuracy:.4f}\")\n"
      ]
    },
    {
      "cell_type": "markdown",
      "metadata": {
        "id": "6zpdwhObv0tY"
      },
      "source": [
        "## Write a Python program to train two SVM classifiers with Linear and RBF kernels on the Wine dataset, then compare their accuracies"
      ]
    },
    {
      "cell_type": "code",
      "execution_count": 5,
      "metadata": {
        "colab": {
          "base_uri": "https://localhost:8080/"
        },
        "id": "h6DvAH4ov7ca",
        "outputId": "4ab246b3-76d9-4afb-c827-bdc1541de5a3"
      },
      "outputs": [
        {
          "name": "stdout",
          "output_type": "stream",
          "text": [
            "Accuracy of SVM with Linear kernel: 0.9815\n",
            "Accuracy of SVM with RBF kernel: 0.7593\n"
          ]
        }
      ],
      "source": [
        "from sklearn import datasets\n",
        "from sklearn.model_selection import train_test_split\n",
        "from sklearn.svm import SVC\n",
        "from sklearn.metrics import accuracy_score\n",
        "\n",
        "# Load Wine dataset\n",
        "wine = datasets.load_wine()\n",
        "X = wine.data\n",
        "y = wine.target\n",
        "\n",
        "# Split into train and test sets\n",
        "X_train, X_test, y_train, y_test = train_test_split(X, y, test_size=0.3, random_state=42)\n",
        "\n",
        "# Train SVM classifier with Linear kernel\n",
        "svm_linear = SVC(kernel='linear')\n",
        "svm_linear.fit(X_train, y_train)\n",
        "y_pred_linear = svm_linear.predict(X_test)\n",
        "accuracy_linear = accuracy_score(y_test, y_pred_linear)\n",
        "\n",
        "# Train SVM classifier with RBF kernel\n",
        "svm_rbf = SVC(kernel='rbf')\n",
        "svm_rbf.fit(X_train, y_train)\n",
        "y_pred_rbf = svm_rbf.predict(X_test)\n",
        "accuracy_rbf = accuracy_score(y_test, y_pred_rbf)\n",
        "\n",
        "# Compare accuracies\n",
        "print(f\"Accuracy of SVM with Linear kernel: {accuracy_linear:.4f}\")\n",
        "print(f\"Accuracy of SVM with RBF kernel: {accuracy_rbf:.4f}\")\n"
      ]
    },
    {
      "cell_type": "markdown",
      "metadata": {
        "id": "KlYw1Wmkv72b"
      },
      "source": [
        "## Write a Python program to train an SVM Regressor (SVR) on a housing dataset and evaluate it using Mean Squared Error (MSE)"
      ]
    },
    {
      "cell_type": "code",
      "execution_count": 3,
      "metadata": {
        "id": "0-uCo51zxh7-"
      },
      "outputs": [
        {
          "name": "stdout",
          "output_type": "stream",
          "text": [
            "Mean Squared Error: 6259.9429\n"
          ]
        }
      ],
      "source": [
        "from sklearn.datasets import fetch_california_housing\n",
        "from sklearn.model_selection import train_test_split\n",
        "from sklearn.svm import SVR\n",
        "from sklearn.metrics import mean_squared_error\n",
        "from sklearn.preprocessing import StandardScaler\n",
        "\n",
        "# Load California Housing dataset\n",
        "housing = fetch_california_housing()\n",
        "X = housing.data\n",
        "y = housing.target\n",
        "\n",
        "# Split into train and test sets\n",
        "X_train, X_test, y_train, y_test = train_test_split(X, y, test_size=0.3, random_state=42)\n",
        "\n",
        "scaler = StandardScaler()\n",
        "X_train_scaled = scaler.fit_transform(X_train)\n",
        "\n",
        "\n",
        "# Train SVM regressor\n",
        "svr = SVR(kernel='linear')\n",
        "svr.fit(X_train_scaled, y_train)\n",
        "\n",
        "# Predict and evaluate MSE\n",
        "y_pred = svr.predict(X_test)\n",
        "mse = mean_squared_error(y_test, y_pred)\n",
        "print(f\"Mean Squared Error: {mse:.4f}\")\n"
      ]
    },
    {
      "cell_type": "markdown",
      "metadata": {
        "id": "KE6Udp2awGuM"
      },
      "source": [
        "## Write a Python program to train an SVM Classifier with a Polynomial Kernel and visualize the decision boundary"
      ]
    },
    {
      "cell_type": "code",
      "execution_count": null,
      "metadata": {
        "id": "YxLiLKYRxrob"
      },
      "outputs": [],
      "source": [
        "import numpy as np\n",
        "import matplotlib.pyplot as plt\n",
        "from sklearn import datasets\n",
        "from sklearn.svm import SVC\n",
        "from sklearn.model_selection import train_test_split\n",
        "\n",
        "# Load Iris dataset\n",
        "iris = datasets.load_iris()\n",
        "X = iris.data[:, :2]  # Using only the first two features for visualization\n",
        "y = iris.target\n",
        "\n",
        "# Split into train and test sets\n",
        "X_train, X_test, y_train, y_test = train_test_split(X, y, test_size=0.3, random_state=42)\n",
        "\n",
        "# Train SVM with Polynomial kernel\n",
        "svm_poly = SVC(kernel='poly', degree=3)\n",
        "svm_poly.fit(X_train, y_train)\n",
        "\n",
        "# Plot the decision boundary\n",
        "x_min, x_max = X[:, 0].min() - 1, X[:, 0].max() + 1\n",
        "y_min, y_max = X[:, 1].min() - 1, X[:, 1].max() + 1\n",
        "xx, yy = np.meshgrid(np.arange(x_min, x_max, 0.1), np.arange(y_min, y_max, 0.1))\n",
        "\n",
        "Z = svm_poly.predict(np.c_[xx.ravel(), yy.ravel()])\n",
        "Z = Z.reshape(xx.shape)\n",
        "\n",
        "plt.contourf(xx, yy, Z, alpha=0.75)\n",
        "plt.scatter(X[:, 0], X[:, 1], c=y, edgecolors='k', marker='o', s=50)\n",
        "plt.title(\"SVM Classifier with Polynomial Kernel\")\n",
        "plt.show()\n"
      ]
    },
    {
      "cell_type": "markdown",
      "metadata": {
        "id": "w7t79NMhwJdD"
      },
      "source": [
        "## Write a Python program to train a Gaussian Naïve Bayes classifier on the Breast Cancer dataset and evaluate accuracy"
      ]
    },
    {
      "cell_type": "code",
      "execution_count": 3,
      "metadata": {
        "id": "pt6ycZiSxvjd"
      },
      "outputs": [
        {
          "name": "stdout",
          "output_type": "stream",
          "text": [
            "Accuracy: 0.9415\n"
          ]
        }
      ],
      "source": [
        "from sklearn.datasets import load_breast_cancer\n",
        "from sklearn.model_selection import train_test_split\n",
        "from sklearn.naive_bayes import GaussianNB\n",
        "from sklearn.metrics import accuracy_score\n",
        "\n",
        "# Load Breast Cancer dataset\n",
        "cancer = load_breast_cancer()\n",
        "X = cancer.data\n",
        "y = cancer.target\n",
        "\n",
        "# Split into train and test sets\n",
        "X_train, X_test, y_train, y_test = train_test_split(X, y, test_size=0.3, random_state=42)\n",
        "\n",
        "# Train Gaussian Naïve Bayes classifier\n",
        "gnb = GaussianNB()\n",
        "gnb.fit(X_train, y_train)\n",
        "\n",
        "# Make predictions and evaluate accuracy\n",
        "y_pred = gnb.predict(X_test)\n",
        "accuracy = accuracy_score(y_test, y_pred)\n",
        "print(f\"Accuracy: {accuracy:.4f}\")\n"
      ]
    },
    {
      "cell_type": "markdown",
      "metadata": {
        "id": "KXLgnQsGwMi3"
      },
      "source": [
        "## Write a Python program to train a Multinomial Naïve Bayes classifier for text classification using the 20 Newsgroups dataset."
      ]
    },
    {
      "cell_type": "code",
      "execution_count": 4,
      "metadata": {
        "id": "1_oy9TgoxyAw"
      },
      "outputs": [
        {
          "name": "stdout",
          "output_type": "stream",
          "text": [
            "Accuracy: 0.8444\n"
          ]
        }
      ],
      "source": [
        "from sklearn.datasets import fetch_20newsgroups\n",
        "from sklearn.feature_extraction.text import CountVectorizer\n",
        "from sklearn.naive_bayes import MultinomialNB\n",
        "from sklearn.model_selection import train_test_split\n",
        "from sklearn.metrics import accuracy_score\n",
        "\n",
        "# Load 20 Newsgroups dataset\n",
        "newsgroups = fetch_20newsgroups(subset='all')\n",
        "X = newsgroups.data\n",
        "y = newsgroups.target\n",
        "\n",
        "# Convert text to word counts\n",
        "vectorizer = CountVectorizer()\n",
        "X_vec = vectorizer.fit_transform(X)\n",
        "\n",
        "# Split into train and test sets\n",
        "X_train, X_test, y_train, y_test = train_test_split(X_vec, y, test_size=0.3, random_state=42)\n",
        "\n",
        "# Train Multinomial Naïve Bayes classifier\n",
        "mnb = MultinomialNB()\n",
        "mnb.fit(X_train, y_train)\n",
        "\n",
        "# Make predictions and evaluate accuracy\n",
        "y_pred = mnb.predict(X_test)\n",
        "accuracy = accuracy_score(y_test, y_pred)\n",
        "print(f\"Accuracy: {accuracy:.4f}\")\n"
      ]
    },
    {
      "cell_type": "markdown",
      "metadata": {
        "id": "Gy644fpMwPSI"
      },
      "source": [
        "## Write a Python program to train an SVM Classifier with different C values and compare the decision boundaries visually"
      ]
    },
    {
      "cell_type": "code",
      "execution_count": 2,
      "metadata": {
        "id": "e7JlLi4wx2Q4"
      },
      "outputs": [
        {
          "data": {
            "image/png": "[encoded data removed]",
            "text/plain": [
              "<Figure size 1200x400 with 3 Axes>"
            ]
          },
          "metadata": {},
          "output_type": "display_data"
        }
      ],
      "source": [
        "import numpy as np\n",
        "import matplotlib.pyplot as plt\n",
        "from sklearn import datasets\n",
        "from sklearn.svm import SVC\n",
        "from sklearn.model_selection import train_test_split\n",
        "\n",
        "# Load Iris dataset\n",
        "iris = datasets.load_iris()\n",
        "X = iris.data[:, :2]  # Using only the first two features for visualization\n",
        "y = iris.target\n",
        "\n",
        "# Split into train and test sets\n",
        "X_train, X_test, y_train, y_test = train_test_split(X, y, test_size=0.3, random_state=42)\n",
        "\n",
        "# Train SVM classifiers with different C values\n",
        "C_values = [0.1, 1, 10]\n",
        "plt.figure(figsize=(12, 4))\n",
        "\n",
        "for i, C in enumerate(C_values):\n",
        "    svm = SVC(kernel='linear', C=C)\n",
        "    svm.fit(X_train, y_train)\n",
        "\n",
        "    plt.subplot(1, 3, i+1)\n",
        "    plt.title(f\"SVM with C={C}\")\n",
        "\n",
        "    x_min, x_max = X[:, 0].min() - 1, X[:, 0].max() + 1\n",
        "    y_min, y_max = X[:, 1].min() - 1, X[:, 1].max() + 1\n",
        "    xx, yy = np.meshgrid(np.arange(x_min, x_max, 0.1), np.arange(y_min, y_max, 0.1))\n",
        "\n",
        "    Z = svm.predict(np.c_[xx.ravel(), yy.ravel()])\n",
        "    Z = Z.reshape(xx.shape)\n",
        "\n",
        "    plt.contourf(xx, yy, Z, alpha=0.75)\n",
        "    plt.scatter(X[:, 0], X[:, 1], c=y, edgecolors='k', marker='o', s=50)\n",
        "\n",
        "plt.tight_layout()\n",
        "plt.show()\n"
      ]
    },
    {
      "cell_type": "markdown",
      "metadata": {
        "id": "ltDcohxswR7f"
      },
      "source": [
        "## Write a Python program to train a Bernoulli Naïve Bayes classifier for binary classification on a dataset with binary features"
      ]
    },
    {
      "cell_type": "code",
      "execution_count": 6,
      "metadata": {
        "id": "oNQ1opzox5FR"
      },
      "outputs": [
        {
          "name": "stdout",
          "output_type": "stream",
          "text": [
            "Accuracy: 0.8133\n"
          ]
        }
      ],
      "source": [
        "from sklearn.naive_bayes import BernoulliNB\n",
        "from sklearn.datasets import make_classification\n",
        "from sklearn.model_selection import train_test_split\n",
        "from sklearn.metrics import accuracy_score\n",
        "\n",
        "# Create a synthetic binary classification dataset\n",
        "X, y = make_classification(n_samples=1000, n_features=10, n_informative=5, n_redundant=5, random_state=42)\n",
        "\n",
        "# Split into train and test sets\n",
        "X_train, X_test, y_train, y_test = train_test_split(X, y, test_size=0.3, random_state=42)\n",
        "\n",
        "# Train Bernoulli Naïve Bayes classifier\n",
        "bnb = BernoulliNB()\n",
        "bnb.fit(X_train, y_train)\n",
        "\n",
        "# Make predictions and evaluate accuracy\n",
        "y_pred = bnb.predict(X_test)\n",
        "accuracy = accuracy_score(y_test, y_pred)\n",
        "print(f\"Accuracy: {accuracy:.4f}\")\n"
      ]
    },
    {
      "cell_type": "markdown",
      "metadata": {
        "id": "-yYmSIV3wTzB"
      },
      "source": [
        "## Write a Python program to apply feature scaling before training an SVM model and compare results with unscaled data"
      ]
    },
    {
      "cell_type": "code",
      "execution_count": 7,
      "metadata": {
        "id": "THCjudTUyWue"
      },
      "outputs": [
        {
          "name": "stdout",
          "output_type": "stream",
          "text": [
            "Accuracy on unscaled data: 1.0000\n",
            "Accuracy on scaled data: 0.9778\n"
          ]
        }
      ],
      "source": [
        "from sklearn.preprocessing import StandardScaler\n",
        "from sklearn.svm import SVC\n",
        "from sklearn.datasets import load_iris\n",
        "from sklearn.model_selection import train_test_split\n",
        "from sklearn.metrics import accuracy_score\n",
        "\n",
        "# Load Iris dataset\n",
        "iris = load_iris()\n",
        "X = iris.data\n",
        "y = iris.target\n",
        "\n",
        "# Split into train and test sets\n",
        "X_train, X_test, y_train, y_test = train_test_split(X, y, test_size=0.3, random_state=42)\n",
        "\n",
        "# Train SVM on unscaled data\n",
        "svm_unscaled = SVC(kernel='linear')\n",
        "svm_unscaled.fit(X_train, y_train)\n",
        "y_pred_unscaled = svm_unscaled.predict(X_test)\n",
        "accuracy_unscaled = accuracy_score(y_test, y_pred_unscaled)\n",
        "\n",
        "# Scale features\n",
        "scaler = StandardScaler()\n",
        "X_train_scaled = scaler.fit_transform(X_train)\n",
        "X_test_scaled = scaler.transform(X_test)\n",
        "\n",
        "# Train SVM on scaled data\n",
        "svm_scaled = SVC(kernel='linear')\n",
        "svm_scaled.fit(X_train_scaled, y_train)\n",
        "y_pred_scaled = svm_scaled.predict(X_test_scaled)\n",
        "accuracy_scaled = accuracy_score(y_test, y_pred_scaled)\n",
        "\n",
        "print(f\"Accuracy on unscaled data: {accuracy_unscaled:.4f}\")\n",
        "print(f\"Accuracy on scaled data: {accuracy_scaled:.4f}\")\n"
      ]
    },
    {
      "cell_type": "markdown",
      "metadata": {
        "id": "XbqcBlwJwVm6"
      },
      "source": [
        "## Write a Python program to train a Gaussian Naïve Bayes model and compare the predictions before and after Laplace Smoothing"
      ]
    },
    {
      "cell_type": "code",
      "execution_count": 8,
      "metadata": {
        "id": "ue6nXoZ8yZzr"
      },
      "outputs": [
        {
          "name": "stdout",
          "output_type": "stream",
          "text": [
            "Accuracy without Laplace smoothing: 0.9778\n",
            "Accuracy with Laplace smoothing: 0.9778\n"
          ]
        }
      ],
      "source": [
        "from sklearn.naive_bayes import GaussianNB\n",
        "from sklearn.datasets import load_iris\n",
        "from sklearn.model_selection import train_test_split\n",
        "from sklearn.metrics import accuracy_score\n",
        "\n",
        "# Load Iris dataset\n",
        "iris = load_iris()\n",
        "X = iris.data\n",
        "y = iris.target\n",
        "\n",
        "# Split into train and test sets\n",
        "X_train, X_test, y_train, y_test = train_test_split(X, y, test_size=0.3, random_state=42)\n",
        "\n",
        "# Train Gaussian Naïve Bayes without Laplace smoothing\n",
        "gnb_no_smooth = GaussianNB(var_smoothing=0)\n",
        "gnb_no_smooth.fit(X_train, y_train)\n",
        "y_pred_no_smooth = gnb_no_smooth.predict(X_test)\n",
        "accuracy_no_smooth = accuracy_score(y_test, y_pred_no_smooth)\n",
        "\n",
        "# Train Gaussian Naïve Bayes with Laplace smoothing\n",
        "gnb_smooth = GaussianNB(var_smoothing=1)\n",
        "gnb_smooth.fit(X_train, y_train)\n",
        "y_pred_smooth = gnb_smooth.predict(X_test)\n",
        "accuracy_smooth = accuracy_score(y_test, y_pred_smooth)\n",
        "\n",
        "print(f\"Accuracy without Laplace smoothing: {accuracy_no_smooth:.4f}\")\n",
        "print(f\"Accuracy with Laplace smoothing: {accuracy_smooth:.4f}\")\n"
      ]
    },
    {
      "cell_type": "markdown",
      "metadata": {
        "id": "ciMzW9aPwYpq"
      },
      "source": [
        "## Write a Python program to train an SVM Classifier and use GridSearchCV to tune the hyperparameters (C, gamma, kernel)"
      ]
    },
    {
      "cell_type": "code",
      "execution_count": 9,
      "metadata": {
        "id": "YTF98RWIyc02"
      },
      "outputs": [
        {
          "name": "stdout",
          "output_type": "stream",
          "text": [
            "Best parameters: {'C': 0.1, 'gamma': 'scale', 'kernel': 'poly'}\n",
            "Best cross-validation score: 0.9866666666666667\n"
          ]
        }
      ],
      "source": [
        "from sklearn.model_selection import GridSearchCV\n",
        "from sklearn.svm import SVC\n",
        "from sklearn.datasets import load_iris\n",
        "\n",
        "# Load Iris dataset\n",
        "iris = load_iris()\n",
        "X = iris.data\n",
        "y = iris.target\n",
        "\n",
        "# Create an SVM classifier\n",
        "svm = SVC()\n",
        "\n",
        "# Define parameter grid for hyperparameter tuning\n",
        "param_grid = {\n",
        "    'C': [0.1, 1, 10],\n",
        "    'gamma': ['scale', 'auto'],\n",
        "    'kernel': ['linear', 'rbf', 'poly']\n",
        "}\n",
        "\n",
        "# Use GridSearchCV for hyperparameter tuning\n",
        "grid_search = GridSearchCV(svm, param_grid, cv=5)\n",
        "grid_search.fit(X, y)\n",
        "\n",
        "# Best parameters and best score\n",
        "print(f\"Best parameters: {grid_search.best_params_}\")\n",
        "print(f\"Best cross-validation score: {grid_search.best_score_}\")\n"
      ]
    },
    {
      "cell_type": "markdown",
      "metadata": {
        "id": "Dwlwo14CwbeK"
      },
      "source": [
        "## Write a Python program to train an SVM Classifier on an imbalanced dataset and apply class weighting and check it improve accuracy"
      ]
    },
    {
      "cell_type": "code",
      "execution_count": 10,
      "metadata": {
        "id": "y5c7AbDOyeQG"
      },
      "outputs": [
        {
          "name": "stdout",
          "output_type": "stream",
          "text": [
            "Accuracy with class weighting: 0.9367\n"
          ]
        }
      ],
      "source": [
        "from sklearn.datasets import make_classification\n",
        "from sklearn.svm import SVC\n",
        "from sklearn.model_selection import train_test_split\n",
        "from sklearn.metrics import accuracy_score\n",
        "\n",
        "# Create an imbalanced binary classification dataset\n",
        "X, y = make_classification(n_samples=1000, n_features=20, n_classes=2,\n",
        "                           class_sep=2, weights=[0.9, 0.1], random_state=42)\n",
        "\n",
        "# Split into train and test sets\n",
        "X_train, X_test, y_train, y_test = train_test_split(X, y, test_size=0.3, random_state=42)\n",
        "\n",
        "# Train SVM with class weighting\n",
        "svm = SVC(kernel='linear', class_weight='balanced')\n",
        "svm.fit(X_train, y_train)\n",
        "\n",
        "# Make predictions and evaluate accuracy\n",
        "y_pred = svm.predict(X_test)\n",
        "accuracy = accuracy_score(y_test, y_pred)\n",
        "print(f\"Accuracy with class weighting: {accuracy:.4f}\")\n"
      ]
    },
    {
      "cell_type": "markdown",
      "metadata": {
        "id": "558ME7vTwd-K"
      },
      "source": [
        "## Write a Python program to implement a Naïve Bayes classifier for spam detection using email data"
      ]
    },
    {
      "cell_type": "code",
      "execution_count": 11,
      "metadata": {
        "id": "LW0OwzTVyfpB"
      },
      "outputs": [
        {
          "name": "stdout",
          "output_type": "stream",
          "text": [
            "Accuracy: 0.5000\n"
          ]
        }
      ],
      "source": [
        "from sklearn.feature_extraction.text import CountVectorizer\n",
        "from sklearn.naive_bayes import MultinomialNB\n",
        "from sklearn.model_selection import train_test_split\n",
        "from sklearn.metrics import accuracy_score\n",
        "\n",
        "# Example email dataset (replace with real data)\n",
        "emails = [\n",
        "    \"Free money, call now!\", \"Limited time offer, buy one get one free\",\n",
        "    \"Meeting at 3 PM\", \"Your bill is overdue, pay now\", \"How about lunch tomorrow?\"\n",
        "]\n",
        "labels = [1, 1, 0, 1, 0]  # 1 for spam, 0 for not spam\n",
        "\n",
        "# Convert email text to word counts\n",
        "vectorizer = CountVectorizer()\n",
        "X = vectorizer.fit_transform(emails)\n",
        "y = labels\n",
        "\n",
        "# Split into train and test sets\n",
        "X_train, X_test, y_train, y_test = train_test_split(X, y, test_size=0.3, random_state=42)\n",
        "\n",
        "# Train Multinomial Naïve Bayes classifier\n",
        "nb = MultinomialNB()\n",
        "nb.fit(X_train, y_train)\n",
        "\n",
        "# Make predictions and evaluate accuracy\n",
        "y_pred = nb.predict(X_test)\n",
        "accuracy = accuracy_score(y_test, y_pred)\n",
        "print(f\"Accuracy: {accuracy:.4f}\")\n"
      ]
    },
    {
      "cell_type": "markdown",
      "metadata": {
        "id": "RCroGHxfwgpt"
      },
      "source": [
        "## Write a Python program to train an SVM Classifier and a Naïve Bayes Classifier on the same dataset and compare their accuracy"
      ]
    },
    {
      "cell_type": "code",
      "execution_count": 12,
      "metadata": {
        "id": "fPJboNKLykye"
      },
      "outputs": [
        {
          "name": "stdout",
          "output_type": "stream",
          "text": [
            "SVM Accuracy: 1.0000\n",
            "Naïve Bayes Accuracy: 0.9778\n"
          ]
        }
      ],
      "source": [
        "from sklearn.datasets import load_iris\n",
        "from sklearn.model_selection import train_test_split\n",
        "from sklearn.svm import SVC\n",
        "from sklearn.naive_bayes import GaussianNB\n",
        "from sklearn.metrics import accuracy_score\n",
        "\n",
        "# Load Iris dataset\n",
        "iris = load_iris()\n",
        "X = iris.data\n",
        "y = iris.target\n",
        "\n",
        "# Split into train and test sets\n",
        "X_train, X_test, y_train, y_test = train_test_split(X, y, test_size=0.3, random_state=42)\n",
        "\n",
        "# Train SVM classifier\n",
        "svm = SVC(kernel='linear')\n",
        "svm.fit(X_train, y_train)\n",
        "y_pred_svm = svm.predict(X_test)\n",
        "accuracy_svm = accuracy_score(y_test, y_pred_svm)\n",
        "\n",
        "# Train Naïve Bayes classifier\n",
        "nb = GaussianNB()\n",
        "nb.fit(X_train, y_train)\n",
        "y_pred_nb = nb.predict(X_test)\n",
        "accuracy_nb = accuracy_score(y_test, y_pred_nb)\n",
        "\n",
        "print(f\"SVM Accuracy: {accuracy_svm:.4f}\")\n",
        "print(f\"Naïve Bayes Accuracy: {accuracy_nb:.4f}\")\n"
      ]
    },
    {
      "cell_type": "markdown",
      "metadata": {
        "id": "ffCeDrJ6wi8h"
      },
      "source": [
        "## Write a Python program to perform feature selection before training a Naïve Bayes classifier and compare results"
      ]
    },
    {
      "cell_type": "code",
      "execution_count": 13,
      "metadata": {
        "id": "H4Dr5xQ2ypAz"
      },
      "outputs": [
        {
          "name": "stdout",
          "output_type": "stream",
          "text": [
            "Accuracy after feature selection: 1.0000\n"
          ]
        }
      ],
      "source": [
        "from sklearn.datasets import load_iris\n",
        "from sklearn.feature_selection import SelectKBest, f_classif\n",
        "from sklearn.naive_bayes import GaussianNB\n",
        "from sklearn.model_selection import train_test_split\n",
        "from sklearn.metrics import accuracy_score\n",
        "\n",
        "# Load Iris dataset\n",
        "iris = load_iris()\n",
        "X = iris.data\n",
        "y = iris.target\n",
        "\n",
        "# Feature selection with SelectKBest\n",
        "selector = SelectKBest(f_classif, k=2)\n",
        "X_new = selector.fit_transform(X, y)\n",
        "\n",
        "# Split into train and test sets\n",
        "X_train, X_test, y_train, y_test = train_test_split(X_new, y, test_size=0.3, random_state=42)\n",
        "\n",
        "# Train Naïve Bayes classifier\n",
        "nb = GaussianNB()\n",
        "nb.fit(X_train, y_train)\n",
        "y_pred = nb.predict(X_test)\n",
        "\n",
        "# Evaluate accuracy\n",
        "accuracy = accuracy_score(y_test, y_pred)\n",
        "print(f\"Accuracy after feature selection: {accuracy:.4f}\")\n"
      ]
    },
    {
      "cell_type": "markdown",
      "metadata": {
        "id": "RT5VH0tewlHX"
      },
      "source": [
        "## Write a Python program to train an SVM Classifier using One-vs-Rest (OvR) and One-vs-One (OvO) strategies on the Wine dataset and compare their accuracy"
      ]
    },
    {
      "cell_type": "code",
      "execution_count": 14,
      "metadata": {
        "id": "09tdwAN_ysYV"
      },
      "outputs": [
        {
          "name": "stdout",
          "output_type": "stream",
          "text": [
            "Accuracy with One-vs-Rest: 0.9815\n",
            "Accuracy with One-vs-One: 0.9815\n"
          ]
        }
      ],
      "source": [
        "from sklearn import datasets\n",
        "from sklearn.model_selection import train_test_split\n",
        "from sklearn.svm import SVC\n",
        "from sklearn.multiclass import OneVsRestClassifier, OneVsOneClassifier\n",
        "from sklearn.metrics import accuracy_score\n",
        "\n",
        "# Load Wine dataset\n",
        "wine = datasets.load_wine()\n",
        "X = wine.data\n",
        "y = wine.target\n",
        "\n",
        "# Split into train and test sets\n",
        "X_train, X_test, y_train, y_test = train_test_split(X, y, test_size=0.3, random_state=42)\n",
        "\n",
        "# Train SVM classifier with OvR strategy\n",
        "svm_ovr = OneVsRestClassifier(SVC(kernel='linear'))\n",
        "svm_ovr.fit(X_train, y_train)\n",
        "y_pred_ovr = svm_ovr.predict(X_test)\n",
        "accuracy_ovr = accuracy_score(y_test, y_pred_ovr)\n",
        "\n",
        "# Train SVM classifier with OvO strategy\n",
        "svm_ovo = OneVsOneClassifier(SVC(kernel='linear'))\n",
        "svm_ovo.fit(X_train, y_train)\n",
        "y_pred_ovo = svm_ovo.predict(X_test)\n",
        "accuracy_ovo = accuracy_score(y_test, y_pred_ovo)\n",
        "\n",
        "print(f\"Accuracy with One-vs-Rest: {accuracy_ovr:.4f}\")\n",
        "print(f\"Accuracy with One-vs-One: {accuracy_ovo:.4f}\")\n"
      ]
    },
    {
      "cell_type": "markdown",
      "metadata": {
        "id": "PcC_UBLHwobi"
      },
      "source": [
        "## Write a Python program to train an SVM Classifier using Linear, Polynomial, and RBF kernels on the Breast Cancer dataset and compare their accuracy"
      ]
    },
    {
      "cell_type": "code",
      "execution_count": 15,
      "metadata": {
        "id": "ECDXC2wqyt0H"
      },
      "outputs": [
        {
          "name": "stdout",
          "output_type": "stream",
          "text": [
            "Accuracy with linear kernel: 0.9649\n",
            "Accuracy with poly kernel: 0.9415\n",
            "Accuracy with rbf kernel: 0.9357\n"
          ]
        }
      ],
      "source": [
        "from sklearn.datasets import load_breast_cancer\n",
        "from sklearn.model_selection import train_test_split\n",
        "from sklearn.svm import SVC\n",
        "from sklearn.metrics import accuracy_score\n",
        "\n",
        "# Load Breast Cancer dataset\n",
        "cancer = load_breast_cancer()\n",
        "X = cancer.data\n",
        "y = cancer.target\n",
        "\n",
        "# Split into train and test sets\n",
        "X_train, X_test, y_train, y_test = train_test_split(X, y, test_size=0.3, random_state=42)\n",
        "\n",
        "# Train SVM with different kernels\n",
        "kernels = ['linear', 'poly', 'rbf']\n",
        "accuracies = {}\n",
        "\n",
        "for kernel in kernels:\n",
        "    svm = SVC(kernel=kernel)\n",
        "    svm.fit(X_train, y_train)\n",
        "    y_pred = svm.predict(X_test)\n",
        "    accuracies[kernel] = accuracy_score(y_test, y_pred)\n",
        "\n",
        "# Compare accuracies\n",
        "for kernel, accuracy in accuracies.items():\n",
        "    print(f\"Accuracy with {kernel} kernel: {accuracy:.4f}\")\n"
      ]
    },
    {
      "cell_type": "markdown",
      "metadata": {
        "id": "a3SC8xIgwr-K"
      },
      "source": [
        "## Write a Python program to train an SVM Classifier using Stratified K-Fold Cross-Validation and compute the average accuracy"
      ]
    },
    {
      "cell_type": "code",
      "execution_count": 16,
      "metadata": {
        "id": "0A5WsJd8yyrF"
      },
      "outputs": [
        {
          "name": "stdout",
          "output_type": "stream",
          "text": [
            "Average accuracy using Stratified K-Fold Cross-Validation: 0.9867\n"
          ]
        }
      ],
      "source": [
        "from sklearn.model_selection import StratifiedKFold, cross_val_score\n",
        "from sklearn.svm import SVC\n",
        "from sklearn.datasets import load_iris\n",
        "\n",
        "# Load Iris dataset\n",
        "iris = load_iris()\n",
        "X = iris.data\n",
        "y = iris.target\n",
        "\n",
        "# Initialize StratifiedKFold\n",
        "skf = StratifiedKFold(n_splits=5, random_state=42, shuffle=True)\n",
        "\n",
        "# Create SVM classifier\n",
        "svm = SVC(kernel='linear')\n",
        "\n",
        "# Evaluate using Stratified K-Fold Cross-Validation\n",
        "cv_scores = cross_val_score(svm, X, y, cv=skf, scoring='accuracy')\n",
        "\n",
        "# Compute average accuracy\n",
        "average_accuracy = cv_scores.mean()\n",
        "print(f\"Average accuracy using Stratified K-Fold Cross-Validation: {average_accuracy:.4f}\")\n"
      ]
    },
    {
      "cell_type": "markdown",
      "metadata": {
        "id": "TyRdu1iWwtr-"
      },
      "source": [
        "## Write a Python program to train a Naïve Bayes classifier using different prior probabilities and compare performance"
      ]
    },
    {
      "cell_type": "code",
      "execution_count": 17,
      "metadata": {
        "id": "ZmQEwriuy33j"
      },
      "outputs": [
        {
          "name": "stdout",
          "output_type": "stream",
          "text": [
            "Accuracy with uniform priors: 0.9778\n",
            "Accuracy with custom priors: 1.0000\n"
          ]
        }
      ],
      "source": [
        "from sklearn.naive_bayes import GaussianNB\n",
        "from sklearn.datasets import load_iris\n",
        "from sklearn.model_selection import train_test_split\n",
        "from sklearn.metrics import accuracy_score\n",
        "\n",
        "# Load Iris dataset\n",
        "iris = load_iris()\n",
        "X = iris.data\n",
        "y = iris.target\n",
        "\n",
        "# Split into train and test sets\n",
        "X_train, X_test, y_train, y_test = train_test_split(X, y, test_size=0.3, random_state=42)\n",
        "\n",
        "# Train Naïve Bayes with different prior probabilities\n",
        "nb_uniform = GaussianNB(priors=None)  # Uniform priors\n",
        "nb_custom = GaussianNB(priors=[0.2, 0.5, 0.3])  # Custom priors\n",
        "\n",
        "# Fit models\n",
        "nb_uniform.fit(X_train, y_train)\n",
        "nb_custom.fit(X_train, y_train)\n",
        "\n",
        "# Predictions and accuracy\n",
        "y_pred_uniform = nb_uniform.predict(X_test)\n",
        "y_pred_custom = nb_custom.predict(X_test)\n",
        "\n",
        "accuracy_uniform = accuracy_score(y_test, y_pred_uniform)\n",
        "accuracy_custom = accuracy_score(y_test, y_pred_custom)\n",
        "\n",
        "print(f\"Accuracy with uniform priors: {accuracy_uniform:.4f}\")\n",
        "print(f\"Accuracy with custom priors: {accuracy_custom:.4f}\")\n"
      ]
    },
    {
      "cell_type": "markdown",
      "metadata": {
        "id": "JpWrBoM1wwAO"
      },
      "source": [
        "## Write a Python program to perform Recursive Feature Elimination (RFE) before training an SVM Classifier and compare accuracy"
      ]
    },
    {
      "cell_type": "code",
      "execution_count": 18,
      "metadata": {
        "id": "yZZHNv4yy_wQ"
      },
      "outputs": [
        {
          "name": "stdout",
          "output_type": "stream",
          "text": [
            "Accuracy after RFE feature selection: 1.0000\n"
          ]
        }
      ],
      "source": [
        "from sklearn.datasets import load_iris\n",
        "from sklearn.model_selection import train_test_split\n",
        "from sklearn.svm import SVC\n",
        "from sklearn.feature_selection import RFE\n",
        "from sklearn.metrics import accuracy_score\n",
        "\n",
        "# Load Iris dataset\n",
        "iris = load_iris()\n",
        "X = iris.data\n",
        "y = iris.target\n",
        "\n",
        "# Split into train and test sets\n",
        "X_train, X_test, y_train, y_test = train_test_split(X, y, test_size=0.3, random_state=42)\n",
        "\n",
        "# Train SVM classifier\n",
        "svm = SVC(kernel='linear')\n",
        "\n",
        "# Perform Recursive Feature Elimination (RFE)\n",
        "rfe = RFE(svm, n_features_to_select=2)\n",
        "X_train_rfe = rfe.fit_transform(X_train, y_train)\n",
        "X_test_rfe = rfe.transform(X_test)\n",
        "\n",
        "# Train model with selected features\n",
        "svm.fit(X_train_rfe, y_train)\n",
        "\n",
        "# Make predictions and evaluate accuracy\n",
        "y_pred = svm.predict(X_test_rfe)\n",
        "accuracy = accuracy_score(y_test, y_pred)\n",
        "\n",
        "print(f\"Accuracy after RFE feature selection: {accuracy:.4f}\")\n"
      ]
    },
    {
      "cell_type": "markdown",
      "metadata": {
        "id": "LrGB23iOwyZH"
      },
      "source": [
        "## Write a Python program to train an SVM Classifier and evaluate its performance using Precision, Recall, and F1-Score instead of accuracy"
      ]
    },
    {
      "cell_type": "code",
      "execution_count": 19,
      "metadata": {
        "id": "O39dtccozFRg"
      },
      "outputs": [
        {
          "name": "stdout",
          "output_type": "stream",
          "text": [
            "Precision: 1.0000\n",
            "Recall: 1.0000\n",
            "F1-Score: 1.0000\n"
          ]
        }
      ],
      "source": [
        "from sklearn.svm import SVC\n",
        "from sklearn.datasets import load_iris\n",
        "from sklearn.model_selection import train_test_split\n",
        "from sklearn.metrics import precision_score, recall_score, f1_score\n",
        "\n",
        "# Load Iris dataset\n",
        "iris = load_iris()\n",
        "X = iris.data\n",
        "y = iris.target\n",
        "\n",
        "# Split into train and test sets\n",
        "X_train, X_test, y_train, y_test = train_test_split(X, y, test_size=0.3, random_state=42)\n",
        "\n",
        "# Train SVM classifier\n",
        "svm = SVC(kernel='linear')\n",
        "svm.fit(X_train, y_train)\n",
        "\n",
        "# Make predictions\n",
        "y_pred = svm.predict(X_test)\n",
        "\n",
        "# Evaluate using Precision, Recall, and F1-Score\n",
        "precision = precision_score(y_test, y_pred, average='macro')\n",
        "recall = recall_score(y_test, y_pred, average='macro')\n",
        "f1 = f1_score(y_test, y_pred, average='macro')\n",
        "\n",
        "print(f\"Precision: {precision:.4f}\")\n",
        "print(f\"Recall: {recall:.4f}\")\n",
        "print(f\"F1-Score: {f1:.4f}\")\n"
      ]
    },
    {
      "cell_type": "markdown",
      "metadata": {
        "id": "eVMYQPsjw0VN"
      },
      "source": [
        "## Write a Python program to train a Naïve Bayes Classifier and evaluate its performance using Log Loss (Cross-Entropy Loss)"
      ]
    },
    {
      "cell_type": "code",
      "execution_count": 20,
      "metadata": {
        "id": "t41nsvU7zHC5"
      },
      "outputs": [
        {
          "name": "stdout",
          "output_type": "stream",
          "text": [
            "Log Loss: 0.0490\n"
          ]
        }
      ],
      "source": [
        "from sklearn.naive_bayes import GaussianNB\n",
        "from sklearn.datasets import load_iris\n",
        "from sklearn.model_selection import train_test_split\n",
        "from sklearn.metrics import log_loss\n",
        "import numpy as np\n",
        "\n",
        "# Load Iris dataset\n",
        "iris = load_iris()\n",
        "X = iris.data\n",
        "y = iris.target\n",
        "\n",
        "# Split into train and test sets\n",
        "X_train, X_test, y_train, y_test = train_test_split(X, y, test_size=0.3, random_state=42)\n",
        "\n",
        "# Train Naïve Bayes classifier\n",
        "nb = GaussianNB()\n",
        "nb.fit(X_train, y_train)\n",
        "\n",
        "# Predict probabilities\n",
        "y_pred_prob = nb.predict_proba(X_test)\n",
        "\n",
        "# Calculate Log Loss (Cross-Entropy Loss)\n",
        "logloss = log_loss(y_test, y_pred_prob)\n",
        "print(f\"Log Loss: {logloss:.4f}\")\n"
      ]
    },
    {
      "cell_type": "markdown",
      "metadata": {
        "id": "f2JOwbNJw3JO"
      },
      "source": [
        "## Write a Python program to train an SVM Classifier and visualize the Confusion Matrix using seaborn\n",
        "\n"
      ]
    },
    {
      "cell_type": "code",
      "execution_count": 23,
      "metadata": {
        "id": "ZzAi0tTmzKOI"
      },
      "outputs": [
        {
          "data": {
            "image/png": "[encoded data removed]",
            "text/plain": [
              "<Figure size 640x480 with 2 Axes>"
            ]
          },
          "metadata": {},
          "output_type": "display_data"
        }
      ],
      "source": [
        "import seaborn as sns\n",
        "import matplotlib.pyplot as plt\n",
        "from sklearn.svm import SVC\n",
        "from sklearn.datasets import load_iris\n",
        "from sklearn.model_selection import train_test_split\n",
        "from sklearn.metrics import confusion_matrix\n",
        "\n",
        "# Load Iris dataset\n",
        "iris = load_iris()\n",
        "X = iris.data\n",
        "y = iris.target\n",
        "\n",
        "# Split into train and test sets\n",
        "X_train, X_test, y_train, y_test = train_test_split(X, y, test_size=0.3, random_state=42)\n",
        "\n",
        "# Train SVM classifier\n",
        "svm = SVC(kernel='linear')\n",
        "svm.fit(X_train, y_train)\n",
        "\n",
        "# Make predictions\n",
        "y_pred = svm.predict(X_test)\n",
        "\n",
        "# Compute confusion matrix\n",
        "cm = confusion_matrix(y_test, y_pred)\n",
        "\n",
        "# Plot confusion matrix using Seaborn\n",
        "sns.heatmap(cm, annot=True, fmt='d', cmap='Blues', xticklabels=iris.target_names, yticklabels=iris.target_names)\n",
        "plt.title(\"Confusion Matrix\")\n",
        "plt.xlabel(\"Predicted Labels\")\n",
        "plt.ylabel(\"True Labels\")\n",
        "plt.show()\n"
      ]
    },
    {
      "cell_type": "markdown",
      "metadata": {
        "id": "rmCjk846xVOh"
      },
      "source": [
        "## Write a Python program to train an SVM Regressor (SVR) and evaluate its performance using Mean Absolute Error (MAE) instead of MSE"
      ]
    },
    {
      "cell_type": "code",
      "execution_count": null,
      "metadata": {
        "id": "kRuF1W92zMkZ"
      },
      "outputs": [
        {
          "name": "stdout",
          "output_type": "stream",
          "text": [
            "Mean Absolute Error (MAE): 78.5787\n"
          ]
        }
      ],
      "source": [
        "from sklearn.svm import SVR\n",
        "from sklearn.datasets import fetch_california_housing\n",
        "from sklearn.model_selection import train_test_split\n",
        "from sklearn.metrics import mean_absolute_error\n",
        "from sklearn.preprocessing import StandardScaler\n",
        "\n",
        "# Load Boston housing dataset\n",
        "california = fetch_california_housing()\n",
        "X = california.data\n",
        "y = california.target\n",
        "\n",
        "# Split into train and test sets\n",
        "X_train, X_test, y_train, y_test = train_test_split(X, y, test_size=0.3, random_state=42)\n",
        "\n",
        "scaler = StandardScaler()\n",
        "X_train_scaled = scaler.fit_transform(X_train)\n",
        "# Train SVM Regressor (SVR)\n",
        "svr = SVR(kernel='linear')\n",
        "svr.fit(X_train, y_train)\n",
        "\n",
        "# Make predictions\n",
        "y_pred = svr.predict(X_test)\n",
        "\n",
        "# Evaluate using Mean Absolute Error (MAE)\n",
        "mae = mean_absolute_error(y_test, y_pred)\n",
        "print(f\"Mean Absolute Error (MAE): {mae:.4f}\")\n"
      ]
    },
    {
      "cell_type": "markdown",
      "metadata": {
        "id": "LeS9WdEvxYHg"
      },
      "source": [
        "## Write a Python program to train a Naïve Bayes classifier and evaluate its performance using the ROC-AUC ƒscore"
      ]
    },
    {
      "cell_type": "code",
      "execution_count": 5,
      "metadata": {
        "id": "zvmczDZOzN_R"
      },
      "outputs": [
        {
          "name": "stdout",
          "output_type": "stream",
          "text": [
            "ROC-AUC Score: 1.0000\n"
          ]
        }
      ],
      "source": [
        "from sklearn.naive_bayes import GaussianNB\n",
        "from sklearn.datasets import load_iris\n",
        "from sklearn.model_selection import train_test_split\n",
        "from sklearn.metrics import roc_auc_score\n",
        "from sklearn.preprocessing import label_binarize\n",
        "\n",
        "# Load Iris dataset\n",
        "iris = load_iris()\n",
        "X = iris.data\n",
        "y = iris.target\n",
        "\n",
        "# Split into train and test sets\n",
        "X_train, X_test, y_train, y_test = train_test_split(X, y, test_size=0.3, random_state=42)\n",
        "\n",
        "# Train Naïve Bayes classifier (no need for binarizing the labels)\n",
        "nb = GaussianNB()\n",
        "nb.fit(X_train, y_train)\n",
        "\n",
        "# Make predictions and compute ROC-AUC score\n",
        "y_pred_prob = nb.predict_proba(X_test)\n",
        "\n",
        "# Compute ROC-AUC for each class\n",
        "roc_auc = roc_auc_score(label_binarize(y_test, classes=[0, 1, 2]), y_pred_prob, average='macro', multi_class='ovr')\n",
        "print(f\"ROC-AUC Score: {roc_auc:.4f}\")\n"
      ]
    },
    {
      "cell_type": "markdown",
      "metadata": {
        "id": "HnVKiv84xdQx"
      },
      "source": [
        "# Write a Python program to train an SVM Classifier and visualize the Precision-Recall Curve."
      ]
    },
    {
      "cell_type": "code",
      "execution_count": 2,
      "metadata": {
        "id": "uaMFrSSkxSLe"
      },
      "outputs": [
        {
          "data": {
            "image/png": "[encoded data removed]",
            "text/plain": [
              "<Figure size 800x600 with 1 Axes>"
            ]
          },
          "metadata": {},
          "output_type": "display_data"
        }
      ],
      "source": [
        "from sklearn.svm import SVC\n",
        "from sklearn.datasets import load_iris\n",
        "from sklearn.model_selection import train_test_split\n",
        "from sklearn.metrics import precision_recall_curve\n",
        "import matplotlib.pyplot as plt\n",
        "\n",
        "# Load Iris dataset\n",
        "iris = load_iris()\n",
        "X = iris.data\n",
        "y = iris.target\n",
        "\n",
        "# Select only the first two classes for binary classification\n",
        "X = X[y != 2]\n",
        "y = y[y != 2]\n",
        "\n",
        "# Split into train and test sets\n",
        "X_train, X_test, y_train, y_test = train_test_split(X, y, test_size=0.3, random_state=42)\n",
        "\n",
        "# Train SVM classifier\n",
        "svm = SVC(kernel='linear', probability=True)\n",
        "svm.fit(X_train, y_train)\n",
        "\n",
        "# Predict probabilities\n",
        "y_pred_prob = svm.predict_proba(X_test)[:, 1]\n",
        "\n",
        "# Compute Precision-Recall curve\n",
        "precision, recall, _ = precision_recall_curve(y_test, y_pred_prob)\n",
        "\n",
        "# Plot Precision-Recall curve\n",
        "plt.figure(figsize=(8, 6))\n",
        "plt.plot(recall, precision, color='blue', lw=2)\n",
        "plt.fill_between(recall, 0, precision, color='skyblue', alpha=0.4)\n",
        "plt.title(\"Precision-Recall Curve\")\n",
        "plt.xlabel(\"Recall\")\n",
        "plt.ylabel(\"Precision\")\n",
        "plt.show()\n"
      ]
    }
  ],
  "metadata": {
    "colab": {
      "provenance": []
    },
    "kernelspec": {
      "display_name": ".venv",
      "language": "python",
      "name": "python3"
    },
    "language_info": {
      "codemirror_mode": {
        "name": "ipython",
        "version": 3
      },
      "file_extension": ".py",
      "mimetype": "text/x-python",
      "name": "python",
      "nbconvert_exporter": "python",
      "pygments_lexer": "ipython3",
      "version": "3.13.3"
    }
  },
  "nbformat": 4,
  "nbformat_minor": 0
}
