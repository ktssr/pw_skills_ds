{
  "nbformat": 4,
  "nbformat_minor": 0,
  "metadata": {
    "colab": {
      "provenance": []
    },
    "kernelspec": {
      "name": "python3",
      "display_name": "Python 3"
    },
    "language_info": {
      "name": "python"
    }
  },
  "cells": [
    {
      "cell_type": "markdown",
      "source": [
        "# Restful API and Flask"
      ],
      "metadata": {
        "id": "IAn2fmtNQXm1"
      }
    },
    {
      "cell_type": "markdown",
      "source": [
        "1. What is a RESTful API?  \n",
        "  - RESTful API is an application programming interface that follows the principles of REST (Representational State Transfer). RESTful APIs use HTTP methods like GET, POST, PUT, DELETE to perform operations. RESTful APIs are stateless and each request from client contains all necessary information to process the request. RESTful APIs are simple to use and scalable for large applications.\n",
        "\n",
        "2. Explain the concept of API specification?  \n",
        "  - API specification is a document that defines how an API works. It includes the endpoints, methods, request and response formats, data types and authentication details. API specifications help developers understand how to use the API without reading the source code. Swagger and OpenAPI are popular tools used to write API specifications.\n",
        "\n",
        "3. What is Flask, and why is it popular for building APIs?  \n",
        "  - Flask is a micro web framework in Python used to build web applications and APIs. Flask is lightweight and easy to use which makes it popular. Flask provides routing, templating and extensions to support features like database integration and authentication. Flask is suitable for both small and large API projects.\n",
        "\n",
        "4. What is routing in Flask?  \n",
        "  - Routing in Flask means connecting a URL to a specific function that runs when that URL is accessed. Routing is done using @app.route() decorator. Each route defines an endpoint which listens to specific HTTP methods and runs the associated function to return a response.\n",
        "\n",
        "5. How do you create a simple Flask application?  \n",
        "  - To create a simple Flask application, we import Flask, create an app object, define a route and run the app like below:\n",
        "    ```python\n",
        "    from flask import Flask\n",
        "    app = Flask(__name__)\n",
        "\n",
        "    @app.route('/')\n",
        "    def home():\n",
        "        return \"Hello, World!\"\n",
        "\n",
        "    if __name__ == '__main__':\n",
        "        app.run()\n",
        "    ```\n",
        "\n",
        "6. What are HTTP methods used in RESTful APIs?  \n",
        "  - Common HTTP methods used in RESTful APIs are GET (fetch data), POST (submit data), PUT (update data), DELETE (remove data), PATCH (partially update data). These methods define what operation needs to be performed on the resource.\n",
        "\n",
        "7. What is the purpose of the @app.route() decorator in Flask?  \n",
        "  - @app.route() is used to bind a URL path with a function. This decorator tells Flask which function should run when the specified route is accessed. It also allows to specify which HTTP methods are allowed on that route.\n",
        "\n",
        "8. What is the difference between GET and POST HTTP methods?  \n",
        "  - GET is used to request data from the server without making changes. It sends parameters in the URL. POST is used to send data to the server to create or update a resource. It sends data in the request body.\n",
        "\n",
        "9. How do you handle errors in Flask APIs?  \n",
        "  - Errors in Flask APIs can be handled using error handlers. We use @app.errorhandler() decorator to define custom messages for different error codes like 404 or 500. Flask also provides `abort()` function to send error responses manually.\n",
        "\n",
        "10. How do you connect Flask to a SQL database?  \n",
        "  - Flask can be connected to SQL database using libraries like Flask-SQLAlchemy. We configure the database URI in the app config and use SQLAlchemy to define models and interact with the database.\n",
        "\n",
        "11. What is the role of Flask-SQLAlchemy?  \n",
        "  - Flask-SQLAlchemy is an extension that integrates SQLAlchemy with Flask. It provides a higher-level abstraction to connect to the database, define models, perform queries and manage relationships between tables in Pythonic way.\n",
        "\n",
        "12. What are Flask blueprints, and how are they useful?  \n",
        "  - Flask blueprints are used to structure large applications into smaller reusable modules. Blueprints allow us to define routes, templates, and static files for different parts of the application and register them with the main app.\n",
        "\n",
        "13. What is the purpose of Flask's request object?  \n",
        "  - Flask’s request object is used to access incoming request data like form data, JSON payloads, query parameters and headers. It is used in functions to read data sent by the client in the request.\n",
        "\n",
        "14. How do you create a RESTful API endpoint using Flask?  \n",
        "  - We create a RESTful API endpoint using route and HTTP method like below:\n",
        "    ```python\n",
        "    from flask import Flask, jsonify\n",
        "\n",
        "    app = Flask(__name__)\n",
        "\n",
        "    @app.route('/api/data', methods=['GET'])\n",
        "    def get_data():\n",
        "        return jsonify({\"message\": \"Data fetched successfully\"})\n",
        "    ```\n",
        "\n",
        "15. What is the purpose of Flask's jsonify() function?  \n",
        "  - Flask’s jsonify() is used to convert Python dictionaries and lists into JSON format which is returned as response to the client. It also sets the correct content type for the response.\n",
        "\n",
        "16. Explain Flask’s url_for() function?  \n",
        "  - url_for() function is used to build a URL to a specific route using the function name. It helps in managing dynamic URLs and makes the code more flexible and maintainable.\n",
        "\n",
        "17. How does Flask handle static files (CSS, JavaScript, etc.)?  \n",
        "  - Flask serves static files from a folder named `static`. We place CSS and JavaScript files inside this folder and access them using the `/static/` URL path in HTML templates.\n",
        "\n",
        "18. What is an API specification, and how does it help in building a Flask API?  \n",
        "  - API specification is a contract that defines how the API should behave. It helps in planning, designing, testing and documenting the API. It provides clarity for both frontend and backend developers while building a Flask API.\n",
        "\n",
        "19. What are HTTP status codes, and why are they important in a Flask API?  \n",
        "  - HTTP status codes indicate the result of the request. 200 means success, 201 means resource created, 404 means resource not found, 500 means server error. These codes help the client understand what happened with their request.\n",
        "\n",
        "20. How do you handle POST requests in Flask?  \n",
        "  - POST requests are handled by defining a route with `methods=['POST']` and reading data using `request.form`, `request.json`, or `request.data` depending on the type of data sent by the client.\n",
        "\n",
        "21. How would you secure a Flask API?  \n",
        "  - Flask API can be secured by using authentication (like token-based authentication), input validation, HTTPS, rate limiting, and using secure headers. Libraries like Flask-JWT or Flask-Login can help in managing authentication.\n",
        "\n",
        "22. What is the significance of the Flask-RESTful extension?  \n",
        "  - Flask-RESTful is an extension that simplifies building REST APIs. It provides classes like `Resource` to define endpoints and methods, and automatically handles routing, input parsing and formatting responses.\n",
        "\n",
        "23. What is the role of Flask’s session object?  \n",
        "  - Flask’s session object is used to store data on the server between requests. It uses cookies to store a session ID in the browser and maps it to server-side data. It is useful for managing user login state and storing small amounts of data.\n"
      ],
      "metadata": {
        "id": "ZIQZTtEIQbcl"
      }
    },
    {
      "cell_type": "markdown",
      "source": [
        "## How do you create a basic Flask application?"
      ],
      "metadata": {
        "id": "hfbW3oVER7pO"
      }
    },
    {
      "cell_type": "code",
      "execution_count": 1,
      "metadata": {
        "colab": {
          "base_uri": "https://localhost:8080/"
        },
        "id": "4o5gOIbzQSs1",
        "outputId": "b41f7d67-fdb1-4fd1-85ca-5671cd232304"
      },
      "outputs": [
        {
          "output_type": "stream",
          "name": "stdout",
          "text": [
            " * Serving Flask app '__main__'\n",
            " * Debug mode: on\n"
          ]
        },
        {
          "output_type": "stream",
          "name": "stderr",
          "text": [
            "INFO:werkzeug:\u001b[31m\u001b[1mWARNING: This is a development server. Do not use it in a production deployment. Use a production WSGI server instead.\u001b[0m\n",
            " * Running on http://127.0.0.1:5000\n",
            "INFO:werkzeug:\u001b[33mPress CTRL+C to quit\u001b[0m\n",
            "INFO:werkzeug: * Restarting with stat\n"
          ]
        }
      ],
      "source": [
        "from flask import Flask\n",
        "\n",
        "app = Flask(__name__)\n",
        "\n",
        "@app.route('/')\n",
        "def home():\n",
        "    return \"Hello, World!\"\n",
        "\n",
        "if __name__ == '__main__':\n",
        "    app.run(debug=True)"
      ]
    },
    {
      "cell_type": "markdown",
      "source": [
        "## How do you serve static files like images or CSS in Flask?"
      ],
      "metadata": {
        "id": "qonLWrb4SOaB"
      }
    },
    {
      "cell_type": "code",
      "source": [
        "# The 'static' folder should be present in the root directory of the app\n",
        "# You can access static files like images, CSS, and JS from the URL like '/static/filename'\n",
        "\n",
        "from flask import Flask\n",
        "\n",
        "app = Flask(__name__)\n",
        "\n",
        "@app.route('/')\n",
        "def home():\n",
        "    return '<img src=\"/static/example.jpg\" alt=\"example image\">'\n",
        "\n",
        "if __name__ == '__main__':\n",
        "    app.run(debug=True)"
      ],
      "metadata": {
        "id": "ItT4IQHQSLVu"
      },
      "execution_count": null,
      "outputs": []
    },
    {
      "cell_type": "markdown",
      "source": [],
      "metadata": {
        "id": "C6z0EmgqTwSQ"
      }
    },
    {
      "cell_type": "markdown",
      "source": [
        "## How do you define different routes with different HTTP methods in Flask?"
      ],
      "metadata": {
        "id": "fQdABEFhTzHH"
      }
    },
    {
      "cell_type": "code",
      "source": [
        "from flask import Flask\n",
        "\n",
        "app = Flask(__name__)\n",
        "\n",
        "@app.route('/get', methods=['GET'])\n",
        "def get_data():\n",
        "    return \"GET request received!\"\n",
        "\n",
        "@app.route('/post', methods=['POST'])\n",
        "def post_data():\n",
        "    return \"POST request received!\"\n",
        "\n",
        "if __name__ == '__main__':\n",
        "    app.run(debug=True)\n"
      ],
      "metadata": {
        "colab": {
          "base_uri": "https://localhost:8080/"
        },
        "id": "oJSgWCeaT1NE",
        "outputId": "bc674c05-846b-4e29-ab6c-38308ba2404e"
      },
      "execution_count": null,
      "outputs": [
        {
          "output_type": "stream",
          "name": "stdout",
          "text": [
            " * Serving Flask app '__main__'\n",
            " * Debug mode: on\n"
          ]
        },
        {
          "output_type": "stream",
          "name": "stderr",
          "text": [
            "INFO:werkzeug:\u001b[31m\u001b[1mWARNING: This is a development server. Do not use it in a production deployment. Use a production WSGI server instead.\u001b[0m\n",
            " * Running on http://127.0.0.1:5000\n",
            "INFO:werkzeug:\u001b[33mPress CTRL+C to quit\u001b[0m\n",
            "INFO:werkzeug: * Restarting with stat\n"
          ]
        }
      ]
    },
    {
      "cell_type": "markdown",
      "source": [
        "## How do you define different routes with different HTTP methods in Flask?"
      ],
      "metadata": {
        "id": "kd5HvSe8T86H"
      }
    },
    {
      "cell_type": "code",
      "source": [
        "from flask import Flask\n",
        "\n",
        "app = Flask(__name__)\n",
        "\n",
        "@app.route('/get', methods=['GET'])\n",
        "def get_data():\n",
        "    return \"GET request received!\"\n",
        "\n",
        "@app.route('/post', methods=['POST'])\n",
        "def post_data():\n",
        "    return \"POST request received!\"\n",
        "\n",
        "if __name__ == '__main__':\n",
        "    app.run(debug=True)\n"
      ],
      "metadata": {
        "id": "rstVWaCoT8iI"
      },
      "execution_count": null,
      "outputs": []
    },
    {
      "cell_type": "markdown",
      "source": [
        "## How do you render HTML templates in Flask?\n"
      ],
      "metadata": {
        "id": "B-XA7L4_T9cv"
      }
    },
    {
      "cell_type": "code",
      "source": [
        "from flask import Flask, render_template\n",
        "\n",
        "app = Flask(__name__)\n",
        "\n",
        "@app.route('/')\n",
        "def home():\n",
        "    return render_template('index.html')\n",
        "\n",
        "if __name__ == '__main__':\n",
        "    app.run(debug=True)\n"
      ],
      "metadata": {
        "id": "DBImev_7T9r1"
      },
      "execution_count": null,
      "outputs": []
    },
    {
      "cell_type": "markdown",
      "source": [
        "##How can you generate URLs for routes in Flask using url_for?\n"
      ],
      "metadata": {
        "id": "wRqi1XtoT-NH"
      }
    },
    {
      "cell_type": "code",
      "source": [
        "from flask import Flask, url_for\n",
        "\n",
        "app = Flask(__name__)\n",
        "\n",
        "@app.route('/')\n",
        "def home():\n",
        "    return 'Home Page'\n",
        "\n",
        "@app.route('/about')\n",
        "def about():\n",
        "    return 'About Page'\n",
        "\n",
        "@app.route('/redirect_home')\n",
        "def redirect_home():\n",
        "    return f\"Redirecting to {url_for('home')}\"\n",
        "\n",
        "if __name__ == '__main__':\n",
        "    app.run(debug=True)\n"
      ],
      "metadata": {
        "id": "4UdZBkV1T-eD"
      },
      "execution_count": null,
      "outputs": []
    },
    {
      "cell_type": "markdown",
      "source": [
        "## How do you handle forms in Flask?\n"
      ],
      "metadata": {
        "id": "_HqgdZFMT-3o"
      }
    },
    {
      "cell_type": "code",
      "source": [
        "from flask import Flask, request\n",
        "\n",
        "app = Flask(__name__)\n",
        "\n",
        "@app.route('/form', methods=['GET', 'POST'])\n",
        "def form():\n",
        "    if request.method == 'POST':\n",
        "        name = request.form['name']\n",
        "        return f\"Form submitted! Hello, {name}\"\n",
        "    return '''\n",
        "        <form method=\"POST\">\n",
        "            Name: <input type=\"text\" name=\"name\">\n",
        "            <input type=\"submit\" value=\"Submit\">\n",
        "        </form>\n",
        "    '''\n",
        "\n",
        "if __name__ == '__main__':\n",
        "    app.run(debug=True)\n"
      ],
      "metadata": {
        "id": "5okyvX-bT_J6"
      },
      "execution_count": null,
      "outputs": []
    },
    {
      "cell_type": "markdown",
      "source": [
        "## How can you validate form data in Flask?"
      ],
      "metadata": {
        "id": "hhRfaZhZUXss"
      }
    },
    {
      "cell_type": "code",
      "source": [
        "from flask import Flask, request, redirect, url_for, flash\n",
        "\n",
        "app = Flask(__name__)\n",
        "app.secret_key = 'your_secret_key'\n",
        "\n",
        "@app.route('/form', methods=['GET', 'POST'])\n",
        "def form():\n",
        "    if request.method == 'POST':\n",
        "        name = request.form['name']\n",
        "        if not name:\n",
        "            flash('Name is required!', 'error')\n",
        "            return redirect(url_for('form'))\n",
        "        return f\"Form submitted! Hello, {name}\"\n",
        "    return '''\n",
        "        <form method=\"POST\">\n",
        "            Name: <input type=\"text\" name=\"name\">\n",
        "            <input type=\"submit\" value=\"Submit\">\n",
        "        </form>\n",
        "    '''\n",
        "\n",
        "if __name__ == '__main__':\n",
        "    app.run(debug=True)\n"
      ],
      "metadata": {
        "id": "jRso1TqAUYH8"
      },
      "execution_count": null,
      "outputs": []
    },
    {
      "cell_type": "markdown",
      "source": [
        "## How do you manage sessions in Flask?"
      ],
      "metadata": {
        "id": "FWXMDClzUYVn"
      }
    },
    {
      "cell_type": "code",
      "source": [
        "from flask import Flask, session, redirect, url_for, request\n",
        "\n",
        "app = Flask(__name__)\n",
        "app.secret_key = 'your_secret_key'\n",
        "\n",
        "@app.route('/')\n",
        "def index():\n",
        "    if 'username' in session:\n",
        "        username = session['username']\n",
        "        return f'Logged in as {username}'\n",
        "    return 'You are not logged in!'\n",
        "\n",
        "@app.route('/login', methods=['GET', 'POST'])\n",
        "def login():\n",
        "    if request.method == 'POST':\n",
        "        session['username'] = request.form['username']\n",
        "        return redirect(url_for('index'))\n",
        "    return '''\n",
        "        <form method=\"POST\">\n",
        "            Username: <input type=\"text\" name=\"username\">\n",
        "            <input type=\"submit\" value=\"Login\">\n",
        "        </form>\n",
        "    '''\n",
        "\n",
        "@app.route('/logout')\n",
        "def logout():\n",
        "    session.pop('username', None)\n",
        "    return redirect(url_for('index'))\n",
        "\n",
        "if __name__ == '__main__':\n",
        "    app.run(debug=True)\n"
      ],
      "metadata": {
        "id": "wqNmvYYXUY_1"
      },
      "execution_count": null,
      "outputs": []
    },
    {
      "cell_type": "markdown",
      "source": [
        "## How do you redirect to a different route in Flask?"
      ],
      "metadata": {
        "id": "DOYESVkUUZRx"
      }
    },
    {
      "cell_type": "code",
      "source": [
        "from flask import Flask, redirect, url_for\n",
        "\n",
        "app = Flask(__name__)\n",
        "\n",
        "@app.route('/')\n",
        "def home():\n",
        "    return 'Home Page'\n",
        "\n",
        "@app.route('/redirect_to_home')\n",
        "def redirect_to_home():\n",
        "    return redirect(url_for('home'))\n",
        "\n",
        "if __name__ == '__main__':\n",
        "    app.run(debug=True)\n"
      ],
      "metadata": {
        "id": "78g3b1njUZi_"
      },
      "execution_count": null,
      "outputs": []
    },
    {
      "cell_type": "markdown",
      "source": [
        "## How do you handle errors in Flask (e.g., 404)?"
      ],
      "metadata": {
        "id": "ozv0meg3UaDL"
      }
    },
    {
      "cell_type": "code",
      "source": [
        "from flask import Flask\n",
        "\n",
        "app = Flask(__name__)\n",
        "\n",
        "@app.route('/')\n",
        "def home():\n",
        "    return \"Home Page\"\n",
        "\n",
        "@app.errorhandler(404)\n",
        "def not_found_error(error):\n",
        "    return \"Page not found\", 404\n",
        "\n",
        "if __name__ == '__main__':\n",
        "    app.run(debug=True)\n"
      ],
      "metadata": {
        "id": "XahqObnxUaVH"
      },
      "execution_count": null,
      "outputs": []
    },
    {
      "cell_type": "markdown",
      "source": [
        "## How do you structure a Flask app using Blueprints?"
      ],
      "metadata": {
        "id": "KD2POQ74Ua1I"
      }
    },
    {
      "cell_type": "code",
      "source": [
        "from flask import Flask, Blueprint\n",
        "\n",
        "# Create a blueprint\n",
        "home_bp = Blueprint('home', __name__)\n",
        "\n",
        "@home_bp.route('/')\n",
        "def home():\n",
        "    return \"Home Page\"\n",
        "\n",
        "app = Flask(__name__)\n",
        "\n",
        "# Register the blueprint\n",
        "app.register_blueprint(home_bp)\n",
        "\n",
        "if __name__ == '__main__':\n",
        "    app.run(debug=True)\n"
      ],
      "metadata": {
        "id": "NGJ2xYunUbFb"
      },
      "execution_count": null,
      "outputs": []
    },
    {
      "cell_type": "markdown",
      "source": [
        "## How do you define a custom Jinja filter in Flask?"
      ],
      "metadata": {
        "id": "vy2RLOHxU6RD"
      }
    },
    {
      "cell_type": "code",
      "source": [
        "from flask import Flask\n",
        "\n",
        "app = Flask(__name__)\n",
        "\n",
        "# Define a custom Jinja filter\n",
        "@app.template_filter('reverse')\n",
        "def reverse_filter(s):\n",
        "    return s[::-1]\n",
        "\n",
        "@app.route('/')\n",
        "def home():\n",
        "    return render_template('index.html', name=\"Flask\")\n",
        "\n",
        "if __name__ == '__main__':\n",
        "    app.run(debug=True)\n"
      ],
      "metadata": {
        "id": "nr0CM4vxU6q_"
      },
      "execution_count": null,
      "outputs": []
    },
    {
      "cell_type": "markdown",
      "source": [
        "## How can you redirect with query parameters in Flask?\n"
      ],
      "metadata": {
        "id": "tdji3BLIU7KD"
      }
    },
    {
      "cell_type": "code",
      "source": [
        "from flask import Flask, redirect, url_for\n",
        "\n",
        "app = Flask(__name__)\n",
        "\n",
        "@app.route('/')\n",
        "def home():\n",
        "    return \"Home Page\"\n",
        "\n",
        "@app.route('/redirect_with_query')\n",
        "def redirect_with_query():\n",
        "    return redirect(url_for('home', user='John'))\n",
        "\n",
        "if __name__ == '__main__':\n",
        "    app.run(debug=True)\n"
      ],
      "metadata": {
        "id": "pEPDJYPJU7Zh"
      },
      "execution_count": null,
      "outputs": []
    },
    {
      "cell_type": "markdown",
      "source": [
        "## How do you return JSON responses in Flask?"
      ],
      "metadata": {
        "id": "s92e-3PCU7qo"
      }
    },
    {
      "cell_type": "code",
      "source": [
        "from flask import Flask, jsonify\n",
        "\n",
        "app = Flask(__name__)\n",
        "\n",
        "@app.route('/json')\n",
        "def json_data():\n",
        "    return jsonify(message=\"Hello, World!\", status=\"success\")\n",
        "\n",
        "if __name__ == '__main__':\n",
        "    app.run(debug=True)\n"
      ],
      "metadata": {
        "id": "_uDwryLEU743"
      },
      "execution_count": null,
      "outputs": []
    },
    {
      "cell_type": "markdown",
      "source": [
        "## How do you capture URL parameters in Flask?"
      ],
      "metadata": {
        "id": "-sXfMBjfU8Sq"
      }
    },
    {
      "cell_type": "code",
      "source": [
        "from flask import Flask\n",
        "\n",
        "app = Flask(__name__)\n",
        "\n",
        "@app.route('/user/<username>')\n",
        "def show_user(username):\n",
        "    return f'Hello, {username}!'\n",
        "\n",
        "if __name__ == '__main__':\n",
        "    app.run(debug=True)\n"
      ],
      "metadata": {
        "id": "9cWAK0xSU8iW"
      },
      "execution_count": null,
      "outputs": []
    }
  ]
}