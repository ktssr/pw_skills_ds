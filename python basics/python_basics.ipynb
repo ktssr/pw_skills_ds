{
  "nbformat": 4,
  "nbformat_minor": 0,
  "metadata": {
    "colab": {
      "provenance": []
    },
    "kernelspec": {
      "name": "python3",
      "display_name": "Python 3"
    },
    "language_info": {
      "name": "python"
    }
  },
  "cells": [
    {
      "cell_type": "markdown",
      "source": [
        "# Python Basics"
      ],
      "metadata": {
        "id": "Eo4RSfL16l7g"
      }
    },
    {
      "cell_type": "markdown",
      "source": [
        "1.  What is Python, and why is it popular?\n",
        "  - Python is a programming language which is popular for it's simplicity to learn and use. Pyhton is versatile and can be used from web development to machine learning projects. Python is scalable and it suits well for small scale to large scale projects. Python is open source and has large community support and also there are number of libraries available for Data Science.\n",
        "2. What is an interpreter in Python?\n",
        "  - Python is a high level language and it needs to be converted to low level language for the machine to understand the instructions. To achieve this python uses interpreter. Python interpreter generates the byte code from python code. Byte code is independent of hardware and operating system. When python is installed in a machine, Pyhton Virtual machine corresponing to particular opoerator system gets installed. Python Virtual machine translates the byte code system level instructions and executes the program.\n",
        "3. What are pre-defined keywords in Python?\n",
        "  - pre-defined keywords are predefined words in python which has are reserved for special purpose. some of the keywords are \"for\", \"while\", \"if\", \"elif\", \"else\", \"break\", \"continue\". We can get the list of all keywords by using help() function like this \"help(\"keywords\")\".\n",
        "4. Can keywords be used as variable names?\n",
        "  - No keywords cannot be used as variable name.\n",
        "5. What is mutability in Python?\n",
        "  - mutability in Python means the object once created cannot be modified for example we cannot modify the strings once thet are created. Also tuples are immutable we cannot add or remove items from tuple once the tuple is created.\n",
        "6. Why are lists mutable, but tuples are immutable?\n",
        "  - Both lists and tuples are ordered collections which allow duplicates. Lists are mutable and can be used when modification is needed after creation. Ex: sorting inside a list. Where as tuples are used in the scenarios where modification is not allowed after creation. Ex: creation of point in co-ordinate goemetry like (10, 20) 10 is considered to be on x-axis and 20 is considered to be on y-axis\n",
        "7. What is the difference between “==” and “is” operators in Python\n",
        "  - \"is\" opearator checks if the both the variables are refering to same memory location where as \"==\" checks if the both the variables contain the same value.\n",
        "8. What are logical operators in Python?\n",
        "  - \"and\", \"or\" and \"not\" are logical operators in python. They are useful combining multiple conditions. Logical operators provide the boolean values as output. \"not\" is used with single operand and this will reverse boolean value of the operand. \"and\" evaluates to \"True\" only when both the values are true. \"or\" evaluates to false only when both the values are false.\n",
        "9. What is type casting in Python?\n",
        "  - Type casting is the process of converting value from one type to other type. For example string \"2\" can be converted to integer using int() function like int(\"2\"). Similary we have str(), float(), bool() functions to help us with type casting.\n",
        "10. What is the difference between implicit and explicit type casting?\n",
        "  - Explicit type casting is when the conversion is triggered in program using the functions like int(), str() etc. Where as implicit type conversion is automatically. For example in the statement \"2 + 3.5\" 2 is of integer type and python implicitly converts it into float and then provide the output as 3.5\n",
        "11. What is the purpose of conditional statements in Python?\n",
        "  - Conditional statement in python is used to check weather the statement evaluates to True or False. Using this conditional we can write conditional logic by using if, elif and else blocks.\n",
        "12. How does the elif statement work?\n",
        "  - \"elif\" statement is used in conjuction with \"if\" statement. If the condition in \"if\" is evaluated to false then \"elif\" condition will be checked and the corresponding block will be executed if the condition is evaluated to True. otherwise the next elif or else statement will be checked and executed if present.\n",
        "13. What is the difference between for and while loops?\n",
        "  - for loop is used to iterate over the iterables like range, list, tuplse etc. Where as while can be used to iterate based on a condition.\n",
        "14. Describe a scenario where a while loop is more suitable than a for loop?\n",
        "  - One scenario where while loop is more suitable than a for loop is implementing web server. Server needs to be in listening as long as the web server program is running."
      ],
      "metadata": {
        "id": "lSXtkDrx6w-g"
      }
    },
    {
      "cell_type": "markdown",
      "source": [
        "## Write a Python program to print \"Hello, World!"
      ],
      "metadata": {
        "id": "Is3vIebH6kxx"
      }
    },
    {
      "cell_type": "code",
      "source": [
        "print(\"Hello, World!\")"
      ],
      "metadata": {
        "colab": {
          "base_uri": "https://localhost:8080/"
        },
        "id": "0E8BM-74pk2v",
        "outputId": "9c1c9e00-c612-4eef-a3b2-917ca8923d10"
      },
      "execution_count": 1,
      "outputs": [
        {
          "output_type": "stream",
          "name": "stdout",
          "text": [
            "Hello, World!\n"
          ]
        }
      ]
    },
    {
      "cell_type": "markdown",
      "source": [
        "## Write a Python program that displays your name and age"
      ],
      "metadata": {
        "id": "0CqtQ1R8pvL9"
      }
    },
    {
      "cell_type": "code",
      "source": [
        "name = \"Sandeep\"\n",
        "age = 30\n",
        "print(name, age)"
      ],
      "metadata": {
        "colab": {
          "base_uri": "https://localhost:8080/"
        },
        "id": "NCvBejkdpwUC",
        "outputId": "b916084c-dce2-4b23-996c-d338ea681001"
      },
      "execution_count": 2,
      "outputs": [
        {
          "output_type": "stream",
          "name": "stdout",
          "text": [
            "Sandeep 30\n"
          ]
        }
      ]
    },
    {
      "cell_type": "markdown",
      "source": [
        "Write code to print all the pre-defined keywords in Python using the keyword library"
      ],
      "metadata": {
        "id": "ypvajmX9p9XP"
      }
    },
    {
      "cell_type": "code",
      "source": [
        "import keyword\n",
        "keywords = keyword.kwlist\n",
        "for kw in keywords:\n",
        "    print(kw)"
      ],
      "metadata": {
        "colab": {
          "base_uri": "https://localhost:8080/"
        },
        "id": "HV4OPcO_p-sq",
        "outputId": "eb68265b-f851-4bc5-f410-efafc266d275"
      },
      "execution_count": 4,
      "outputs": [
        {
          "output_type": "stream",
          "name": "stdout",
          "text": [
            "False\n",
            "None\n",
            "True\n",
            "and\n",
            "as\n",
            "assert\n",
            "async\n",
            "await\n",
            "break\n",
            "class\n",
            "continue\n",
            "def\n",
            "del\n",
            "elif\n",
            "else\n",
            "except\n",
            "finally\n",
            "for\n",
            "from\n",
            "global\n",
            "if\n",
            "import\n",
            "in\n",
            "is\n",
            "lambda\n",
            "nonlocal\n",
            "not\n",
            "or\n",
            "pass\n",
            "raise\n",
            "return\n",
            "try\n",
            "while\n",
            "with\n",
            "yield\n"
          ]
        }
      ]
    },
    {
      "cell_type": "markdown",
      "source": [
        "## Write a program that checks if a given word is a Python keyword."
      ],
      "metadata": {
        "id": "360i5BvVqD97"
      }
    },
    {
      "cell_type": "code",
      "source": [
        "import keyword\n",
        "word = input(\"Enter the word: \")\n",
        "if keyword.iskeyword(word):\n",
        "    print(f\"'{word}' is a Python keyword.\")\n",
        "else:\n",
        "    print(f\"'{word}' is NOT a Python keyword.\")"
      ],
      "metadata": {
        "colab": {
          "base_uri": "https://localhost:8080/"
        },
        "id": "3nL3rU6KqDvl",
        "outputId": "fd480ea9-b9bb-44d9-a95a-4a5e233da6bd"
      },
      "execution_count": 6,
      "outputs": [
        {
          "output_type": "stream",
          "name": "stdout",
          "text": [
            "Enter the word: elif\n",
            "'elif' is a Python keyword.\n"
          ]
        }
      ]
    },
    {
      "cell_type": "markdown",
      "source": [
        "##  Create a list and tuple in Python, and demonstrate how attempting to change an element works differently for each."
      ],
      "metadata": {
        "id": "SXcdOZFJq7d9"
      }
    },
    {
      "cell_type": "code",
      "source": [
        "my_list = [10, 20, 30]\n",
        "my_tuple = (10, 20, 30)\n",
        "\n",
        "my_list[1] = 99\n",
        "print(\"Modified list:\", my_list)\n",
        "\n",
        "my_tuple[1] = 99 # Gives TypeError"
      ],
      "metadata": {
        "colab": {
          "base_uri": "https://localhost:8080/",
          "height": 198
        },
        "id": "WhtzKQFbqtqs",
        "outputId": "a0f23148-6f7c-421b-d0df-dc97b3b73d10"
      },
      "execution_count": 7,
      "outputs": [
        {
          "output_type": "stream",
          "name": "stdout",
          "text": [
            "Modified list: [10, 99, 30]\n"
          ]
        },
        {
          "output_type": "error",
          "ename": "TypeError",
          "evalue": "'tuple' object does not support item assignment",
          "traceback": [
            "\u001b[0;31m---------------------------------------------------------------------------\u001b[0m",
            "\u001b[0;31mTypeError\u001b[0m                                 Traceback (most recent call last)",
            "\u001b[0;32m<ipython-input-7-e53b5d85db86>\u001b[0m in \u001b[0;36m<cell line: 0>\u001b[0;34m()\u001b[0m\n\u001b[1;32m      5\u001b[0m \u001b[0mprint\u001b[0m\u001b[0;34m(\u001b[0m\u001b[0;34m\"Modified list:\"\u001b[0m\u001b[0;34m,\u001b[0m \u001b[0mmy_list\u001b[0m\u001b[0;34m)\u001b[0m\u001b[0;34m\u001b[0m\u001b[0;34m\u001b[0m\u001b[0m\n\u001b[1;32m      6\u001b[0m \u001b[0;34m\u001b[0m\u001b[0m\n\u001b[0;32m----> 7\u001b[0;31m \u001b[0mmy_tuple\u001b[0m\u001b[0;34m[\u001b[0m\u001b[0;36m1\u001b[0m\u001b[0;34m]\u001b[0m \u001b[0;34m=\u001b[0m \u001b[0;36m99\u001b[0m\u001b[0;34m\u001b[0m\u001b[0;34m\u001b[0m\u001b[0m\n\u001b[0m",
            "\u001b[0;31mTypeError\u001b[0m: 'tuple' object does not support item assignment"
          ]
        }
      ]
    },
    {
      "cell_type": "markdown",
      "source": [
        "## Write a function to demonstrate the behavior of mutable and immutable arguments.\n"
      ],
      "metadata": {
        "id": "mEIJmEkArTeN"
      }
    },
    {
      "cell_type": "code",
      "source": [
        "def modify_arguments(num, my_list):\n",
        "    # num is immutable and my_list is mutable\n",
        "    print(\"Inside function (before modification):\")\n",
        "    print(\"num =\", num)\n",
        "    print(\"my_list =\", my_list)\n",
        "\n",
        "    num += 10\n",
        "    my_list.append(99)\n",
        "\n",
        "    print(\"Inside function (after modification):\")\n",
        "    print(\"num =\", num)\n",
        "    print(\"my_list =\", my_list)\n",
        "\n",
        "x = 5\n",
        "lst = [1, 2, 3]\n",
        "\n",
        "modify_arguments(x, lst)\n",
        "\n",
        "print(\"\\nOutside function:\")\n",
        "print(\"x =\", x)\n",
        "print(\"lst =\", lst)"
      ],
      "metadata": {
        "colab": {
          "base_uri": "https://localhost:8080/"
        },
        "id": "e69BGyF5rYyf",
        "outputId": "d190d7a7-325e-4ef4-adfb-a1525261e81f"
      },
      "execution_count": 8,
      "outputs": [
        {
          "output_type": "stream",
          "name": "stdout",
          "text": [
            "Inside function (before modification):\n",
            "num = 5\n",
            "my_list = [1, 2, 3]\n",
            "Inside function (after modification):\n",
            "num = 15\n",
            "my_list = [1, 2, 3, 99]\n",
            "\n",
            "Outside function:\n",
            "x = 5\n",
            "lst = [1, 2, 3, 99]\n"
          ]
        }
      ]
    },
    {
      "cell_type": "markdown",
      "source": [
        "## Write a program that performs basic arithmetic operations on two user-input numbers."
      ],
      "metadata": {
        "id": "jrG-zbZqr0N-"
      }
    },
    {
      "cell_type": "code",
      "source": [
        "num1 = float(input(\"Enter first number: \"))\n",
        "num2 = float(input(\"Enter second number: \"))\n",
        "\n",
        "addition = num1 + num2\n",
        "subtraction = num1 - num2\n",
        "multiplication = num1 * num2\n",
        "\n",
        "if num2 != 0:\n",
        "    division = num1 / num2\n",
        "else:\n",
        "    division = \"Undefined (cannot divide by zero)\"\n",
        "\n",
        "print(\"\\nResults:\")\n",
        "print(f\"Addition: {num1} + {num2} = {addition}\")\n",
        "print(f\"Subtraction: {num1} - {num2} = {subtraction}\")\n",
        "print(f\"Multiplication: {num1} * {num2} = {multiplication}\")\n",
        "print(f\"Division: {num1} / {num2} = {division}\")"
      ],
      "metadata": {
        "colab": {
          "base_uri": "https://localhost:8080/"
        },
        "id": "lPcNyl6hrz8F",
        "outputId": "ccfee008-ee5f-4fca-e2ea-09cc74086e5b"
      },
      "execution_count": 9,
      "outputs": [
        {
          "output_type": "stream",
          "name": "stdout",
          "text": [
            "Enter first number: 20.5\n",
            "Enter second number: 45.6\n",
            "\n",
            "Results:\n",
            "Addition: 20.5 + 45.6 = 66.1\n",
            "Subtraction: 20.5 - 45.6 = -25.1\n",
            "Multiplication: 20.5 * 45.6 = 934.8000000000001\n",
            "Division: 20.5 / 45.6 = 0.44956140350877194\n"
          ]
        }
      ]
    },
    {
      "cell_type": "markdown",
      "source": [
        "##  Write a program to demonstrate the use of logical operators."
      ],
      "metadata": {
        "id": "6wZbMPYssDqE"
      }
    },
    {
      "cell_type": "code",
      "source": [
        "a = input(\"Is it sunny? (yes/no): \").lower() == \"yes\"\n",
        "b = input(\"Is it warm? (yes/no): \").lower() == \"yes\"\n",
        "\n",
        "# Logical AND\n",
        "print(\"\\nUsing 'and':\")\n",
        "if a and b:\n",
        "    print(\"It's a perfect day to go outside!\")\n",
        "else:\n",
        "    print(\"Maybe not the best weather for going out.\")\n",
        "\n",
        "# Logical OR\n",
        "print(\"\\nUsing 'or':\")\n",
        "if a or b:\n",
        "    print(\"At least one condition is good for stepping out.\")\n",
        "else:\n",
        "    print(\"Neither condition is good.\")\n",
        "\n",
        "# Logical NOT\n",
        "print(\"\\nUsing 'not':\")\n",
        "if not a:\n",
        "    print(\"It's not sunny.\")\n",
        "else:\n",
        "    print(\"It is sunny.\")"
      ],
      "metadata": {
        "colab": {
          "base_uri": "https://localhost:8080/"
        },
        "id": "k9kfDn7DsHdf",
        "outputId": "78b9e881-6e88-48c6-f81b-3a0deef45020"
      },
      "execution_count": 10,
      "outputs": [
        {
          "output_type": "stream",
          "name": "stdout",
          "text": [
            "Is it sunny? (yes/no): yes\n",
            "Is it warm? (yes/no): no\n",
            "\n",
            "Using 'and':\n",
            "Maybe not the best weather for going out.\n",
            "\n",
            "Using 'or':\n",
            "At least one condition is good for stepping out.\n",
            "\n",
            "Using 'not':\n",
            "It is sunny.\n"
          ]
        }
      ]
    },
    {
      "cell_type": "markdown",
      "source": [
        "##  Write a Python program to convert user input from string to integer, float, and boolean types"
      ],
      "metadata": {
        "id": "5IIPn_1hsc6N"
      }
    },
    {
      "cell_type": "code",
      "source": [
        "user_input = input(\"Enter a value: \")\n",
        "\n",
        "# Convert to integer\n",
        "try:\n",
        "    int_value = int(user_input)\n",
        "    print(\"Integer conversion:\", int_value)\n",
        "except ValueError:\n",
        "    print(\"Cannot convert to integer.\")\n",
        "\n",
        "# Convert to float\n",
        "try:\n",
        "    float_value = float(user_input)\n",
        "    print(\"Float conversion:\", float_value)\n",
        "except ValueError:\n",
        "    print(\"Cannot convert to float.\")\n",
        "\n",
        "# Convert to boolean\n",
        "bool_value = bool(user_input)\n",
        "print(\"Boolean conversion:\", bool_value)\n"
      ],
      "metadata": {
        "colab": {
          "base_uri": "https://localhost:8080/"
        },
        "id": "ysNSNmDwseVj",
        "outputId": "e5de0883-7a54-4b6f-ac84-0a75b748a312"
      },
      "execution_count": 11,
      "outputs": [
        {
          "output_type": "stream",
          "name": "stdout",
          "text": [
            "Enter a value: 1\n",
            "Integer conversion: 1\n",
            "Float conversion: 1.0\n",
            "Boolean conversion: True\n"
          ]
        }
      ]
    },
    {
      "cell_type": "markdown",
      "source": [
        "##  Write code to demonstrate type casting with list elements."
      ],
      "metadata": {
        "id": "5VqXmh98stL3"
      }
    },
    {
      "cell_type": "code",
      "source": [
        "str_list = [\"0\", \"20\", \"30\", \"40\", True, False]\n",
        "\n",
        "int_list = []\n",
        "float_list = []\n",
        "\n",
        "for item in str_list:\n",
        "  print(int(item))\n",
        "  print(float(item))\n",
        "  print(bool(item))"
      ],
      "metadata": {
        "colab": {
          "base_uri": "https://localhost:8080/"
        },
        "id": "FvyEjcIasymM",
        "outputId": "104b1ef3-8f12-4968-8718-f88169525742"
      },
      "execution_count": 15,
      "outputs": [
        {
          "output_type": "stream",
          "name": "stdout",
          "text": [
            "0\n",
            "0.0\n",
            "True\n",
            "20\n",
            "20.0\n",
            "True\n",
            "30\n",
            "30.0\n",
            "True\n",
            "40\n",
            "40.0\n",
            "True\n",
            "1\n",
            "1.0\n",
            "True\n",
            "0\n",
            "0.0\n",
            "False\n"
          ]
        }
      ]
    },
    {
      "cell_type": "markdown",
      "source": [
        "## Write a program that checks if a number is positive, negative, or zero."
      ],
      "metadata": {
        "id": "k7fcMmv0tXVR"
      }
    },
    {
      "cell_type": "code",
      "source": [
        "num = float(input(\"Enter a number: \"))\n",
        "\n",
        "if num > 0:\n",
        "    print(\"The number is positive.\")\n",
        "elif num < 0:\n",
        "    print(\"The number is negative.\")\n",
        "else:\n",
        "    print(\"The number is zero.\")\n"
      ],
      "metadata": {
        "colab": {
          "base_uri": "https://localhost:8080/"
        },
        "id": "DP_B-qNctcGN",
        "outputId": "94281d09-b36d-459b-f064-85e673a320ca"
      },
      "execution_count": 16,
      "outputs": [
        {
          "output_type": "stream",
          "name": "stdout",
          "text": [
            "Enter a number: 100\n",
            "The number is positive.\n"
          ]
        }
      ]
    },
    {
      "cell_type": "markdown",
      "source": [
        "## Write a for loop to print numbers from 1 to 10."
      ],
      "metadata": {
        "id": "t040rvt5tiHo"
      }
    },
    {
      "cell_type": "code",
      "source": [
        "for num in range(1, 11):\n",
        "    print(num)\n"
      ],
      "metadata": {
        "colab": {
          "base_uri": "https://localhost:8080/"
        },
        "id": "E6TPHlIDtofp",
        "outputId": "b925ecb5-cef0-4810-fe37-7beb518cf53d"
      },
      "execution_count": 17,
      "outputs": [
        {
          "output_type": "stream",
          "name": "stdout",
          "text": [
            "1\n",
            "2\n",
            "3\n",
            "4\n",
            "5\n",
            "6\n",
            "7\n",
            "8\n",
            "9\n",
            "10\n"
          ]
        }
      ]
    },
    {
      "cell_type": "markdown",
      "source": [
        "## Write a Python program to find the sum of all even numbers between 1 and 50."
      ],
      "metadata": {
        "id": "7MbY4A1Vtwng"
      }
    },
    {
      "cell_type": "code",
      "source": [
        "sum_of_evens = 0\n",
        "\n",
        "for num in range(1, 51):\n",
        "    if num % 2 == 0:\n",
        "        sum_of_evens += num\n",
        "\n",
        "print(\"Sum of all even numbers between 1 and 50:\", sum_of_evens)\n"
      ],
      "metadata": {
        "colab": {
          "base_uri": "https://localhost:8080/"
        },
        "id": "PomYuSiKtx2m",
        "outputId": "9c95d07b-65db-408b-f4c5-e6f1f25fc037"
      },
      "execution_count": 18,
      "outputs": [
        {
          "output_type": "stream",
          "name": "stdout",
          "text": [
            "Sum of all even numbers between 1 and 50: 650\n"
          ]
        }
      ]
    },
    {
      "cell_type": "markdown",
      "source": [
        " ## Write a program to reverse a string using a while loop."
      ],
      "metadata": {
        "id": "-xh-IPCOt_P9"
      }
    },
    {
      "cell_type": "code",
      "source": [
        "user_string = input(\"Enter a string to reverse: \")\n",
        "\n",
        "reversed_string = \"\"\n",
        "index = len(user_string) - 1\n",
        "\n",
        "while index >= 0:\n",
        "    reversed_string += user_string[index]\n",
        "    index -= 1\n",
        "\n",
        "print(\"Reversed string:\", reversed_string)\n"
      ],
      "metadata": {
        "colab": {
          "base_uri": "https://localhost:8080/"
        },
        "id": "88voC6_RuBma",
        "outputId": "7fa07b4a-aba1-483b-b61e-3240c83b890d"
      },
      "execution_count": 19,
      "outputs": [
        {
          "output_type": "stream",
          "name": "stdout",
          "text": [
            "Enter a string to reverse: Sandeep\n",
            "Reversed string: peednaS\n"
          ]
        }
      ]
    },
    {
      "cell_type": "markdown",
      "source": [
        "## Write a Python program to calculate the factorial of a number provided by the user using a while loop."
      ],
      "metadata": {
        "id": "90yjOaXeuN7w"
      }
    },
    {
      "cell_type": "code",
      "source": [
        "num = int(input(\"Enter a number to calculate its factorial: \"))\n",
        "\n",
        "factorial = 1\n",
        "i = 1\n",
        "\n",
        "while i <= num:\n",
        "    factorial *= i\n",
        "    i += 1\n",
        "\n",
        "print(f\"The factorial of {num} is: {factorial}\")\n"
      ],
      "metadata": {
        "colab": {
          "base_uri": "https://localhost:8080/"
        },
        "id": "VAfoHqEQuPJF",
        "outputId": "e0b76e91-938a-4844-d3a2-6db84e48fbb2"
      },
      "execution_count": 20,
      "outputs": [
        {
          "output_type": "stream",
          "name": "stdout",
          "text": [
            "Enter a number to calculate its factorial: 10\n",
            "The factorial of 10 is: 3628800\n"
          ]
        }
      ]
    }
  ]
}