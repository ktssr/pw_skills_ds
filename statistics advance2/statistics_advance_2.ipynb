{
  "nbformat": 4,
  "nbformat_minor": 0,
  "metadata": {
    "colab": {
      "provenance": []
    },
    "kernelspec": {
      "name": "python3",
      "display_name": "Python 3"
    },
    "language_info": {
      "name": "python"
    }
  },
  "cells": [
    {
      "cell_type": "markdown",
      "source": [
        "# Statistics Advance 2"
      ],
      "metadata": {
        "id": "tqZ5ejnq9spD"
      }
    },
    {
      "cell_type": "markdown",
      "source": [
        "## 1. What is hypothesis testing in statistics?\n",
        "Hypothesis testing is a statistical method used to make inferences or draw conclusions about a population based on sample data. The idea is to test if there is enough evidence to support a certain claim (hypothesis) about the population. It involves formulating two competing hypotheses (null and alternative), collecting sample data, and performing a statistical test to determine if the null hypothesis can be rejected.\n",
        "\n",
        "## 2. What is the null hypothesis, and how does it differ from the alternative hypothesis?\n",
        "The null hypothesis (denoted as $H_0$) is a statement that there is no effect, no difference, or no relationship between variables in the population. It is the hypothesis that we attempt to test and potentially reject.  \n",
        "The alternative hypothesis (denoted as $H_a$ or $H_1$) represents the opposite claim, suggesting that there is an effect, a difference, or a relationship present. If the null hypothesis is rejected, the alternative hypothesis is considered supported.\n",
        "\n",
        "## 3. What is the significance level in hypothesis testing, and why is it important?\n",
        "The significance level, often denoted as $\\alpha$, is the probability threshold that defines when we reject the null hypothesis. It represents the risk of rejecting the null hypothesis when it is actually true (Type 1 error). Commonly used significance levels are 0.05, 0.01, and 0.10. Choosing the correct significance level is crucial to control the error rates in the test.\n",
        "\n",
        "## 4. What does a P-value represent in hypothesis testing?\n",
        "A P-value represents the probability of obtaining the observed data (or something more extreme) if the null hypothesis were true. It helps to assess the strength of the evidence against the null hypothesis. A small P-value (typically less than 0.05) suggests that the observed data is inconsistent with the null hypothesis, leading to its rejection.\n",
        "\n",
        "## 5. How do you interpret the P-value in hypothesis testing?\n",
        "- **P-value ≤ α**: The evidence against the null hypothesis is strong, and we reject the null hypothesis.\n",
        "- **P-value > α**: There is insufficient evidence against the null hypothesis, so we fail to reject it.\n",
        "\n",
        "## 6. What are Type 1 and Type 2 errors in hypothesis testing?\n",
        "- **Type 1 Error**: This occurs when we incorrectly reject a true null hypothesis (false positive).\n",
        "- **Type 2 Error**: This occurs when we fail to reject a false null hypothesis (false negative).\n",
        "\n",
        "## 7. What is the difference between a one-tailed and a two-tailed test in hypothesis testing?\n",
        "- **One-tailed test**: Tests for the possibility of an effect in only one direction (e.g., greater than or less than).\n",
        "- **Two-tailed test**: Tests for the possibility of an effect in both directions (e.g., different from a specific value).\n",
        "\n",
        "## 8. What is the Z-test, and when is it used in hypothesis testing?\n",
        "A Z-test is used to determine if there is a significant difference between sample data and population parameters when the sample size is large ($n > 30$) or the population standard deviation is known. It assumes that the data follows a normal distribution.\n",
        "\n",
        "## 9. How do you calculate the Z-score, and what does it represent in hypothesis testing?\n",
        "The Z-score is calculated using the formula:  \n",
        "$$\n",
        "Z = \\frac{X - \\mu}{\\sigma/\\sqrt{n}}\n",
        "$$  \n",
        "Where:\n",
        "- $X$ is the sample mean\n",
        "- $\\mu$ is the population mean\n",
        "- $\\sigma$ is the population standard deviation\n",
        "- $n$ is the sample size  \n",
        "The Z-score represents how many standard deviations the sample mean is away from the population mean. A large Z-score indicates that the sample mean is significantly different from the population mean.\n",
        "\n",
        "## 10. What is the T-distribution, and when should it be used instead of the normal distribution?\n",
        "The T-distribution is used when the sample size is small ($n < 30$) or when the population standard deviation is unknown. Unlike the normal distribution, the T-distribution has thicker tails, which account for the increased variability in small sample sizes.\n",
        "\n",
        "## 11. What is the difference between a Z-test and a T-test?\n",
        "- **Z-test**: Used when the sample size is large ($n > 30$) or when the population standard deviation is known.\n",
        "- **T-test**: Used when the sample size is small ($n < 30$) or when the population standard deviation is unknown.\n",
        "\n",
        "## 12. What is the T-test, and how is it used in hypothesis testing?\n",
        "The T-test is used to determine if there is a significant difference between the means of two groups, especially when the sample size is small and the population standard deviation is unknown. There are different types of T-tests, such as the one-sample T-test, independent two-sample T-test, and paired sample T-test.\n",
        "\n",
        "## 13. What is the relationship between Z-test and T-test in hypothesis testing?\n",
        "The Z-test and T-test are both used to compare sample statistics to population parameters, but the Z-test is typically used when the sample size is large or the population standard deviation is known, while the T-test is used for small samples or unknown population standard deviations. As sample size increases, the T-distribution approaches the normal distribution, and the T-test becomes similar to the Z-test.\n",
        "\n",
        "## 14. What is a confidence interval, and how is it used to interpret statistical results?\n",
        "A confidence interval (CI) is a range of values, derived from sample data, that is likely to contain the true population parameter. It is used to estimate the uncertainty around a sample statistic. For example, a 95% confidence interval means that we are 95% confident that the true population parameter lies within the interval.\n",
        "\n",
        "## 15. What is the margin of error, and how does it affect the confidence interval?\n",
        "The margin of error is the range within which the true population parameter is likely to fall. It is calculated based on the sample's standard deviation and the desired confidence level. A larger margin of error results in a wider confidence interval, indicating more uncertainty about the population parameter.\n",
        "\n",
        "## 16. How is Bayes' Theorem used in statistics, and what is its significance?\n",
        "Bayes' Theorem is a way of updating probabilities based on new evidence. It is used in statistics to revise the probability of a hypothesis as more data becomes available. The formula is:  \n",
        "$$\n",
        "P(A|B) = \\frac{P(B|A) \\cdot P(A)}{P(B)}\n",
        "$$  \n",
        "It is significant because it provides a method for incorporating prior knowledge (prior probability) into statistical analysis.\n",
        "\n",
        "## 17. What is the Chi-square distribution, and when is it used?\n",
        "The Chi-square distribution is used in hypothesis testing, particularly for categorical data. It is used to test whether the observed frequencies in a contingency table match the expected frequencies. It is often used in tests of independence and goodness of fit.\n",
        "\n",
        "## 18. What is the Chi-square goodness of fit test, and how is it applied?\n",
        "The Chi-square goodness of fit test is used to determine if a sample data fits a population distribution. It compares the observed frequency of data to the expected frequency. If the difference is large, the null hypothesis that the sample fits the expected distribution is rejected.\n",
        "\n",
        "## 19. What is the F-distribution, and when is it used in hypothesis testing?\n",
        "The F-distribution is used in hypothesis testing when comparing variances between two or more groups. It is used in analysis of variance (ANOVA) tests to assess whether the variances across different groups are significantly different.\n",
        "\n",
        "## 20. What is an ANOVA test, and what are its assumptions?\n",
        "An ANOVA (Analysis of Variance) test is used to compare the means of three or more groups. The key assumptions of ANOVA are:\n",
        "- The data is normally distributed in each group.\n",
        "- The variances are equal across groups (homogeneity of variances).\n",
        "- The samples are independent.\n",
        "\n",
        "## 21. What are the different types of ANOVA tests?\n",
        "- **One-way ANOVA**: Compares means across one factor (independent variable) with multiple levels.\n",
        "- **Two-way ANOVA**: Compares means across two factors and can also test for interactions between the factors.\n",
        "- **Repeated measures ANOVA**: Compares means across one factor where the same subjects are used for each condition (e.g., within-subjects design).\n",
        "\n",
        "## 22. What is the F-test, and how does it relate to hypothesis testing?\n",
        "The F-test is used to compare the variances of two or more groups. It is commonly used in ANOVA and regression analysis. In ANOVA, the F-test determines if the group means are significantly different. In regression, it tests if the model fits the data better than a model with no predictors."
      ],
      "metadata": {
        "id": "p2IniAmO9vxY"
      }
    },
    {
      "cell_type": "markdown",
      "source": [
        "## Write a Python program to perform a Z-test for comparing a sample mean to a known population mean and the results."
      ],
      "metadata": {
        "id": "SH0S7PVRAFWW"
      }
    },
    {
      "cell_type": "code",
      "source": [
        "import numpy as np\n",
        "from scipy import stats\n",
        "\n",
        "# Sample data\n",
        "sample_data = np.random.normal(loc=50, scale=10, size=100)\n",
        "sample_mean = np.mean(sample_data)\n",
        "population_mean = 52\n",
        "population_std = 10\n",
        "n = len(sample_data)\n",
        "\n",
        "# Z-test calculation\n",
        "z_score = (sample_mean - population_mean) / (population_std / np.sqrt(n))\n",
        "p_value = 2 * (1 - stats.norm.cdf(abs(z_score)))  # two-tailed test\n",
        "\n",
        "print(f\"Z-score: {z_score}\")\n",
        "print(f\"P-value: {p_value}\")\n"
      ],
      "metadata": {
        "colab": {
          "base_uri": "https://localhost:8080/"
        },
        "id": "e0zSJhB1BSk2",
        "outputId": "38884ca7-9e96-41cc-b45b-5a79e97a6bb6"
      },
      "execution_count": 3,
      "outputs": [
        {
          "output_type": "stream",
          "name": "stdout",
          "text": [
            "Z-score: -1.0974068758177395\n",
            "P-value: 0.27246356904595936\n"
          ]
        }
      ]
    },
    {
      "cell_type": "markdown",
      "source": [
        "## Simulate random data to perform hypothesis testing and calculate the corresponding P-value using Python."
      ],
      "metadata": {
        "id": "3Zp80elmAHeO"
      }
    },
    {
      "cell_type": "code",
      "source": [
        "# Simulating data\n",
        "data = np.random.normal(loc=5, scale=2, size=50)\n",
        "\n",
        "# Hypothesis testing (one-sample t-test)\n",
        "t_stat, p_val = stats.ttest_1samp(data, 5)\n",
        "print(f\"T-statistic: {t_stat}\")\n",
        "print(f\"P-value: {p_val}\")\n"
      ],
      "metadata": {
        "colab": {
          "base_uri": "https://localhost:8080/"
        },
        "id": "Q2QEYm0nBSR4",
        "outputId": "6447a1a9-64a3-40f0-b404-778bcaf850b7"
      },
      "execution_count": 4,
      "outputs": [
        {
          "output_type": "stream",
          "name": "stdout",
          "text": [
            "T-statistic: -1.002541228475445\n",
            "P-value: 0.3210075898783841\n"
          ]
        }
      ]
    },
    {
      "cell_type": "markdown",
      "source": [
        "## Implement a one-sample Z-test using Python to compare the sample mean with the population mean."
      ],
      "metadata": {
        "id": "Y87vl2tvALc0"
      }
    },
    {
      "cell_type": "code",
      "source": [
        "# Population parameters\n",
        "population_mean = 100\n",
        "population_std = 15\n",
        "\n",
        "# Sample data\n",
        "sample_data = np.random.normal(loc=98, scale=15, size=50)\n",
        "sample_mean = np.mean(sample_data)\n",
        "n = len(sample_data)\n",
        "\n",
        "# Z-test for one sample\n",
        "z_score = (sample_mean - population_mean) / (population_std / np.sqrt(n))\n",
        "p_value = 2 * (1 - stats.norm.cdf(abs(z_score)))\n",
        "print(f\"Z-score: {z_score}\")\n",
        "print(f\"P-value: {p_value}\")\n"
      ],
      "metadata": {
        "colab": {
          "base_uri": "https://localhost:8080/"
        },
        "id": "Ia1_Ihq8BR6r",
        "outputId": "4d1dd38a-e160-4931-b371-b47f5ddc0a85"
      },
      "execution_count": 5,
      "outputs": [
        {
          "output_type": "stream",
          "name": "stdout",
          "text": [
            "Z-score: -1.6720797033105548\n",
            "P-value: 0.09450860635859626\n"
          ]
        }
      ]
    },
    {
      "cell_type": "markdown",
      "source": [
        "## Perform a two-tailed Z-test using Python and visualize the decision region on a plot."
      ],
      "metadata": {
        "id": "B5G-jVGzAN0c"
      }
    },
    {
      "cell_type": "code",
      "source": [
        "import matplotlib.pyplot as plt\n",
        "\n",
        "# Sample data and parameters\n",
        "sample_data = np.random.normal(50, 10, 100)\n",
        "sample_mean = np.mean(sample_data)\n",
        "population_mean = 52\n",
        "population_std = 10\n",
        "n = len(sample_data)\n",
        "\n",
        "# Z-test calculation\n",
        "z_score = (sample_mean - population_mean) / (population_std / np.sqrt(n))\n",
        "\n",
        "# Plot the decision region\n",
        "x = np.linspace(-4, 4, 100)\n",
        "y = stats.norm.pdf(x)\n",
        "plt.plot(x, y, label='Normal Distribution')\n",
        "plt.axvline(x=-1.96, color='red', linestyle='--', label='Critical value (-1.96)')\n",
        "plt.axvline(x=1.96, color='red', linestyle='--', label='Critical value (1.96)')\n",
        "plt.fill_between(x, 0, y, where=(x > 1.96) | (x < -1.96), color='red', alpha=0.2)\n",
        "plt.title('Z-test Two-Tailed Decision Region')\n",
        "plt.legend()\n",
        "plt.show()\n",
        "\n",
        "print(f\"Z-score: {z_score}\")\n"
      ],
      "metadata": {
        "colab": {
          "base_uri": "https://localhost:8080/",
          "height": 470
        },
        "id": "MkTq4RJPBQ77",
        "outputId": "056217c9-98b2-490f-fac5-32e5513b9763"
      },
      "execution_count": 6,
      "outputs": [
        {
          "output_type": "display_data",
          "data": {
            "text/plain": [
              "<Figure size 640x480 with 1 Axes>"
            ],
            "image/png": "[encoded data removed]"
          },
          "metadata": {}
        },
        {
          "output_type": "stream",
          "name": "stdout",
          "text": [
            "Z-score: -1.5087435889775307\n"
          ]
        }
      ]
    },
    {
      "cell_type": "markdown",
      "source": [
        "## Create a Python function that calculates and visualizes Type 1 and Type 2 errors during hypothesis testing."
      ],
      "metadata": {
        "id": "PF1xgd9KAQtS"
      }
    },
    {
      "cell_type": "code",
      "source": [
        "def visualize_errors(sample_size, population_mean, population_std):\n",
        "    # Simulate data for Type 1 and Type 2 errors\n",
        "    alpha = 0.05\n",
        "    true_mean = population_mean\n",
        "    # Type 1 error (rejecting a true null hypothesis)\n",
        "    type_1_error = np.random.normal(true_mean, population_std, sample_size)\n",
        "\n",
        "    # Type 2 error (failing to reject a false null hypothesis)\n",
        "    false_mean = population_mean + 2  # False mean\n",
        "    type_2_error = np.random.normal(false_mean, population_std, sample_size)\n",
        "\n",
        "    # Visualization\n",
        "    plt.figure(figsize=(10,6))\n",
        "    plt.hist(type_1_error, alpha=0.5, label='Type 1 Error (Rejecting True H0)')\n",
        "    plt.hist(type_2_error, alpha=0.5, label='Type 2 Error (Failing to Reject False H0)')\n",
        "    plt.legend()\n",
        "    plt.title('Type 1 and Type 2 Error Distribution')\n",
        "    plt.show()\n",
        "\n",
        "# Example usage\n",
        "visualize_errors(100, 50, 10)\n"
      ],
      "metadata": {
        "colab": {
          "base_uri": "https://localhost:8080/",
          "height": 545
        },
        "id": "CaJ1-w6RBQiw",
        "outputId": "6f575909-13b3-4397-b3fa-aef7398ccb6e"
      },
      "execution_count": 7,
      "outputs": [
        {
          "output_type": "display_data",
          "data": {
            "text/plain": [
              "<Figure size 1000x600 with 1 Axes>"
            ],
            "image/png": "[encoded data removed]"
          },
          "metadata": {}
        }
      ]
    },
    {
      "cell_type": "markdown",
      "source": [
        "## Write a Python program to perform an independent T-test and interpret the results."
      ],
      "metadata": {
        "id": "pG0TOMlHAS9u"
      }
    },
    {
      "cell_type": "code",
      "source": [
        "# Simulate data for two independent groups\n",
        "group1 = np.random.normal(loc=50, scale=10, size=50)\n",
        "group2 = np.random.normal(loc=55, scale=10, size=50)\n",
        "\n",
        "# Perform independent T-test\n",
        "t_stat, p_value = stats.ttest_ind(group1, group2)\n",
        "print(f\"T-statistic: {t_stat}\")\n",
        "print(f\"P-value: {p_value}\")\n"
      ],
      "metadata": {
        "colab": {
          "base_uri": "https://localhost:8080/"
        },
        "id": "acdMDqIABQIj",
        "outputId": "6993ed2b-bfbe-45c3-c6f3-c78705aab25c"
      },
      "execution_count": 8,
      "outputs": [
        {
          "output_type": "stream",
          "name": "stdout",
          "text": [
            "T-statistic: -2.8458034610430554\n",
            "P-value: 0.005395114133007124\n"
          ]
        }
      ]
    },
    {
      "cell_type": "markdown",
      "source": [
        "## Perform a paired sample T-test using Python and visualize the comparison results."
      ],
      "metadata": {
        "id": "qTV9jaQnAVkV"
      }
    },
    {
      "cell_type": "code",
      "source": [
        "# Simulate paired data (before and after treatment)\n",
        "before = np.random.normal(loc=50, scale=5, size=30)\n",
        "after = before + np.random.normal(loc=3, scale=2, size=30)\n",
        "\n",
        "# Perform paired sample T-test\n",
        "t_stat, p_value = stats.ttest_rel(before, after)\n",
        "print(f\"T-statistic: {t_stat}\")\n",
        "print(f\"P-value: {p_value}\")\n"
      ],
      "metadata": {
        "colab": {
          "base_uri": "https://localhost:8080/"
        },
        "id": "s7Hf4lBdBP1y",
        "outputId": "7d311a06-497b-4f1e-8fec-32d6ed19a48e"
      },
      "execution_count": 9,
      "outputs": [
        {
          "output_type": "stream",
          "name": "stdout",
          "text": [
            "T-statistic: -7.185183316263566\n",
            "P-value: 6.562243427812638e-08\n"
          ]
        }
      ]
    },
    {
      "cell_type": "markdown",
      "source": [
        "## Simulate data and perform both Z-test and T-test, then compare the results using Python."
      ],
      "metadata": {
        "id": "PEgXa9P3AX0f"
      }
    },
    {
      "cell_type": "code",
      "source": [
        "# Simulating data\n",
        "data = np.random.normal(50, 10, 100)\n",
        "sample_mean = np.mean(data)\n",
        "population_mean = 52\n",
        "population_std = 10\n",
        "n = len(data)\n",
        "\n",
        "# Z-test\n",
        "z_score = (sample_mean - population_mean) / (population_std / np.sqrt(n))\n",
        "z_p_value = 2 * (1 - stats.norm.cdf(abs(z_score)))\n",
        "\n",
        "# T-test\n",
        "t_stat, t_p_value = stats.ttest_1samp(data, population_mean)\n",
        "\n",
        "print(f\"Z-test P-value: {z_p_value}\")\n",
        "print(f\"T-test P-value: {t_p_value}\")\n"
      ],
      "metadata": {
        "colab": {
          "base_uri": "https://localhost:8080/"
        },
        "id": "HSRPFVx4BPkh",
        "outputId": "214b2bdf-5441-4946-eb95-9df71378db09"
      },
      "execution_count": 10,
      "outputs": [
        {
          "output_type": "stream",
          "name": "stdout",
          "text": [
            "Z-test P-value: 0.7931254315299683\n",
            "T-test P-value: 0.7687456357667894\n"
          ]
        }
      ]
    },
    {
      "cell_type": "markdown",
      "source": [
        "## Write a Python function to calculate the confidence interval for a sample mean and explain its significance.\n"
      ],
      "metadata": {
        "id": "7n23w2e1AaP6"
      }
    },
    {
      "cell_type": "code",
      "source": [
        "def confidence_interval(data, confidence=0.95):\n",
        "    sample_mean = np.mean(data)\n",
        "    sample_std = np.std(data)\n",
        "    n = len(data)\n",
        "    z_value = stats.norm.ppf((1 + confidence) / 2)\n",
        "    margin_of_error = z_value * (sample_std / np.sqrt(n))\n",
        "    lower_bound = sample_mean - margin_of_error\n",
        "    upper_bound = sample_mean + margin_of_error\n",
        "    return (lower_bound, upper_bound)\n",
        "\n",
        "# Simulate data\n",
        "data = np.random.normal(100, 15, 50)\n",
        "\n",
        "# Calculate confidence interval\n",
        "ci = confidence_interval(data)\n",
        "print(f\"Confidence Interval: {ci}\")\n"
      ],
      "metadata": {
        "colab": {
          "base_uri": "https://localhost:8080/"
        },
        "id": "IucwCbaTBO1N",
        "outputId": "487a6272-0469-4a70-c5fc-aebaac0a6561"
      },
      "execution_count": 11,
      "outputs": [
        {
          "output_type": "stream",
          "name": "stdout",
          "text": [
            "Confidence Interval: (np.float64(93.76952280585307), np.float64(102.5006852687617))\n"
          ]
        }
      ]
    },
    {
      "cell_type": "markdown",
      "source": [
        "## Write a Python program to calculate the margin of error for a given confidence level using sample data."
      ],
      "metadata": {
        "id": "fhQ2hit-AeMI"
      }
    },
    {
      "cell_type": "code",
      "source": [
        "def margin_of_error(data, confidence=0.95):\n",
        "    sample_std = np.std(data)\n",
        "    n = len(data)\n",
        "    z_value = stats.norm.ppf((1 + confidence) / 2)\n",
        "    return z_value * (sample_std / np.sqrt(n))\n",
        "\n",
        "# Simulate data\n",
        "data = np.random.normal(100, 15, 50)\n",
        "\n",
        "# Calculate margin of error\n",
        "moe = margin_of_error(data)\n",
        "print(f\"Margin of Error: {moe}\")\n"
      ],
      "metadata": {
        "colab": {
          "base_uri": "https://localhost:8080/"
        },
        "id": "D7rIyn5WBNfn",
        "outputId": "b85b9769-f03f-4b3e-feb4-d33fd232f524"
      },
      "execution_count": 12,
      "outputs": [
        {
          "output_type": "stream",
          "name": "stdout",
          "text": [
            "Margin of Error: 4.517018738025828\n"
          ]
        }
      ]
    },
    {
      "cell_type": "markdown",
      "source": [
        "## Implement a Bayesian inference method using Bayes' Theorem in Python and explain the process."
      ],
      "metadata": {
        "id": "X3sYjEzPAfue"
      }
    },
    {
      "cell_type": "code",
      "source": [
        "# Example with prior, likelihood, and evidence\n",
        "prior = 0.5  # Prior probability\n",
        "likelihood = 0.8  # Likelihood of data given hypothesis\n",
        "evidence = 0.6  # Total probability of evidence\n",
        "\n",
        "# Bayes' Theorem\n",
        "posterior = (likelihood * prior) / evidence\n",
        "print(f\"Posterior Probability: {posterior}\")\n"
      ],
      "metadata": {
        "colab": {
          "base_uri": "https://localhost:8080/"
        },
        "id": "5FVLUZfeBMwj",
        "outputId": "31e2f6b9-f777-4fb2-b501-9bd333aabccb"
      },
      "execution_count": 46,
      "outputs": [
        {
          "output_type": "stream",
          "name": "stdout",
          "text": [
            "Posterior Probability: 0.6666666666666667\n"
          ]
        }
      ]
    },
    {
      "cell_type": "markdown",
      "source": [
        "## Perform a Chi-square test for independence between two categorical variables in Python."
      ],
      "metadata": {
        "id": "mdruyoYSAhXK"
      }
    },
    {
      "cell_type": "code",
      "source": [
        "# Simulating categorical data\n",
        "observed = np.array([[20, 30], [30, 50]])\n",
        "\n",
        "# Perform Chi-square test for independence\n",
        "chi2_stat, p_value, dof, expected = stats.chi2_contingency(observed)\n",
        "\n",
        "print(f\"Chi-square Statistic: {chi2_stat}\")\n",
        "print(f\"P-value: {p_value}\")\n",
        "print(f\"Degrees of Freedom: {dof}\")\n",
        "print(f\"Expected Frequencies: \\n{expected}\")\n"
      ],
      "metadata": {
        "colab": {
          "base_uri": "https://localhost:8080/"
        },
        "id": "mtncwkmIBMDV",
        "outputId": "2aeb7f1b-feb1-4509-9300-932baaafe1a8"
      },
      "execution_count": 14,
      "outputs": [
        {
          "output_type": "stream",
          "name": "stdout",
          "text": [
            "Chi-square Statistic: 0.009953125000000021\n",
            "P-value: 0.9205306177016401\n",
            "Degrees of Freedom: 1\n",
            "Expected Frequencies: \n",
            "[[19.23076923 30.76923077]\n",
            " [30.76923077 49.23076923]]\n"
          ]
        }
      ]
    },
    {
      "cell_type": "markdown",
      "source": [
        "## Write a Python program to calculate the expected frequencies for a Chi-square test based on observed data.\n"
      ],
      "metadata": {
        "id": "qqHxg80TAjWQ"
      }
    },
    {
      "cell_type": "code",
      "source": [
        "# Observed data\n",
        "observed = np.array([10, 20, 30])\n",
        "\n",
        "# Calculate expected frequencies\n",
        "total = np.sum(observed)\n",
        "expected = total / len(observed)\n",
        "print(f\"Expected Frequencies: {expected}\")\n"
      ],
      "metadata": {
        "colab": {
          "base_uri": "https://localhost:8080/"
        },
        "id": "La7VIkWwBLY0",
        "outputId": "51540e14-6054-401a-e17e-a0d5c0155d92"
      },
      "execution_count": 15,
      "outputs": [
        {
          "output_type": "stream",
          "name": "stdout",
          "text": [
            "Expected Frequencies: 20.0\n"
          ]
        }
      ]
    },
    {
      "cell_type": "markdown",
      "source": [
        "## Perform a goodness-of-fit test using Python to compare the observed data to an expected distribution."
      ],
      "metadata": {
        "id": "tbZqyUquAlII"
      }
    },
    {
      "cell_type": "code",
      "source": [
        "# Observed and expected data\n",
        "observed = np.array([10, 20, 30])\n",
        "expected = np.array([15, 15, 30])\n",
        "\n",
        "# Perform Chi-square goodness-of-fit test\n",
        "chi2_stat, p_value = stats.chisquare(observed, expected)\n",
        "print(f\"Chi-square Statistic: {chi2_stat}\")\n",
        "print(f\"P-value: {p_value}\")\n"
      ],
      "metadata": {
        "colab": {
          "base_uri": "https://localhost:8080/"
        },
        "id": "l_E9OZcGBK8V",
        "outputId": "f23184cf-f5c8-4bcb-fac6-46d8b89fff21"
      },
      "execution_count": 16,
      "outputs": [
        {
          "output_type": "stream",
          "name": "stdout",
          "text": [
            "Chi-square Statistic: 3.3333333333333335\n",
            "P-value: 0.1888756028375618\n"
          ]
        }
      ]
    },
    {
      "cell_type": "markdown",
      "source": [
        "## Create a Python script to simulate and visualize the Chi-square distribution and discuss its characteristics."
      ],
      "metadata": {
        "id": "SYb_BBncAm8c"
      }
    },
    {
      "cell_type": "code",
      "source": [
        "# Simulate and plot Chi-square distribution\n",
        "x = np.linspace(0, 20, 100)\n",
        "y = stats.chi2.pdf(x, df=2)\n",
        "\n",
        "plt.plot(x, y)\n",
        "plt.title('Chi-Square Distribution (df=2)')\n",
        "plt.show()\n"
      ],
      "metadata": {
        "colab": {
          "base_uri": "https://localhost:8080/",
          "height": 452
        },
        "id": "YpqVpNH-BKW4",
        "outputId": "9331a919-08fa-49d3-ed9b-cc6190cab505"
      },
      "execution_count": 17,
      "outputs": [
        {
          "output_type": "display_data",
          "data": {
            "text/plain": [
              "<Figure size 640x480 with 1 Axes>"
            ],
            "image/png": "[encoded data removed]"
          },
          "metadata": {}
        }
      ]
    },
    {
      "cell_type": "markdown",
      "source": [
        "## Implement an F-test using Python to compare the variances of two random samples."
      ],
      "metadata": {
        "id": "n6tQs1pKAoHk"
      }
    },
    {
      "cell_type": "code",
      "source": [
        "# Simulate two datasets with different variances\n",
        "data1 = np.random.normal(100, 15, 50)  # Mean 100, Std dev 15\n",
        "data2 = np.random.normal(100, 25, 50)  # Mean 100, Std dev 25\n",
        "\n",
        "# Perform the F-test for variances\n",
        "f_stat = np.var(data1, ddof=1) / np.var(data2, ddof=1)\n",
        "p_value = 1 - stats.f.cdf(f_stat, dfn=len(data1)-1, dfd=len(data2)-1)\n",
        "\n",
        "print(f\"F-statistic: {f_stat}\")\n",
        "print(f\"P-value: {p_value}\")"
      ],
      "metadata": {
        "colab": {
          "base_uri": "https://localhost:8080/"
        },
        "id": "zGyVxklVBJhb",
        "outputId": "68dd3c90-1c04-40ae-9dfb-95bba2dc6f2f"
      },
      "execution_count": 25,
      "outputs": [
        {
          "output_type": "stream",
          "name": "stdout",
          "text": [
            "F-statistic: 0.3341242771408364\n",
            "P-value: 0.9999035655101899\n"
          ]
        }
      ]
    },
    {
      "cell_type": "markdown",
      "source": [
        "## Write a Python program to perform an ANOVA test to compare means between multiple groups and the results."
      ],
      "metadata": {
        "id": "T74BYISIArFn"
      }
    },
    {
      "cell_type": "code",
      "source": [
        "import seaborn as sns\n",
        "# Simulate data for three groups\n",
        "group1 = np.random.normal(50, 10, 30)\n",
        "group2 = np.random.normal(55, 10, 30)\n",
        "group3 = np.random.normal(60, 10, 30)\n",
        "\n",
        "# Perform the one-way ANOVA\n",
        "f_stat, p_value = stats.f_oneway(group1, group2, group3)\n",
        "print(f\"F-statistic: {f_stat}\")\n",
        "print(f\"P-value: {p_value}\")\n",
        "\n",
        "# Plot the boxplot to visualize the differences\n",
        "sns.boxplot(data=[group1, group2, group3])\n",
        "plt.xticks([0, 1, 2], ['Group 1', 'Group 2', 'Group 3'])\n",
        "plt.title('One-way ANOVA Comparison of Means')\n",
        "plt.show()"
      ],
      "metadata": {
        "colab": {
          "base_uri": "https://localhost:8080/",
          "height": 488
        },
        "id": "Axcn6EUIBIlA",
        "outputId": "3011e5c3-7d0c-4bf1-b866-9571eac355fc"
      },
      "execution_count": 29,
      "outputs": [
        {
          "output_type": "stream",
          "name": "stdout",
          "text": [
            "F-statistic: 13.869927654913925\n",
            "P-value: 5.909020963409607e-06\n"
          ]
        },
        {
          "output_type": "display_data",
          "data": {
            "text/plain": [
              "<Figure size 640x480 with 1 Axes>"
            ],
            "image/png": "[encoded data removed]"
          },
          "metadata": {}
        }
      ]
    },
    {
      "cell_type": "markdown",
      "source": [
        "## Perform a one-way ANOVA test using Python to compare the means of different groups and plot the results."
      ],
      "metadata": {
        "id": "ZP6TwTuXFMI1"
      }
    },
    {
      "cell_type": "code",
      "source": [
        "group1 = np.random.normal(50, 10, 30)\n",
        "group2 = np.random.normal(55, 10, 30)\n",
        "group3 = np.random.normal(60, 10, 30)\n",
        "\n",
        "# Perform the one-way ANOVA\n",
        "f_stat, p_value = stats.f_oneway(group1, group2, group3)\n",
        "print(f\"F-statistic: {f_stat}\")\n",
        "print(f\"P-value: {p_value}\")\n",
        "\n",
        "# Plot the boxplot to visualize the differences\n",
        "sns.boxplot(data=[group1, group2, group3])\n",
        "plt.xticks([0, 1, 2], ['Group 1', 'Group 2', 'Group 3'])\n",
        "plt.title('One-way ANOVA Comparison of Means')\n",
        "plt.show()"
      ],
      "metadata": {
        "colab": {
          "base_uri": "https://localhost:8080/",
          "height": 488
        },
        "id": "TRvoQUW0FPc0",
        "outputId": "70121f6e-8713-47ea-c98d-23d638f4c26f"
      },
      "execution_count": 47,
      "outputs": [
        {
          "output_type": "stream",
          "name": "stdout",
          "text": [
            "F-statistic: 11.549692461321868\n",
            "P-value: 3.559956191900029e-05\n"
          ]
        },
        {
          "output_type": "display_data",
          "data": {
            "text/plain": [
              "<Figure size 640x480 with 1 Axes>"
            ],
            "image/png": "[encoded data removed]"
          },
          "metadata": {}
        }
      ]
    },
    {
      "cell_type": "markdown",
      "source": [
        "## Write a Python function to check the assumptions (normality, independence, and equal variance) for ANOVA."
      ],
      "metadata": {
        "id": "sbRjIyMRAwpS"
      }
    },
    {
      "cell_type": "code",
      "source": [
        "# Simulate data for three groups\n",
        "group1 = np.random.normal(50, 10, 30)\n",
        "group2 = np.random.normal(55, 10, 30)\n",
        "group3 = np.random.normal(60, 10, 30)\n",
        "\n",
        "# Check normality using Shapiro-Wilk test\n",
        "_, p1 = stats.shapiro(group1)\n",
        "_, p2 = stats.shapiro(group2)\n",
        "_, p3 = stats.shapiro(group3)\n",
        "print(f\"Shapiro-Wilk Test p-values: Group1 = {p1}, Group2 = {p2}, Group3 = {p3}\")\n",
        "\n",
        "# Check equality of variances using Levene's test\n",
        "stat, p = stats.levene(group1, group2, group3)\n",
        "print(f\"Levene's Test p-value: {p}\")\n"
      ],
      "metadata": {
        "colab": {
          "base_uri": "https://localhost:8080/"
        },
        "id": "teX17L9gBGb4",
        "outputId": "a700dd39-1b80-4615-9471-925657455d0c"
      },
      "execution_count": 31,
      "outputs": [
        {
          "output_type": "stream",
          "name": "stdout",
          "text": [
            "Shapiro-Wilk Test p-values: Group1 = 0.0012098914055658251, Group2 = 0.6542302679492074, Group3 = 0.3067961298177118\n",
            "Levene's Test p-value: 0.7464310330428141\n"
          ]
        }
      ]
    },
    {
      "cell_type": "markdown",
      "source": [
        "## Perform a two-way ANOVA test using Python to study the interaction between two factors and visualize the results."
      ],
      "metadata": {
        "id": "Fh9gGipKA0Vf"
      }
    },
    {
      "cell_type": "code",
      "source": [
        "# Simulate two factors: Factor A and Factor B\n",
        "factor1 = np.random.choice(['A', 'B'], size=100)\n",
        "factor2 = np.random.choice(['X', 'Y'], size=100)\n",
        "values = np.random.normal(50, 10, 100)\n",
        "\n",
        "# Create a DataFrame\n",
        "data = pd.DataFrame({'factor1': factor1, 'factor2': factor2, 'values': values})\n",
        "\n",
        "# Fit the two-way ANOVA model\n",
        "model = ols('values ~ C(factor1) + C(factor2) + C(factor1):C(factor2)', data=data).fit()\n",
        "anova_table = sm.stats.anova_lm(model, typ=2)\n",
        "\n",
        "print(anova_table)\n",
        "\n",
        "# Visualization of the interaction\n",
        "sns.pointplot(x='factor1', y='values', hue='factor2', data=data, dodge=True)\n",
        "plt.title('Two-way ANOVA Interaction Plot')\n",
        "plt.show()"
      ],
      "metadata": {
        "colab": {
          "base_uri": "https://localhost:8080/",
          "height": 561
        },
        "id": "iqV9uElhBFsb",
        "outputId": "348bb03c-d2df-4ed2-e39d-184a964d828a"
      },
      "execution_count": 32,
      "outputs": [
        {
          "output_type": "stream",
          "name": "stdout",
          "text": [
            "                             sum_sq    df         F    PR(>F)\n",
            "C(factor1)               393.844508   1.0  3.448994  0.066356\n",
            "C(factor2)                 3.544300   1.0  0.031038  0.860526\n",
            "C(factor1):C(factor2)    168.216506   1.0  1.473114  0.227833\n",
            "Residual               10962.346550  96.0       NaN       NaN\n"
          ]
        },
        {
          "output_type": "display_data",
          "data": {
            "text/plain": [
              "<Figure size 640x480 with 1 Axes>"
            ],
            "image/png": "[encoded data removed]"
          },
          "metadata": {}
        }
      ]
    },
    {
      "cell_type": "markdown",
      "source": [
        "## Write a Python program to visualize the F-distribution and discuss its use in hypothesis testing."
      ],
      "metadata": {
        "id": "L-zNRcBJA1uc"
      }
    },
    {
      "cell_type": "code",
      "source": [
        "from scipy.stats import f\n",
        "\n",
        "# Define the degrees of freedom\n",
        "dfn = 2  # degrees of freedom for the numerator\n",
        "dfd = 10  # degrees of freedom for the denominator\n",
        "\n",
        "# Generate x values for the F-distribution\n",
        "x = np.linspace(0, 5, 100)\n",
        "y = f.pdf(x, dfn, dfd)\n",
        "\n",
        "# Plot the F-distribution\n",
        "plt.plot(x, y, label=f'F-distribution (dfn={dfn}, dfd={dfd})')\n",
        "plt.title('F-distribution')\n",
        "plt.xlabel('x')\n",
        "plt.ylabel('Density')\n",
        "plt.legend()\n",
        "plt.show()"
      ],
      "metadata": {
        "colab": {
          "base_uri": "https://localhost:8080/",
          "height": 472
        },
        "id": "HUJHt2cDBFFY",
        "outputId": "01033fc2-d3d6-4440-c87d-6fc04022b615"
      },
      "execution_count": 35,
      "outputs": [
        {
          "output_type": "display_data",
          "data": {
            "text/plain": [
              "<Figure size 640x480 with 1 Axes>"
            ],
            "image/png": "[encoded data removed]"
          },
          "metadata": {}
        }
      ]
    },
    {
      "cell_type": "markdown",
      "source": [
        "## Perform a one-way ANOVA test in Python and visualize the results with boxplots to compare group means.\n"
      ],
      "metadata": {
        "id": "ENKWuxWnA3bj"
      }
    },
    {
      "cell_type": "code",
      "source": [
        "# Simulate data for three groups\n",
        "group1 = np.random.normal(50, 10, 30)\n",
        "group2 = np.random.normal(55, 10, 30)\n",
        "group3 = np.random.normal(60, 10, 30)\n",
        "\n",
        "# Perform the one-way ANOVA\n",
        "f_stat, p_value = stats.f_oneway(group1, group2, group3)\n",
        "print(f\"F-statistic: {f_stat}\")\n",
        "print(f\"P-value: {p_value}\")\n",
        "\n",
        "# Plot the boxplot to visualize the differences\n",
        "sns.boxplot(data=[group1, group2, group3])\n",
        "plt.xticks([0, 1, 2], ['Group 1', 'Group 2', 'Group 3'])\n",
        "plt.title('One-way ANOVA Comparison of Means')\n",
        "plt.show()"
      ],
      "metadata": {
        "colab": {
          "base_uri": "https://localhost:8080/",
          "height": 488
        },
        "id": "X4P4QMHgBEqq",
        "outputId": "afb76dfe-2912-4f17-9b13-d8e9dbe4090a"
      },
      "execution_count": 36,
      "outputs": [
        {
          "output_type": "stream",
          "name": "stdout",
          "text": [
            "F-statistic: 17.01367676365654\n",
            "P-value: 5.803014269670098e-07\n"
          ]
        },
        {
          "output_type": "display_data",
          "data": {
            "text/plain": [
              "<Figure size 640x480 with 1 Axes>"
            ],
            "image/png": "[encoded data removed]"
          },
          "metadata": {}
        }
      ]
    },
    {
      "cell_type": "markdown",
      "source": [
        "## Simulate random data from a normal distribution, then perform hypothesis testing to evaluate the means."
      ],
      "metadata": {
        "id": "520TW9hIA5aS"
      }
    },
    {
      "cell_type": "code",
      "source": [
        "# Simulate data from a normal distribution\n",
        "data = np.random.normal(50, 10, 100)\n",
        "\n",
        "# Hypothesis testing (one-sample t-test)\n",
        "t_stat, p_value = stats.ttest_1samp(data, 50)\n",
        "print(f\"T-statistic: {t_stat}\")\n",
        "print(f\"P-value: {p_value}\")"
      ],
      "metadata": {
        "colab": {
          "base_uri": "https://localhost:8080/"
        },
        "id": "vZ3BneZOBD05",
        "outputId": "9b478e8e-cfb0-4e9a-b03f-4584701b83d6"
      },
      "execution_count": 37,
      "outputs": [
        {
          "output_type": "stream",
          "name": "stdout",
          "text": [
            "T-statistic: -0.3666912880032194\n",
            "P-value: 0.7146318698507846\n"
          ]
        }
      ]
    },
    {
      "cell_type": "markdown",
      "source": [
        "## Perform a hypothesis test for population variance using a Chi-square distribution and interpret the results.\n"
      ],
      "metadata": {
        "id": "MDczetSQA65R"
      }
    },
    {
      "cell_type": "code",
      "source": [
        "from scipy.stats import chi2\n",
        "# Simulate data\n",
        "data = np.random.normal(100, 15, 50)\n",
        "sample_variance = np.var(data, ddof=1)\n",
        "population_variance = 225  # Hypothetical population variance\n",
        "n = len(data)\n",
        "\n",
        "# Chi-square statistic\n",
        "chi2_stat = (n - 1) * sample_variance / population_variance\n",
        "p_value = 1 - chi2.cdf(chi2_stat, df=n-1)\n",
        "\n",
        "print(f\"Chi-square Statistic: {chi2_stat}\")\n",
        "print(f\"P-value: {p_value}\")"
      ],
      "metadata": {
        "colab": {
          "base_uri": "https://localhost:8080/"
        },
        "id": "UGvw-iwuBDW_",
        "outputId": "b921efeb-319b-441f-a2fe-aa8ea6697a71"
      },
      "execution_count": 40,
      "outputs": [
        {
          "output_type": "stream",
          "name": "stdout",
          "text": [
            "Chi-square Statistic: 39.76827974579465\n",
            "P-value: 0.8238152278909943\n"
          ]
        }
      ]
    },
    {
      "cell_type": "markdown",
      "source": [
        "## Write a Python script to perform a Z-test for comparing proportions between two datasets or groups."
      ],
      "metadata": {
        "id": "7p6yO1gwA8cX"
      }
    },
    {
      "cell_type": "code",
      "source": [
        "from scipy.stats import norm\n",
        "# Simulate two datasets with binary outcomes (success/failure)\n",
        "success_1 = 50\n",
        "failure_1 = 30\n",
        "success_2 = 45\n",
        "failure_2 = 35\n",
        "\n",
        "# Proportion of successes\n",
        "p1 = success_1 / (success_1 + failure_1)\n",
        "p2 = success_2 / (success_2 + failure_2)\n",
        "\n",
        "# Z-test for proportions\n",
        "pooled_prob = (success_1 + success_2) / (success_1 + failure_1 + success_2 + failure_2)\n",
        "z_score = (p1 - p2) / np.sqrt(pooled_prob * (1 - pooled_prob) * (1 / (success_1 + failure_1) + 1 / (success_2 + failure_2)))\n",
        "p_value = 2 * (1 - norm.cdf(abs(z_score)))\n",
        "\n",
        "print(f\"Z-score: {z_score}\")\n",
        "print(f\"P-value: {p_value}\")"
      ],
      "metadata": {
        "colab": {
          "base_uri": "https://localhost:8080/"
        },
        "id": "tMGQB3wqBC_l",
        "outputId": "2c79aa1f-9288-4da7-ea27-f2c50509c226"
      },
      "execution_count": 43,
      "outputs": [
        {
          "output_type": "stream",
          "name": "stdout",
          "text": [
            "Z-score: 0.8048436365855337\n",
            "P-value: 0.42090991700510383\n"
          ]
        }
      ]
    },
    {
      "cell_type": "markdown",
      "source": [
        "## Implement an F-test for comparing the variances of two datasets, then interpret and visualize the results."
      ],
      "metadata": {
        "id": "bnbPVRobA9nz"
      }
    },
    {
      "cell_type": "code",
      "source": [
        "# Simulate two datasets\n",
        "data1 = np.random.normal(100, 15, 50)\n",
        "data2 = np.random.normal(105, 20, 50)\n",
        "\n",
        "# Perform F-test for variance comparison\n",
        "f_stat = np.var(data1, ddof=1) / np.var(data2, ddof=1)\n",
        "p_value = 1 - stats.f.cdf(f_stat, dfn=49, dfd=49)\n",
        "print(f\"F-statistic: {f_stat}\")\n",
        "print(f\"P-value: {p_value}\")\n"
      ],
      "metadata": {
        "colab": {
          "base_uri": "https://localhost:8080/"
        },
        "id": "CfbO6s6bBCrj",
        "outputId": "c4159ab7-e4f9-4bf9-e3dd-18ce2185e104"
      },
      "execution_count": 44,
      "outputs": [
        {
          "output_type": "stream",
          "name": "stdout",
          "text": [
            "F-statistic: 0.39512802616639325\n",
            "P-value: 0.9992591277106435\n"
          ]
        }
      ]
    },
    {
      "cell_type": "markdown",
      "source": [
        "## Perform a Chi-square test for goodness of fit with simulated data and analyze the results."
      ],
      "metadata": {
        "id": "o0S9TvvvBAEz"
      }
    },
    {
      "cell_type": "code",
      "source": [
        "# Simulate data for a goodness-of-fit test\n",
        "observed = np.array([12, 18, 10, 15, 20])\n",
        "expected = np.array([15, 15, 15, 15, 15])\n",
        "\n",
        "# Perform the Chi-square goodness-of-fit test\n",
        "chi2_stat, p_value = stats.chisquare(observed, expected)\n",
        "print(f\"Chi-square Statistic: {chi2_stat}\")\n",
        "print(f\"P-value: {p_value}\")"
      ],
      "metadata": {
        "colab": {
          "base_uri": "https://localhost:8080/"
        },
        "id": "QpapzqYmBBt2",
        "outputId": "1ac89b2b-a6be-47fa-86fd-dc1a016aa74f"
      },
      "execution_count": 45,
      "outputs": [
        {
          "output_type": "stream",
          "name": "stdout",
          "text": [
            "Chi-square Statistic: 4.533333333333333\n",
            "P-value: 0.3386132867976577\n"
          ]
        }
      ]
    }
  ]
}